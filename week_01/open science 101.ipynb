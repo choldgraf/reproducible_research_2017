{
 "cells": [
  {
   "cell_type": "markdown",
   "metadata": {
    "toc": "true"
   },
   "source": [
    "# Table of Contents\n",
    " <p><div class=\"lev1\"><a href=\"#Open-science-101\">Open science 101</a></div><div class=\"lev2\"><a href=\"#Note-on-these-materials\">Note on these materials</a></div><div class=\"lev1\"><a href=\"#What-does-open-science-mean?\">What does open science mean?</a></div><div class=\"lev1\"><a href=\"#The-lifecycle-of-a-project\">The lifecycle of a project</a></div><div class=\"lev2\"><a href=\"#Where-this-cycle-can-go-wrong...\">Where this cycle can go wrong...</a></div><div class=\"lev2\"><a href=\"#Where-does-data-reproducibility-fit-in?\">Where does data reproducibility fit in?</a></div><div class=\"lev1\"><a href=\"#The-open-science-ecosystem.\">The open-science ecosystem.</a></div><div class=\"lev2\"><a href=\"#Sharing-and-publishing-your-work\">Sharing and publishing your work</a></div><div class=\"lev2\"><a href=\"#Storing-larger-datasets\">Storing larger datasets</a></div><div class=\"lev2\"><a href=\"#Analyzing-your-data-effectively\">Analyzing your data effectively</a></div><div class=\"lev2\"><a href=\"#Open-source-languages\">Open-source languages</a></div><div class=\"lev2\"><a href=\"#Other-key-tools-in-open-science\">Other key tools in open-science</a></div><div class=\"lev1\"><a href=\"#Organizations-and-resources-in-open-science\">Organizations and resources in open-science</a></div><div class=\"lev2\"><a href=\"#Software-Carpentry\"><a href=\"https://software-carpentry.org/\" target=\"_blank\">Software Carpentry</a></a></div><div class=\"lev2\"><a href=\"#Data-Carpentry\"><a href=\"http://www.datacarpentry.org/\" target=\"_blank\">Data Carpentry</a></a></div><div class=\"lev2\"><a href=\"#On-Berkeley's-campus\">On Berkeley's campus</a></div><div class=\"lev1\"><a href=\"#Where-to-go-from-here?\">Where to go from here?</a></div><div class=\"lev2\"><a href=\"#A-quick-primer-on-jupyter\"><a href=\"extras/Jupyter_Intro_Background.ipynb\" target=\"_blank\">A quick primer on jupyter</a></a></div><div class=\"lev2\"><a href=\"#Intro-to-scientific-python\"><a href=\"extras/scientific python.ipynb\" target=\"_blank\">Intro to scientific python</a></a></div>"
   ]
  },
  {
   "cell_type": "markdown",
   "metadata": {
    "slideshow": {
     "slide_type": "slide"
    }
   },
   "source": [
    "# Open science 101\n",
    "\n",
    "Today we will cover the broad communities and tools at your disposal for collecting, managing, and analyzing your data in a sensible manner. These are all prerequisites for making your work reproducible - fortunately, they also let you do things much more efficiently and effectively."
   ]
  },
  {
   "cell_type": "markdown",
   "metadata": {
    "slideshow": {
     "slide_type": "subslide"
    }
   },
   "source": [
    "## Note on these materials\n",
    "This stuff is written using a tool called \"jupyter notebooks\". They're a way of integrating narrative-style prose with code. It's one of the many tools in the open-science ecosystem that we'll talk about. They're all incredibly useful, and important for making your work more reproducible. There will be more information about this later."
   ]
  },
  {
   "cell_type": "markdown",
   "metadata": {
    "slideshow": {
     "slide_type": "subslide"
    }
   },
   "source": [
    "# What does open science mean?\n",
    "That's a tough question, as the field is changing all the time. **Open science** means doing work that is:"
   ]
  },
  {
   "cell_type": "markdown",
   "metadata": {
    "slideshow": {
     "slide_type": "fragment"
    }
   },
   "source": [
    "* Easy to discover\n",
    "\n",
    "* Easy to understand\n",
    "\n",
    "* Easy to replicate\n",
    "\n",
    "* Easy to build off of"
   ]
  },
  {
   "cell_type": "markdown",
   "metadata": {
    "slideshow": {
     "slide_type": "fragment"
    }
   },
   "source": [
    "At its core, open science is about refining the process of science itself so that it is more efficient and useful for the broader community."
   ]
  },
  {
   "cell_type": "code",
   "execution_count": null,
   "metadata": {
    "collapsed": true,
    "slideshow": {
     "slide_type": "skip"
    }
   },
   "outputs": [],
   "source": [
    "\n",
    "\n",
    "\n",
    "\n"
   ]
  },
  {
   "cell_type": "markdown",
   "metadata": {
    "slideshow": {
     "slide_type": "slide"
    }
   },
   "source": [
    "# The lifecycle of a project\n",
    "Any project moves in cycles and science is no different.\n",
    "\n",
    "In fact, understanding the cycle of science - and where it can go awry - is a crucial part of calling yourself a scientist. Here's a really high-level view of what happens in any scientific paper:"
   ]
  },
  {
   "cell_type": "markdown",
   "metadata": {
    "slideshow": {
     "slide_type": "subslide"
    }
   },
   "source": [
    "1. Be interested in something\n",
    "1. Read the literature\n",
    "1. Plan an experiment\n",
    "1. Conduct the experiment / collect the data\n",
    "1. Store and catalogue the data\n",
    "1. Analyze the data\n",
    "1. Refine the analysis\n",
    "1. Write up the results"
   ]
  },
  {
   "cell_type": "markdown",
   "metadata": {
    "slideshow": {
     "slide_type": "subslide"
    }
   },
   "source": [
    "Embedded in this straightforward list are a number of feedback loops, where you move back a few steps and repeat a step using the knowledge that you've gained thus far."
   ]
  },
  {
   "cell_type": "markdown",
   "metadata": {
    "slideshow": {
     "slide_type": "fragment"
    }
   },
   "source": [
    "At its core, open science is about improving this process."
   ]
  },
  {
   "cell_type": "markdown",
   "metadata": {
    "slideshow": {
     "slide_type": "subslide"
    }
   },
   "source": [
    "## Where this cycle can go wrong...\n",
    "It turns out there are a lot of ways that the steps above run really inefficiently right now. For example:"
   ]
  },
  {
   "cell_type": "markdown",
   "metadata": {
    "slideshow": {
     "slide_type": "subslide"
    }
   },
   "source": [
    "** Sharing Knowledge**\n",
    "* Be interested in something <span style=\"color:red\"><-- Scientists aren't well-trained in communication skills, making it difficult for people to connect with their ideas.</span>\n",
    "\n",
    "* Read the literature  <span style=\"color:red\"><-- Reading the literature is difficult if you're not at a university that pays large licensing fees.</span>\n",
    "\n",
    "* Planning and conducting an experiment  <span style=\"color:red\"><-- details on exactly how an experiment are often incomplete, and only describe the one experiment that worked.</span>"
   ]
  },
  {
   "cell_type": "markdown",
   "metadata": {
    "slideshow": {
     "slide_type": "subslide"
    }
   },
   "source": [
    "** Working with your data**\n",
    "* Storing and cataloging the data  <span style=\"color:red\"><-- Most scientists get zero formal training on how to structure and store data.</span>\n",
    "\n",
    "* Analyze the data  <span style=\"color:red\"><-- On that note, most scientists also aren't given any formal training in data analysis.</span>\n",
    "\n",
    "* Refine the analysis  <span style=\"color:red\"><-- Running one analysis is hard enough, it's harder to incorporate this into a broader cycle that asks questions using data.</span>\n",
    "\n",
    "* Sharing your results  <span style=\"color:red\"><-- Some results just don't make sense as a journal article, but this is the only method we have for sharing results.</span>"
   ]
  },
  {
   "cell_type": "markdown",
   "metadata": {
    "slideshow": {
     "slide_type": "subslide"
    }
   },
   "source": [
    "Open science tries to address many of the problems described above. It does this by ensuring that the fruits of our labor are as discoverable, understandable, and useful as possible."
   ]
  },
  {
   "cell_type": "markdown",
   "metadata": {
    "slideshow": {
     "slide_type": "slide"
    }
   },
   "source": [
    "## Where does data reproducibility fit in?\n",
    "\n",
    "It turns out that doing data reproducibly has a lot of overlap with doing science openly and effectively."
   ]
  },
  {
   "cell_type": "markdown",
   "metadata": {
    "slideshow": {
     "slide_type": "subslide"
    }
   },
   "source": [
    "### The Four Facets of reproducibility:\n",
    "* **Documentation**: note the difference between binary files (e.g. docx) and .txt files and why text files are preferred for documentation.\n",
    "* **Organization**: tools to organize your projects so that you don’t have a single folder with hundreds of files.\n",
    "* **Automation**: the power of scripting to create automated data analyses.\n",
    "* **Dissemination**: publishing is not the end of your analysis, rather it is a way station towards your future research and the future research of others."
   ]
  },
  {
   "cell_type": "markdown",
   "metadata": {
    "slideshow": {
     "slide_type": "subslide"
    }
   },
   "source": [
    "### The basic unit of science is data\n",
    "\n",
    "Nowadays, doing your science openly, reproducibly, and efficiently means getting a set of skills **with data and computers** that is not part of the traditional scientific education.\n",
    "\n",
    "The benefit to you is that doing science reproducibly will also make your science more efficient and effective."
   ]
  },
  {
   "cell_type": "markdown",
   "metadata": {
    "slideshow": {
     "slide_type": "fragment"
    }
   },
   "source": [
    "**These lectures will focus on the iterative process of analyzing and understanding your data.**"
   ]
  },
  {
   "cell_type": "code",
   "execution_count": null,
   "metadata": {
    "collapsed": true,
    "slideshow": {
     "slide_type": "skip"
    }
   },
   "outputs": [],
   "source": [
    "\n",
    "\n",
    "\n",
    "\n"
   ]
  },
  {
   "cell_type": "markdown",
   "metadata": {
    "slideshow": {
     "slide_type": "slide"
    }
   },
   "source": [
    "# The open-science ecosystem.\n",
    "\n",
    "This is a quick run-down of the big players in the world of open-science. It'll cover the high-level concepts and we can dive into the details later. We'll see how each of these fit into the scientific workflow we discussed above.\n",
    "\n",
    "It's broken down into two main sections:\n",
    "\n",
    "* **Sharing and publishing work**\n",
    "* **Analyzing data effectively**"
   ]
  },
  {
   "cell_type": "markdown",
   "metadata": {
    "slideshow": {
     "slide_type": "slide"
    }
   },
   "source": [
    "## Sharing and publishing your work\n",
    "\n",
    "This broadly covers how we learn about the scientific ideas that are out there, and how we build upon those ideas in order to produce new science."
   ]
  },
  {
   "cell_type": "markdown",
   "metadata": {
    "slideshow": {
     "slide_type": "subslide"
    }
   },
   "source": [
    "### The publishing industry and the Open Access movement\n",
    "\n",
    "Reproducible science means accessible science. While we all treat this as a given, most of science exists behind publisher paywalls that prevent you from accessing the fruits of our labor.\n",
    "\n",
    "In recent years we have seen growth in the number of journals that offer \"Open Access\" material. This means that the readers aren't the ones paying for the content. You don't need to be behind a paywall in order to access this content.\n",
    "\n",
    "<img src=\"https://upload.wikimedia.org/wikipedia/commons/thumb/2/25/Open_Access_logo_PLoS_white.svg/640px-Open_Access_logo_PLoS_white.svg.png\" style=\"margin: 0 auto; width: 10%\">"
   ]
  },
  {
   "cell_type": "markdown",
   "metadata": {
    "slideshow": {
     "slide_type": "subslide"
    }
   },
   "source": [
    "Here are some big open access players:\n",
    "\n",
    "**Higher-end journals**\n",
    "* PLOS-XXX journals, e.g., [PLOS Biology](http://journals.plos.org/plosbiology/)\n",
    "* [eLife](https://elifesciences.org/)\n",
    "* [Nature Communications](http://www.nature.com/ncomms/)\n",
    "\n",
    "**Other OA journals**\n",
    "* [peerj](https://peerj.com/)\n",
    "* [Frontiers](http://www.frontiersin.org/)\n",
    "* [PLOS ONE](http://journals.plos.org/plosone/)"
   ]
  },
  {
   "cell_type": "markdown",
   "metadata": {
    "slideshow": {
     "slide_type": "subslide"
    }
   },
   "source": [
    "### Pre-print servers\n",
    "\n",
    "A more recent shift has come in the world of pre-print servers. These offer a website where you can post articles **before** they're peer-reviewed. Among other things, this gives you benefits like:"
   ]
  },
  {
   "cell_type": "markdown",
   "metadata": {
    "slideshow": {
     "slide_type": "fragment"
    }
   },
   "source": [
    "* You're less worried of being scooped while your article is in peer-review.\n",
    "* Your work is immediately (and freely) available to others\n",
    "* You get feedback on your article and improve it before a final submission\n",
    "* You get a better idea for what the journal does to improve the paper."
   ]
  },
  {
   "cell_type": "markdown",
   "metadata": {
    "slideshow": {
     "slide_type": "subslide"
    }
   },
   "source": [
    "**The most commmon preprint server in our field is [biorxiv](http://biorxiv.org/)**\n",
    "\n",
    "![](images/biorxiv.png)"
   ]
  },
  {
   "cell_type": "markdown",
   "metadata": {
    "slideshow": {
     "slide_type": "subslide"
    }
   },
   "source": [
    "### Publishing data or code\n",
    "\n",
    "Papers have always been the dominant currency in science, but they are often a poor way to share scientific results.\n",
    "\n",
    "For example, it's becoming more common for data to be made available with a paper. Where do you put it? What about the code used to analyze the data?"
   ]
  },
  {
   "cell_type": "markdown",
   "metadata": {
    "slideshow": {
     "slide_type": "subslide"
    }
   },
   "source": [
    "There currently isn't a single solution to this problem, but this landscape is changing very quickly. For example,\n",
    "\n",
    "* [Binder](http://mybinder.org) allows you to create a live, interactive computing environment using a repository of code you store on github. (see [the LIGO binder](http://mybinder.org/repo/minrk/ligo-binder/notebooks/GW150914_tutorial.ipynb) for example).\n",
    "* [Figshare](https://figshare.com/) allows you to deposit data, figures, and code.\n",
    "* [Github](https://github.com) is the best place to store code so that others can use it.\n",
    "\n",
    "<img src=\"https://12hoy26budd28l29v3kl2fq1-wpengine.netdna-ssl.com/wp-content/uploads/2015/02/logo-figshare.png\" style=\"height: 150px; margin: 0 30%\">\n",
    "<img src=\"https://assets-cdn.github.com/images/modules/logos_page/GitHub-Logo.png\" style=\"float: left; height: 100px; margin: 0 30%\">\n"
   ]
  },
  {
   "cell_type": "markdown",
   "metadata": {
    "slideshow": {
     "slide_type": "subslide"
    }
   },
   "source": [
    "## Storing larger datasets\n",
    "* The [CRCNS repository](http://crcns.org) will let you deposit your data and share it with others.\n",
    "* There are also domain-specific repositories such as [openfmri](https://openfmri.org/)\n",
    "\n",
    "\n",
    "<img src=\"images/crcns.png\"/>"
   ]
  },
  {
   "cell_type": "markdown",
   "metadata": {
    "slideshow": {
     "slide_type": "slide"
    }
   },
   "source": [
    "## Analyzing your data effectively\n",
    "\n",
    "Once you've run an experiment and collected some data (or downloaded an open dataset to play around with), you need to start analyzing that data.\n",
    "\n",
    "The traditional graduate education doesn't include much training in these methods, but there are many organizations and materials out there to help you improve. It's what the rest of these lectures will focus on."
   ]
  },
  {
   "cell_type": "markdown",
   "metadata": {
    "slideshow": {
     "slide_type": "subslide"
    }
   },
   "source": [
    "## Open-source languages\n",
    "\n",
    "While we have many tools for storing and analyzing our data, you should use the tools that leverage an open-source language. The open-source community shares many of the same principles that science does, and in the last decade we have seen a rapid movement away from closed languages such as Matlab and SPSS towards their open-source counterparts."
   ]
  },
  {
   "cell_type": "markdown",
   "metadata": {
    "slideshow": {
     "slide_type": "subslide"
    }
   },
   "source": [
    "Fortunately, open source languages are generally **more powerful**, **more flexible**, and **more useful outside of science**. For these reasons alone you should start your scientific career working with an OS language. The fact that you get all of these tools for free (and can freely share them with others) is icing on the cake."
   ]
  },
  {
   "cell_type": "markdown",
   "metadata": {
    "slideshow": {
     "slide_type": "subslide"
    }
   },
   "source": [
    "The two most common open-source languages for scientific analysis are:\n",
    "\n",
    "* **R** - which is designed for statistical analysis. It is lightweight and fast to get working, especially with the excellent [RStudio](https://www.rstudio.com/) software. It also has some beautiful visualization capabilities using the [ggplot](http://ggplot2.org/) library.\n",
    "* **Python** - which is a general computing language with a **lot** of data analytic packages built for it. Python has a steeper learning curve but is more flexible (and ultimately more generally utilized) than R."
   ]
  },
  {
   "cell_type": "markdown",
   "metadata": {
    "slideshow": {
     "slide_type": "subslide"
    }
   },
   "source": [
    "**These materials will focus on Python**. While any open-source language is fine, I've found python to be the most flexible and promising in looking towards the future. We'll go over a few pieces of the python ecosystem now (though again, I don't care what language you use as long as it's open).\n",
    "\n",
    "![](https://www.ibm.com/developerworks/community/blogs/jfp/resource/BLOGS_UPLOADED_IMAGES/trends0.png)"
   ]
  },
  {
   "cell_type": "markdown",
   "metadata": {
    "slideshow": {
     "slide_type": "subslide"
    }
   },
   "source": [
    "**A quick note on Matlab**: I know many of you are thinking \"where does Matlab fit into all of this?\". That's a complicated question. Matlab is decidedly *not* an open-source language. It was built as a linear algebra engine many years ago, and has grown in size and scope over the years. There are a *ton* of great packages that people have built for matlab, but you still need to pay many thousands of dollars for a license to use the language. If you want a more future-proof skillset, an open-source language is the way to go."
   ]
  },
  {
   "cell_type": "markdown",
   "metadata": {
    "slideshow": {
     "slide_type": "subslide"
    }
   },
   "source": [
    "## Other key tools in open-science\n",
    "On top of the scientific python world there are a number of other key tools you'll find useful. These include:"
   ]
  },
  {
   "cell_type": "markdown",
   "metadata": {
    "slideshow": {
     "slide_type": "fragment"
    }
   },
   "source": [
    "* **bash** for interacting with your computer's filesystem, doing things when you don't have a GUI, and basically doing anything when you're not in another language like python or R.\n",
    "* **git** for keeping track of how your code and analyses change over time.\n",
    "* **jupyter** for managing your projects and workflows, and doing all kinds of other things with your data.\n",
    "* **Markdown**, **Latex**, and other text-based markup formats for making machine-readable code."
   ]
  },
  {
   "cell_type": "code",
   "execution_count": null,
   "metadata": {
    "collapsed": true,
    "slideshow": {
     "slide_type": "skip"
    }
   },
   "outputs": [],
   "source": [
    "\n",
    "\n",
    "\n",
    "\n",
    "\n",
    "\n",
    "\n"
   ]
  },
  {
   "cell_type": "markdown",
   "metadata": {
    "slideshow": {
     "slide_type": "slide"
    }
   },
   "source": [
    "# Organizations and resources in open-science\n",
    "\n",
    "Many of these skills take a lot of time and energy to properly learn. Fortunately, there are a lot of organizations out there dedicated to helping you out. This is especially true at Berkeley, which is one of the focal points of the open science movement."
   ]
  },
  {
   "cell_type": "markdown",
   "metadata": {
    "slideshow": {
     "slide_type": "subslide"
    }
   },
   "source": [
    "## [Software Carpentry](https://software-carpentry.org/)\n",
    "<img src=\"https://software-carpentry.org/img/software-carpentry-banner.png\" style=\"width: 400px\">\n",
    "\n",
    "* Basic software and coding principles\n",
    "* Core languages like Bash, Git, Python, R\n",
    "* Focus on software skills"
   ]
  },
  {
   "cell_type": "markdown",
   "metadata": {
    "slideshow": {
     "slide_type": "subslide"
    }
   },
   "source": [
    "## [Data Carpentry](http://www.datacarpentry.org/)\n",
    "<img src=\"https://www.software.ac.uk/sites/default/files/images/content/DC1_logo.jpg\" style=\"width: 400px\">\n",
    "\n",
    "* More data-centric\n",
    "* More domain-specific\n",
    "* Analytic and \"best practices\" in data management\n"
   ]
  },
  {
   "cell_type": "markdown",
   "metadata": {
    "slideshow": {
     "slide_type": "subslide"
    }
   },
   "source": [
    "## On Berkeley's campus"
   ]
  },
  {
   "cell_type": "markdown",
   "metadata": {
    "slideshow": {
     "slide_type": "fragment"
    }
   },
   "source": [
    "* The [D-Lab](http://dlab.berkeley.edu/) - workshops, training, working groups\n",
    "* The [Berkeley Institute for Data Science](https://bids.berkeley.edu/) - Consulting and project help, events, lectures\n",
    "* The [Berkeley Data Science Education Initiative](http://data.berkeley.edu/) - For upcoming classes in data science"
   ]
  },
  {
   "cell_type": "markdown",
   "metadata": {
    "collapsed": true,
    "slideshow": {
     "slide_type": "slide"
    }
   },
   "source": [
    "# Where to go from here?\n",
    "The next two lectures will emphasize the data analytic parts of this process. This means deciding how you'll structure your data, deciding how to analyze it, and deciding where to go from there.\n",
    "\n",
    "* **Week 2** will focus on data management, structuring your data, and managing your analysis workflow\n",
    "* **Week 3** will focus on data analysis and statistics, as well as visualization"
   ]
  },
  {
   "cell_type": "markdown",
   "metadata": {},
   "source": [
    "## [A quick primer on jupyter](extras/Jupyter_Intro_Background.ipynb)\n",
    "Describes the Jupyter ecosystem and how it can help you improve your work.\n",
    "\n",
    "## [Intro to scientific python](extras/scientific python.ipynb)\n",
    "has a short introduction to using python within jupyter notebooks. It will get you up and running, and we can dive into more detail in the next class.\n"
   ]
  },
  {
   "cell_type": "code",
   "execution_count": null,
   "metadata": {
    "collapsed": true
   },
   "outputs": [],
   "source": []
  }
 ],
 "metadata": {
  "anaconda-cloud": {},
  "celltoolbar": "Slideshow",
  "kernelspec": {
   "display_name": "Python 3",
   "language": "python",
   "name": "python3"
  },
  "language_info": {
   "codemirror_mode": {
    "name": "ipython",
    "version": 3
   },
   "file_extension": ".py",
   "mimetype": "text/x-python",
   "name": "python",
   "nbconvert_exporter": "python",
   "pygments_lexer": "ipython3",
   "version": "3.6.0"
  },
  "livereveal": {
   "progress": true,
   "scroll": true,
   "start_slideshow_at": "selected"
  },
  "toc": {
   "toc_cell": true,
   "toc_number_sections": false,
   "toc_section_display": "none",
   "toc_threshold": "2",
   "toc_window_display": false
  },
  "toc_position": {
   "height": "235px",
   "left": "1156.68px",
   "right": "20px",
   "top": "125.969px",
   "width": "420px"
  }
 },
 "nbformat": 4,
 "nbformat_minor": 2
}
