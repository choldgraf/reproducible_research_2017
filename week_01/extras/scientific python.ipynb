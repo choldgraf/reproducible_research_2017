{
 "cells": [
  {
   "cell_type": "markdown",
   "metadata": {
    "toc": "true"
   },
   "source": [
    "# Table of Contents\n",
    " <p><div class=\"lev1\"><a href=\"#Overview\">Overview</a></div><div class=\"lev2\"><a href=\"#Installing-python\">Installing python</a></div><div class=\"lev1\"><a href=\"#Foundations\">Foundations</a></div><div class=\"lev2\"><a href=\"#Numpy\">Numpy</a></div><div class=\"lev2\"><a href=\"#Pandas\">Pandas</a></div><div class=\"lev2\"><a href=\"#Matplotlib\">Matplotlib</a></div><div class=\"lev2\"><a href=\"#This-is-only-the-tip-of-the-iceberg\">This is only the tip of the iceberg</a></div>"
   ]
  },
  {
   "cell_type": "markdown",
   "metadata": {},
   "source": [
    "# Overview\n",
    "Python is an open-source language that is used for all kinds of things. One of those things is data analysis and scientific computing. We'll use python in these classes to analyze our data.\n",
    "\n",
    "## Installing python\n",
    "For more information about installing python, see [this notebook](installation.ipynb)"
   ]
  },
  {
   "cell_type": "markdown",
   "metadata": {
    "slideshow": {
     "slide_type": "slide"
    }
   },
   "source": [
    "# Foundations"
   ]
  },
  {
   "cell_type": "markdown",
   "metadata": {
    "slideshow": {
     "slide_type": "subslide"
    }
   },
   "source": [
    "## Numpy\n",
    "The reason that python is so useful is that it is a completely general computer language - it makes no commitments to particular use cases such as data analysis. This actually creates a drawback: it means we need to define what it means to \"analyze data\" from first principles within the language. For example, how do you take the dot product between two vectors of numbers when your language doesn't know what a vector is?"
   ]
  },
  {
   "cell_type": "code",
   "execution_count": 2,
   "metadata": {
    "slideshow": {
     "slide_type": "fragment"
    }
   },
   "outputs": [
    {
     "ename": "TypeError",
     "evalue": "can't multiply sequence by non-int of type 'list'",
     "output_type": "error",
     "traceback": [
      "\u001b[0;31m---------------------------------------------------------------------------\u001b[0m",
      "\u001b[0;31mTypeError\u001b[0m                                 Traceback (most recent call last)",
      "\u001b[0;32m<ipython-input-2-11632e938f4e>\u001b[0m in \u001b[0;36m<module>\u001b[0;34m()\u001b[0m\n\u001b[0;32m----> 1\u001b[0;31m \u001b[0;34m[\u001b[0m\u001b[0;36m2\u001b[0m\u001b[0;34m,\u001b[0m \u001b[0;36m3\u001b[0m\u001b[0;34m]\u001b[0m \u001b[0;34m*\u001b[0m \u001b[0;34m[\u001b[0m\u001b[0;36m5\u001b[0m\u001b[0;34m,\u001b[0m \u001b[0;36m2\u001b[0m\u001b[0;34m]\u001b[0m\u001b[0;34m\u001b[0m\u001b[0m\n\u001b[0m",
      "\u001b[0;31mTypeError\u001b[0m: can't multiply sequence by non-int of type 'list'"
     ]
    }
   ],
   "source": [
    "[2, 3] * [5, 2]"
   ]
  },
  {
   "cell_type": "markdown",
   "metadata": {
    "slideshow": {
     "slide_type": "subslide"
    }
   },
   "source": [
    "**Numpy** solves many of these problems for us, as it defines a framework that gives us basically the entire field of linear algebra. It turns out that you can do most any computation you need with this as a starting point, and almost all scientific analysis packages in python are written using numpy under the hood."
   ]
  },
  {
   "cell_type": "code",
   "execution_count": 3,
   "metadata": {
    "slideshow": {
     "slide_type": "fragment"
    }
   },
   "outputs": [
    {
     "data": {
      "text/plain": [
       "16"
      ]
     },
     "execution_count": 3,
     "metadata": {},
     "output_type": "execute_result"
    }
   ],
   "source": [
    "import numpy as np\n",
    "a = np.array([2, 3])\n",
    "b = np.array([5, 2])\n",
    "np.dot(a, b)"
   ]
  },
  {
   "cell_type": "code",
   "execution_count": 29,
   "metadata": {
    "slideshow": {
     "slide_type": "subslide"
    }
   },
   "outputs": [
    {
     "data": {
      "text/plain": [
       "array([[ 0.74126387, -0.85688111],\n",
       "       [ 0.14525749,  0.21293726],\n",
       "       [ 1.20032991,  0.02189567],\n",
       "       [ 0.56075893, -0.28632335],\n",
       "       [ 1.1284969 , -0.9706029 ],\n",
       "       [-1.84774111, -0.66725408],\n",
       "       [-1.01636587, -2.58091762],\n",
       "       [ 0.87099596,  1.03043336],\n",
       "       [-0.28692299,  0.18869783],\n",
       "       [-1.12880515, -1.19423452],\n",
       "       [ 0.61541096,  0.8801069 ],\n",
       "       [-0.37158654, -0.06223761],\n",
       "       [-1.41431579,  0.45350389],\n",
       "       [-0.9733131 , -0.17509875],\n",
       "       [ 0.05711075,  0.07733592],\n",
       "       [ 2.07257157,  0.56728825],\n",
       "       [-1.07219343, -0.82532521],\n",
       "       [ 0.61687949, -0.29228152],\n",
       "       [-2.50040099,  0.86634148],\n",
       "       [ 1.16099551, -0.47731352],\n",
       "       [-0.78023848, -0.89902841],\n",
       "       [-0.28481985, -0.08877309],\n",
       "       [ 0.15490911, -0.78361311],\n",
       "       [ 0.72890804, -0.07186016],\n",
       "       [ 1.60357843,  1.13879594],\n",
       "       [-0.94575596,  2.4849237 ],\n",
       "       [ 0.22368345,  1.75135338],\n",
       "       [-0.1297916 ,  1.80202396],\n",
       "       [ 0.72848818,  3.0316049 ],\n",
       "       [-0.97026072, -0.17677089],\n",
       "       [-1.78679119, -0.10793971],\n",
       "       [-0.62222316, -0.42392293],\n",
       "       [ 0.01158064,  0.25582282],\n",
       "       [-0.3682899 , -0.536372  ],\n",
       "       [-0.08904966, -1.13350283],\n",
       "       [-0.57519142,  0.68517946],\n",
       "       [-2.31177389, -1.18535916],\n",
       "       [-0.69484263, -1.00696049],\n",
       "       [ 0.47713345,  0.34916824],\n",
       "       [ 0.62681023,  0.91638427],\n",
       "       [ 1.55594595,  0.51154113],\n",
       "       [-1.37162279, -1.20839165],\n",
       "       [ 0.61703257,  0.65355673],\n",
       "       [-0.09815748, -1.00710366],\n",
       "       [-0.10744991,  0.12571355],\n",
       "       [ 0.97726837,  0.06526279],\n",
       "       [ 0.25019582,  1.23146607],\n",
       "       [ 1.10071805,  1.07462118],\n",
       "       [ 1.0077769 ,  2.3925288 ],\n",
       "       [ 1.08041313,  1.1279118 ],\n",
       "       [ 1.98408063,  1.51083524],\n",
       "       [ 0.44948945,  0.31908046],\n",
       "       [-1.67291112, -1.76509475],\n",
       "       [ 0.55650162,  0.62232426],\n",
       "       [-0.9023453 , -0.01904003],\n",
       "       [-0.44219696, -0.80987636],\n",
       "       [-1.87088369, -1.26021308],\n",
       "       [-0.74508062, -0.94363984],\n",
       "       [ 0.10396595, -0.10978988],\n",
       "       [ 0.53631419, -0.70027966],\n",
       "       [ 0.15760177,  0.15121459],\n",
       "       [-0.84665203,  0.29647266],\n",
       "       [-1.15358535, -1.49111993],\n",
       "       [ 1.50339625,  1.14055909],\n",
       "       [ 1.55890685,  0.55476098],\n",
       "       [-0.34630364,  0.01112189],\n",
       "       [ 0.64620462,  0.04633989],\n",
       "       [-0.65527744, -1.13978722],\n",
       "       [ 0.60491659,  1.03787272],\n",
       "       [-1.41071712,  0.43577119],\n",
       "       [ 0.78645509, -0.01623222],\n",
       "       [ 1.33601946,  0.39875625],\n",
       "       [ 1.4527068 ,  0.21154954],\n",
       "       [-1.29906386, -1.36817046],\n",
       "       [ 0.43097478,  0.52346541],\n",
       "       [-2.12668572, -1.78082956],\n",
       "       [-0.66791718, -0.53233288],\n",
       "       [ 1.59933758,  1.32302008],\n",
       "       [ 0.41655564, -0.38883551],\n",
       "       [-0.55977505, -0.13824794],\n",
       "       [ 1.13450983, -0.76105856],\n",
       "       [ 1.94100223,  0.28671076],\n",
       "       [ 0.90487799,  1.02166784],\n",
       "       [ 1.48641742, -1.22643762],\n",
       "       [-0.61353547,  1.82857108],\n",
       "       [ 0.41092623,  0.28009547],\n",
       "       [-0.04927328, -0.30326106],\n",
       "       [ 2.26894516,  0.36678277],\n",
       "       [-0.34573997,  0.54996531],\n",
       "       [-1.14696844, -2.09601957],\n",
       "       [-0.8199127 ,  1.5099485 ],\n",
       "       [-0.33998487,  0.05139934],\n",
       "       [ 0.67549811, -1.41409379],\n",
       "       [ 2.61287712,  0.55114323],\n",
       "       [-1.92611141, -0.32717369],\n",
       "       [-0.67974676,  0.06357387],\n",
       "       [-0.58680488,  0.85122254],\n",
       "       [ 0.45786847,  2.49986166],\n",
       "       [-0.71324464,  1.10772666],\n",
       "       [-0.07378367, -0.50130986]])"
      ]
     },
     "execution_count": 29,
     "metadata": {},
     "output_type": "execute_result"
    }
   ],
   "source": [
    "# numpy has many of the basic numeric methods that we'd expect to use:\n",
    "a = np.random.randn(100)\n",
    "b = .3 * a + np.random.randn(100)\n",
    "c = np.column_stack([a, b])\n",
    "c"
   ]
  },
  {
   "cell_type": "markdown",
   "metadata": {
    "slideshow": {
     "slide_type": "subslide"
    }
   },
   "source": [
    "## Pandas\n",
    "Pandas is a relative newcomer to scientific python, but it is extremely valuable in analyzing data. The reason for this is that it lets you embed information *about* your data along with the data itself. Pandas has a steep learning curve, but it is worth the time to figure it out. For example, we can now label data."
   ]
  },
  {
   "cell_type": "code",
   "execution_count": 30,
   "metadata": {
    "scrolled": false,
    "slideshow": {
     "slide_type": "fragment"
    }
   },
   "outputs": [
    {
     "data": {
      "text/html": [
       "<div>\n",
       "<table border=\"1\" class=\"dataframe\">\n",
       "  <thead>\n",
       "    <tr style=\"text-align: right;\">\n",
       "      <th></th>\n",
       "      <th>cell a</th>\n",
       "      <th>cell b</th>\n",
       "    </tr>\n",
       "    <tr>\n",
       "      <th>session</th>\n",
       "      <th></th>\n",
       "      <th></th>\n",
       "    </tr>\n",
       "  </thead>\n",
       "  <tbody>\n",
       "    <tr>\n",
       "      <th>0</th>\n",
       "      <td>0.741264</td>\n",
       "      <td>-0.856881</td>\n",
       "    </tr>\n",
       "    <tr>\n",
       "      <th>1</th>\n",
       "      <td>0.145257</td>\n",
       "      <td>0.212937</td>\n",
       "    </tr>\n",
       "    <tr>\n",
       "      <th>2</th>\n",
       "      <td>1.200330</td>\n",
       "      <td>0.021896</td>\n",
       "    </tr>\n",
       "    <tr>\n",
       "      <th>3</th>\n",
       "      <td>0.560759</td>\n",
       "      <td>-0.286323</td>\n",
       "    </tr>\n",
       "    <tr>\n",
       "      <th>4</th>\n",
       "      <td>1.128497</td>\n",
       "      <td>-0.970603</td>\n",
       "    </tr>\n",
       "    <tr>\n",
       "      <th>5</th>\n",
       "      <td>-1.847741</td>\n",
       "      <td>-0.667254</td>\n",
       "    </tr>\n",
       "    <tr>\n",
       "      <th>6</th>\n",
       "      <td>-1.016366</td>\n",
       "      <td>-2.580918</td>\n",
       "    </tr>\n",
       "    <tr>\n",
       "      <th>7</th>\n",
       "      <td>0.870996</td>\n",
       "      <td>1.030433</td>\n",
       "    </tr>\n",
       "    <tr>\n",
       "      <th>8</th>\n",
       "      <td>-0.286923</td>\n",
       "      <td>0.188698</td>\n",
       "    </tr>\n",
       "    <tr>\n",
       "      <th>9</th>\n",
       "      <td>-1.128805</td>\n",
       "      <td>-1.194235</td>\n",
       "    </tr>\n",
       "    <tr>\n",
       "      <th>10</th>\n",
       "      <td>0.615411</td>\n",
       "      <td>0.880107</td>\n",
       "    </tr>\n",
       "    <tr>\n",
       "      <th>11</th>\n",
       "      <td>-0.371587</td>\n",
       "      <td>-0.062238</td>\n",
       "    </tr>\n",
       "    <tr>\n",
       "      <th>12</th>\n",
       "      <td>-1.414316</td>\n",
       "      <td>0.453504</td>\n",
       "    </tr>\n",
       "    <tr>\n",
       "      <th>13</th>\n",
       "      <td>-0.973313</td>\n",
       "      <td>-0.175099</td>\n",
       "    </tr>\n",
       "    <tr>\n",
       "      <th>14</th>\n",
       "      <td>0.057111</td>\n",
       "      <td>0.077336</td>\n",
       "    </tr>\n",
       "    <tr>\n",
       "      <th>15</th>\n",
       "      <td>2.072572</td>\n",
       "      <td>0.567288</td>\n",
       "    </tr>\n",
       "    <tr>\n",
       "      <th>16</th>\n",
       "      <td>-1.072193</td>\n",
       "      <td>-0.825325</td>\n",
       "    </tr>\n",
       "    <tr>\n",
       "      <th>17</th>\n",
       "      <td>0.616879</td>\n",
       "      <td>-0.292282</td>\n",
       "    </tr>\n",
       "    <tr>\n",
       "      <th>18</th>\n",
       "      <td>-2.500401</td>\n",
       "      <td>0.866341</td>\n",
       "    </tr>\n",
       "    <tr>\n",
       "      <th>19</th>\n",
       "      <td>1.160996</td>\n",
       "      <td>-0.477314</td>\n",
       "    </tr>\n",
       "    <tr>\n",
       "      <th>20</th>\n",
       "      <td>-0.780238</td>\n",
       "      <td>-0.899028</td>\n",
       "    </tr>\n",
       "    <tr>\n",
       "      <th>21</th>\n",
       "      <td>-0.284820</td>\n",
       "      <td>-0.088773</td>\n",
       "    </tr>\n",
       "    <tr>\n",
       "      <th>22</th>\n",
       "      <td>0.154909</td>\n",
       "      <td>-0.783613</td>\n",
       "    </tr>\n",
       "    <tr>\n",
       "      <th>23</th>\n",
       "      <td>0.728908</td>\n",
       "      <td>-0.071860</td>\n",
       "    </tr>\n",
       "    <tr>\n",
       "      <th>24</th>\n",
       "      <td>1.603578</td>\n",
       "      <td>1.138796</td>\n",
       "    </tr>\n",
       "    <tr>\n",
       "      <th>25</th>\n",
       "      <td>-0.945756</td>\n",
       "      <td>2.484924</td>\n",
       "    </tr>\n",
       "    <tr>\n",
       "      <th>26</th>\n",
       "      <td>0.223683</td>\n",
       "      <td>1.751353</td>\n",
       "    </tr>\n",
       "    <tr>\n",
       "      <th>27</th>\n",
       "      <td>-0.129792</td>\n",
       "      <td>1.802024</td>\n",
       "    </tr>\n",
       "    <tr>\n",
       "      <th>28</th>\n",
       "      <td>0.728488</td>\n",
       "      <td>3.031605</td>\n",
       "    </tr>\n",
       "    <tr>\n",
       "      <th>29</th>\n",
       "      <td>-0.970261</td>\n",
       "      <td>-0.176771</td>\n",
       "    </tr>\n",
       "    <tr>\n",
       "      <th>...</th>\n",
       "      <td>...</td>\n",
       "      <td>...</td>\n",
       "    </tr>\n",
       "    <tr>\n",
       "      <th>70</th>\n",
       "      <td>0.786455</td>\n",
       "      <td>-0.016232</td>\n",
       "    </tr>\n",
       "    <tr>\n",
       "      <th>71</th>\n",
       "      <td>1.336019</td>\n",
       "      <td>0.398756</td>\n",
       "    </tr>\n",
       "    <tr>\n",
       "      <th>72</th>\n",
       "      <td>1.452707</td>\n",
       "      <td>0.211550</td>\n",
       "    </tr>\n",
       "    <tr>\n",
       "      <th>73</th>\n",
       "      <td>-1.299064</td>\n",
       "      <td>-1.368170</td>\n",
       "    </tr>\n",
       "    <tr>\n",
       "      <th>74</th>\n",
       "      <td>0.430975</td>\n",
       "      <td>0.523465</td>\n",
       "    </tr>\n",
       "    <tr>\n",
       "      <th>75</th>\n",
       "      <td>-2.126686</td>\n",
       "      <td>-1.780830</td>\n",
       "    </tr>\n",
       "    <tr>\n",
       "      <th>76</th>\n",
       "      <td>-0.667917</td>\n",
       "      <td>-0.532333</td>\n",
       "    </tr>\n",
       "    <tr>\n",
       "      <th>77</th>\n",
       "      <td>1.599338</td>\n",
       "      <td>1.323020</td>\n",
       "    </tr>\n",
       "    <tr>\n",
       "      <th>78</th>\n",
       "      <td>0.416556</td>\n",
       "      <td>-0.388836</td>\n",
       "    </tr>\n",
       "    <tr>\n",
       "      <th>79</th>\n",
       "      <td>-0.559775</td>\n",
       "      <td>-0.138248</td>\n",
       "    </tr>\n",
       "    <tr>\n",
       "      <th>80</th>\n",
       "      <td>1.134510</td>\n",
       "      <td>-0.761059</td>\n",
       "    </tr>\n",
       "    <tr>\n",
       "      <th>81</th>\n",
       "      <td>1.941002</td>\n",
       "      <td>0.286711</td>\n",
       "    </tr>\n",
       "    <tr>\n",
       "      <th>82</th>\n",
       "      <td>0.904878</td>\n",
       "      <td>1.021668</td>\n",
       "    </tr>\n",
       "    <tr>\n",
       "      <th>83</th>\n",
       "      <td>1.486417</td>\n",
       "      <td>-1.226438</td>\n",
       "    </tr>\n",
       "    <tr>\n",
       "      <th>84</th>\n",
       "      <td>-0.613535</td>\n",
       "      <td>1.828571</td>\n",
       "    </tr>\n",
       "    <tr>\n",
       "      <th>85</th>\n",
       "      <td>0.410926</td>\n",
       "      <td>0.280095</td>\n",
       "    </tr>\n",
       "    <tr>\n",
       "      <th>86</th>\n",
       "      <td>-0.049273</td>\n",
       "      <td>-0.303261</td>\n",
       "    </tr>\n",
       "    <tr>\n",
       "      <th>87</th>\n",
       "      <td>2.268945</td>\n",
       "      <td>0.366783</td>\n",
       "    </tr>\n",
       "    <tr>\n",
       "      <th>88</th>\n",
       "      <td>-0.345740</td>\n",
       "      <td>0.549965</td>\n",
       "    </tr>\n",
       "    <tr>\n",
       "      <th>89</th>\n",
       "      <td>-1.146968</td>\n",
       "      <td>-2.096020</td>\n",
       "    </tr>\n",
       "    <tr>\n",
       "      <th>90</th>\n",
       "      <td>-0.819913</td>\n",
       "      <td>1.509949</td>\n",
       "    </tr>\n",
       "    <tr>\n",
       "      <th>91</th>\n",
       "      <td>-0.339985</td>\n",
       "      <td>0.051399</td>\n",
       "    </tr>\n",
       "    <tr>\n",
       "      <th>92</th>\n",
       "      <td>0.675498</td>\n",
       "      <td>-1.414094</td>\n",
       "    </tr>\n",
       "    <tr>\n",
       "      <th>93</th>\n",
       "      <td>2.612877</td>\n",
       "      <td>0.551143</td>\n",
       "    </tr>\n",
       "    <tr>\n",
       "      <th>94</th>\n",
       "      <td>-1.926111</td>\n",
       "      <td>-0.327174</td>\n",
       "    </tr>\n",
       "    <tr>\n",
       "      <th>95</th>\n",
       "      <td>-0.679747</td>\n",
       "      <td>0.063574</td>\n",
       "    </tr>\n",
       "    <tr>\n",
       "      <th>96</th>\n",
       "      <td>-0.586805</td>\n",
       "      <td>0.851223</td>\n",
       "    </tr>\n",
       "    <tr>\n",
       "      <th>97</th>\n",
       "      <td>0.457868</td>\n",
       "      <td>2.499862</td>\n",
       "    </tr>\n",
       "    <tr>\n",
       "      <th>98</th>\n",
       "      <td>-0.713245</td>\n",
       "      <td>1.107727</td>\n",
       "    </tr>\n",
       "    <tr>\n",
       "      <th>99</th>\n",
       "      <td>-0.073784</td>\n",
       "      <td>-0.501310</td>\n",
       "    </tr>\n",
       "  </tbody>\n",
       "</table>\n",
       "<p>100 rows × 2 columns</p>\n",
       "</div>"
      ],
      "text/plain": [
       "           cell a    cell b\n",
       "session                    \n",
       "0        0.741264 -0.856881\n",
       "1        0.145257  0.212937\n",
       "2        1.200330  0.021896\n",
       "3        0.560759 -0.286323\n",
       "4        1.128497 -0.970603\n",
       "5       -1.847741 -0.667254\n",
       "6       -1.016366 -2.580918\n",
       "7        0.870996  1.030433\n",
       "8       -0.286923  0.188698\n",
       "9       -1.128805 -1.194235\n",
       "10       0.615411  0.880107\n",
       "11      -0.371587 -0.062238\n",
       "12      -1.414316  0.453504\n",
       "13      -0.973313 -0.175099\n",
       "14       0.057111  0.077336\n",
       "15       2.072572  0.567288\n",
       "16      -1.072193 -0.825325\n",
       "17       0.616879 -0.292282\n",
       "18      -2.500401  0.866341\n",
       "19       1.160996 -0.477314\n",
       "20      -0.780238 -0.899028\n",
       "21      -0.284820 -0.088773\n",
       "22       0.154909 -0.783613\n",
       "23       0.728908 -0.071860\n",
       "24       1.603578  1.138796\n",
       "25      -0.945756  2.484924\n",
       "26       0.223683  1.751353\n",
       "27      -0.129792  1.802024\n",
       "28       0.728488  3.031605\n",
       "29      -0.970261 -0.176771\n",
       "...           ...       ...\n",
       "70       0.786455 -0.016232\n",
       "71       1.336019  0.398756\n",
       "72       1.452707  0.211550\n",
       "73      -1.299064 -1.368170\n",
       "74       0.430975  0.523465\n",
       "75      -2.126686 -1.780830\n",
       "76      -0.667917 -0.532333\n",
       "77       1.599338  1.323020\n",
       "78       0.416556 -0.388836\n",
       "79      -0.559775 -0.138248\n",
       "80       1.134510 -0.761059\n",
       "81       1.941002  0.286711\n",
       "82       0.904878  1.021668\n",
       "83       1.486417 -1.226438\n",
       "84      -0.613535  1.828571\n",
       "85       0.410926  0.280095\n",
       "86      -0.049273 -0.303261\n",
       "87       2.268945  0.366783\n",
       "88      -0.345740  0.549965\n",
       "89      -1.146968 -2.096020\n",
       "90      -0.819913  1.509949\n",
       "91      -0.339985  0.051399\n",
       "92       0.675498 -1.414094\n",
       "93       2.612877  0.551143\n",
       "94      -1.926111 -0.327174\n",
       "95      -0.679747  0.063574\n",
       "96      -0.586805  0.851223\n",
       "97       0.457868  2.499862\n",
       "98      -0.713245  1.107727\n",
       "99      -0.073784 -0.501310\n",
       "\n",
       "[100 rows x 2 columns]"
      ]
     },
     "execution_count": 30,
     "metadata": {},
     "output_type": "execute_result"
    }
   ],
   "source": [
    "import pandas as pd\n",
    "df = pd.DataFrame(c, columns=['cell a', 'cell b'])\n",
    "df.index.name = 'session'\n",
    "df"
   ]
  },
  {
   "cell_type": "markdown",
   "metadata": {
    "slideshow": {
     "slide_type": "subslide"
    }
   },
   "source": [
    "It turns out that being able to store this \"metadata\" along with the numbers lets you do some very interesting things. Pandas also lets you do some fancy operations on your data, but we'll get to that later."
   ]
  },
  {
   "cell_type": "markdown",
   "metadata": {
    "slideshow": {
     "slide_type": "subslide"
    }
   },
   "source": [
    "## Matplotlib\n",
    "Finally, we also need to visualize our data in order to make it compelling to other people (and to ourselves!). The landscape of visualization is changing very quickly in python, but one constant has been the continued dominance of **matplotlib**, the go-to library for visualizing your data. With this package we can create publication-ready figures fairly quickly."
   ]
  },
  {
   "cell_type": "code",
   "execution_count": 31,
   "metadata": {
    "scrolled": false,
    "slideshow": {
     "slide_type": "fragment"
    }
   },
   "outputs": [
    {
     "name": "stdout",
     "output_type": "stream",
     "text": [
      "wow\n"
     ]
    },
    {
     "data": {
      "image/png": "[encoded data removed]",
      "text/plain": [
       "<matplotlib.figure.Figure at 0x114c18a20>"
      ]
     },
     "metadata": {},
     "output_type": "display_data"
    }
   ],
   "source": [
    "import matplotlib.pyplot as plt\n",
    "plt.ion()\n",
    "fig, axs = plt.subplots(1, 2, figsize=(10, 5))\n",
    "axs[0].plot(a, b, 'o')\n",
    "axs[0].set(title='Our data')\n",
    "\n",
    "axs[1].boxplot([a, b], notch=True, widths=.6)\n",
    "axs[1].set(title='A boxplot of our data')\n",
    "print('wow')"
   ]
  },
  {
   "cell_type": "markdown",
   "metadata": {
    "slideshow": {
     "slide_type": "slide"
    }
   },
   "source": [
    "## This is only the tip of the iceberg\n",
    "There are also a ton of other packages that will help you in analyzing your data. Here's a short list:"
   ]
  },
  {
   "cell_type": "markdown",
   "metadata": {
    "slideshow": {
     "slide_type": "subslide"
    }
   },
   "source": [
    "** General data analysis **\n",
    "* scipy - for doing more domain-specific scientific analyses\n",
    "* scikit-learn - for machine learning\n",
    "* statsmodels - for doing statistical modeling\n",
    "* scikit-image - for image processing"
   ]
  },
  {
   "cell_type": "markdown",
   "metadata": {
    "slideshow": {
     "slide_type": "subslide"
    }
   },
   "source": [
    "** Neuroscience analysis **\n",
    "* mne-python - for electrophysiology in MEG/EEG/ECoG\n",
    "* spykes - for electrophysiology of spiking units\n",
    "* nibabel / nipy - for neuroimaging MRI data"
   ]
  },
  {
   "cell_type": "code",
   "execution_count": null,
   "metadata": {
    "collapsed": true
   },
   "outputs": [],
   "source": []
  }
 ],
 "metadata": {
  "celltoolbar": "Slideshow",
  "kernelspec": {
   "display_name": "Python 3",
   "language": "python",
   "name": "python3"
  },
  "language_info": {
   "codemirror_mode": {
    "name": "ipython",
    "version": 3
   },
   "file_extension": ".py",
   "mimetype": "text/x-python",
   "name": "python",
   "nbconvert_exporter": "python",
   "pygments_lexer": "ipython3",
   "version": "3.6.0"
  },
  "toc": {
   "toc_cell": true,
   "toc_number_sections": false,
   "toc_section_display": "none",
   "toc_threshold": "3",
   "toc_window_display": true
  }
 },
 "nbformat": 4,
 "nbformat_minor": 2
}
