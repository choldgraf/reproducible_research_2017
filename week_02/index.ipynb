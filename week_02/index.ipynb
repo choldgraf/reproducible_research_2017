{
 "cells": [
  {
   "cell_type": "markdown",
   "metadata": {},
   "source": [
    "# Computational Science 101\n",
    "These notebooks introduce the first principles of (one definition of) computational science. We'll focus on the basics here, without getting into too much complicated analysis (which we'll cover next week).\n",
    "\n",
    "These materials are adopted from a collection of notes from the [Reproducible Science Curriculum](https://github.com/Reproducible-Science-Curriculum) put together by [Data Carpentry](http://www.datacarpentry.org/).\n",
    "\n",
    "Here's a list of the topics that we'll cover:\n",
    "\n",
    "\n",
    "## Setup and intro\n",
    "* [Installation instructions](extras/jupyter_intro/Installation.ipynb) - Cover how to install python + jupyter on a number of platforms\n",
    "* [A quick introduction to Jupyter and Python](extras/jupyter_intro/getting_started_with_jupyter_notebooks.ipynb) is a first pass through the functionality of jupyter notebooks.\n",
    "\n",
    "\n",
    "##  Data organization and workflows\n",
    "* [The Jupyter Environment](extras/jupyter_intro/Jupyter_Intro_Background.ipynb) - Gives an idea of what jupyter notebooks can be used for.\n",
    "* [Using the Notebooks](extras/jupyter_intro/using_the_notebooks.ipynb) - Shows basic functionality of the jupyter notebooks\n",
    "* [Organizing your projects](extras/02-organization-RR-jupyter/organizing_your_project.ipynb) - Covers file / folder structure, as well as best practices in naming etc.\n",
    "* [Exploring your data](extras/03-data-exploration-RR-jupyter/Data%20exploration.ipynb) - Takes a first pass at asking questions about a new dataset.\n"
   ]
  },
  {
   "cell_type": "code",
   "execution_count": null,
   "metadata": {
    "collapsed": true
   },
   "outputs": [],
   "source": []
  }
 ],
 "metadata": {
  "kernelspec": {
   "display_name": "Python 3",
   "language": "python",
   "name": "python3"
  },
  "language_info": {
   "codemirror_mode": {
    "name": "ipython",
    "version": 3
   },
   "file_extension": ".py",
   "mimetype": "text/x-python",
   "name": "python",
   "nbconvert_exporter": "python",
   "pygments_lexer": "ipython3",
   "version": "3.6.0"
  },
  "toc": {
   "toc_cell": false,
   "toc_number_sections": false,
   "toc_section_display": "none",
   "toc_threshold": "3",
   "toc_window_display": true
  }
 },
 "nbformat": 4,
 "nbformat_minor": 2
}
