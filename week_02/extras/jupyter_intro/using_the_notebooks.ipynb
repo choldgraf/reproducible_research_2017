{
 "cells": [
  {
   "cell_type": "markdown",
   "metadata": {
    "slideshow": {
     "slide_type": "slide"
    }
   },
   "source": [
    "# Working with Notebooks\n",
    "\n",
    "*You should already have Jupyter notebooks installed or remotely accessible...*"
   ]
  },
  {
   "cell_type": "markdown",
   "metadata": {
    "slideshow": {
     "slide_type": "subslide"
    }
   },
   "source": [
    "Start the notebook server. In a terminal, run:\n",
    "\n",
    "`jupyter notebook`\n",
    "\n",
    "open the notebook homepage\n",
    "\n",
    "create a new notebook by clicking on the `+` symbol in the top right."
   ]
  },
  {
   "cell_type": "markdown",
   "metadata": {
    "slideshow": {
     "slide_type": "slide"
    }
   },
   "source": [
    "# Types of cells in a jupyter notebook\n",
    "\n",
    "Notebooks roughly have two types of cells: code cells and markdown cells. We'll cover each one below."
   ]
  },
  {
   "cell_type": "markdown",
   "metadata": {
    "slideshow": {
     "slide_type": "subslide"
    }
   },
   "source": [
    "## Code Cells - For writing your actual code\n",
    "\n",
    "A new notebook contains a single, executable code cell.\n",
    "\n",
    "Add a line of code and execute it by:\n",
    "- clicking the run button, or\n",
    "- click in the cell, and press shift-return"
   ]
  },
  {
   "cell_type": "code",
   "execution_count": 2,
   "metadata": {
    "slideshow": {
     "slide_type": "-"
    }
   },
   "outputs": [
    {
     "name": "stdout",
     "output_type": "stream",
     "text": [
      "hello world\n"
     ]
    },
    {
     "data": {
      "text/plain": [
       "4"
      ]
     },
     "execution_count": 2,
     "metadata": {},
     "output_type": "execute_result"
    }
   ],
   "source": [
    "print('hello world') \n",
    "\n",
    "\n",
    "2 +2"
   ]
  },
  {
   "cell_type": "markdown",
   "metadata": {
    "slideshow": {
     "slide_type": "subslide"
    }
   },
   "source": [
    "Note that this notebook is written in **Python**, but you can connect any kind of open-source language to your jupyter notebook session."
   ]
  },
  {
   "cell_type": "markdown",
   "metadata": {
    "slideshow": {
     "slide_type": "subslide"
    }
   },
   "source": [
    "## Markdown Cells - Adding Narrative\n",
    "\n",
    "Markdown cells allow us to embed more \"human-readable\" text with the code itself. This makes it much easier to interweave the concepts of our work along with the data itself."
   ]
  },
  {
   "cell_type": "markdown",
   "metadata": {
    "slideshow": {
     "slide_type": "subslide"
    }
   },
   "source": [
    "### To create a markdown cell:\n",
    "* __Add a new cell__ to the notebook: click the + button on the toolbar\n",
    "* __Change the cell type__ using the drop down list in the toolbar or by using the ESC-M keyboard shortcut.\n",
    "\n",
    "To \"open\" or __select a markdown cell for editing__, double click the cell.\n",
    "\n",
    "View the rendered markdown by running the cell:\n",
    "- hit the play button on the toolbar, or\n",
    "- use the SHIFT-RETURN keyboard shortcut."
   ]
  },
  {
   "cell_type": "markdown",
   "metadata": {
    "slideshow": {
     "slide_type": "subslide"
    }
   },
   "source": [
    "### Simple Markdown - Headings and emphasis\n",
    "\n",
    "Markdown cells use markdown to generate formatted text:\n",
    "\n",
    "- inline styles\n",
    "  - *emphasise text*\n",
    "  - __strongly emphasise__ text \n",
    "  "
   ]
  },
  {
   "cell_type": "markdown",
   "metadata": {
    "slideshow": {
     "slide_type": "subslide"
    }
   },
   "source": [
    "#### Sub-headings\n",
    "Markdown can also show `inline code` styles as well as code blocks:\n",
    "\n",
    "````\n",
    "def mycode():\n",
    "    ''' Here is my non-executable code '''\n",
    "    pass\n",
    "````\n",
    "\n",
    "So what does the actual markdown look like?"
   ]
  },
  {
   "cell_type": "raw",
   "metadata": {
    "slideshow": {
     "slide_type": "subslide"
    }
   },
   "source": [
    "# Simple Markdown 1\n",
    "\n",
    "Markdown cells use markdown to generate formatted text:\n",
    "\n",
    "- inline styles\n",
    "  - *emphasise text*\n",
    "  - __strongly emphasise__ text \n",
    "  \n",
    "\n",
    "## Sub-headings\n",
    "Markdown can also show `inline code` styles as well as code blocks:\n",
    "\n",
    "````\n",
    "def mycode():\n",
    "    ''' Here is my non-executable code '''\n",
    "    pass\n",
    "````"
   ]
  },
  {
   "cell_type": "markdown",
   "metadata": {
    "slideshow": {
     "slide_type": "subslide"
    }
   },
   "source": [
    "### Simple Markdown - Links and images\n",
    "\n",
    "Markdown can include weblinks, eg to [Data Carpentry](https://datacarpentry.org), as well as links to named elements [in the same notebook](#navlink), or [other notebooks](path/example.ipynb#exampleNavlink).\n",
    "\n",
    "Markdown can embed images:\n",
    "\n",
    "![Jupyter logo](./jupyter-logo.png)\n",
    "\n",
    "So how do we do that?"
   ]
  },
  {
   "cell_type": "raw",
   "metadata": {
    "slideshow": {
     "slide_type": "subslide"
    }
   },
   "source": [
    "<a name=\"\"></a>\n",
    "# Simple Markdown 2\n",
    "\n",
    "Markdown can include weblinks, eg to [Data Carpentry](https://datacarpentry.org), as well as links to named elements [in the same notebook](#navlink), or [other notebooks](path/example.ipynb#exampleNavlink).\n",
    "\n",
    "Markdown can embed images:\n",
    "\n",
    "[Jupyter logo](./jupyter-logo.png)"
   ]
  },
  {
   "cell_type": "markdown",
   "metadata": {
    "slideshow": {
     "slide_type": "slide"
    }
   },
   "source": [
    "# Navigating and Selecting Cells\n",
    "\n",
    "Jupyter notebooks can be a little confusing since they contain both traditional \"text\" boxes, as well as a more modern web-based UI. Here are some tips for navigating within the notebooks.\n",
    "\n",
    "To select a cell, __click on it__. The selected cell will be surrounded by a box with the left hand side highlighted.\n",
    "\n",
    "Move the selection focus to the cell above/below using the keyboard up/down arrow keys.\n",
    "\n",
    "Select multiple adjacent cells using `SHIFT-UP ARROW` or `SHIFT-DOWN ARROW`\n",
    "\n",
    "This cell"
   ]
  },
  {
   "cell_type": "markdown",
   "metadata": {
    "slideshow": {
     "slide_type": "subslide"
    }
   },
   "source": [
    "## Managing Cells - Add, Delete\n",
    "\n",
    "Add a new cell to the notebook by:\n",
    " - click the + button on the toolbar\n",
    " - `Insert -> Insert Cell Above` or `ESC-A`\n",
    " - `Insert -> Insert Cell Below` or `ESC-B`"
   ]
  },
  {
   "cell_type": "markdown",
   "metadata": {
    "slideshow": {
     "slide_type": "subslide"
    }
   },
   "source": [
    "Delete a cell by selecting it and:\n",
    " - click the scissors button on the toolbar\n",
    " - `Edit -> Delete cells` or `ESC-X`"
   ]
  },
  {
   "cell_type": "markdown",
   "metadata": {
    "slideshow": {
     "slide_type": "fragment"
    }
   },
   "source": [
    "Undelete the last deleted cell:\n",
    "- `Edit -> Undo Delete cells` or `ESC-Z`"
   ]
  },
  {
   "cell_type": "markdown",
   "metadata": {
    "slideshow": {
     "slide_type": "subslide"
    }
   },
   "source": [
    "## Managing Cells - Reorder\n",
    "\n",
    "Reorder cells by:\n",
    "- moving them up and down the notebook using the up and down arrows on the toolbar\n",
    "- `Edit -> Move Cell Up` or `Edit -> Move Cell Down` \n",
    "- cutting and pasting them:\n",
    " - `Edit - >Cut` or `Edit->Paste Cells Above` or `Edit->Paste Cells Below`\n",
    " - on the toolbar, `Cut selected cells` then `Paste selected cells`\n",
    "\n",
    "You can also copy selected cells from the toolbar, `Edit -> Copy Cells` or `ESC-C`."
   ]
  },
  {
   "cell_type": "markdown",
   "metadata": {
    "slideshow": {
     "slide_type": "subslide"
    }
   },
   "source": [
    "## Managing Cells - Merging and Splitting\n",
    "\n",
    "Splitting overlong cells: `Edit -> Split Cell`\n",
    "\n",
    "Merging adjacent cells: `Edit -> Merge Cell Above` or  `Edit -> Merge Cell Below`."
   ]
  },
  {
   "cell_type": "markdown",
   "metadata": {
    "slideshow": {
     "slide_type": "slide"
    }
   },
   "source": [
    "# Working with Code Cells"
   ]
  },
  {
   "cell_type": "markdown",
   "metadata": {
    "slideshow": {
     "slide_type": "subslide"
    }
   },
   "source": [
    "## Cell outputs\n",
    "\n",
    "If the last line of code produces an output, the output will be embedded in the notebook below the code cell:"
   ]
  },
  {
   "cell_type": "code",
   "execution_count": 4,
   "metadata": {
    "slideshow": {
     "slide_type": "-"
    }
   },
   "outputs": [
    {
     "name": "stdout",
     "output_type": "stream",
     "text": [
      "hi\n"
     ]
    }
   ],
   "source": [
    "a=1\n",
    "b=2\n",
    "\n",
    "a+b\n",
    "print('hi')"
   ]
  },
  {
   "cell_type": "markdown",
   "metadata": {
    "slideshow": {
     "slide_type": "subslide"
    }
   },
   "source": [
    "## We Can Run a Cell Multiple Times\n",
    "\n",
    "Each time the cell us run, the state of the underlying python process is updated, even if the visual display of other cells in the notebook is not."
   ]
  },
  {
   "cell_type": "code",
   "execution_count": 51,
   "metadata": {
    "slideshow": {
     "slide_type": "-"
    }
   },
   "outputs": [
    {
     "name": "stdout",
     "output_type": "stream",
     "text": [
      "24\n"
     ]
    }
   ],
   "source": [
    "print(a)"
   ]
  },
  {
   "cell_type": "code",
   "execution_count": 50,
   "metadata": {
    "slideshow": {
     "slide_type": "-"
    }
   },
   "outputs": [
    {
     "data": {
      "text/plain": [
       "24"
      ]
     },
     "execution_count": 50,
     "metadata": {},
     "output_type": "execute_result"
    }
   ],
   "source": [
    "#Run this cell multiple times\n",
    "a=a+1\n",
    "a"
   ]
  },
  {
   "cell_type": "markdown",
   "metadata": {
    "slideshow": {
     "slide_type": "subslide"
    }
   },
   "source": [
    "> **NOTE**: This is a really important point to remember. While your code looks to be in a 'linear' fashion, there's nothing stopping you from running the cells in whatever order you want. This can be really confusing if you, for example, rename a variable later on, then jump back to the top of the notebook and re-run a cell. *Be careful!*"
   ]
  },
  {
   "cell_type": "markdown",
   "metadata": {
    "slideshow": {
     "slide_type": "slide"
    }
   },
   "source": [
    "## Import packages etc\n",
    "\n",
    "We can import packages as you might expect:"
   ]
  },
  {
   "cell_type": "code",
   "execution_count": 52,
   "metadata": {
    "slideshow": {
     "slide_type": "-"
    }
   },
   "outputs": [
    {
     "data": {
      "text/plain": [
       "3.141592653589793"
      ]
     },
     "execution_count": 52,
     "metadata": {},
     "output_type": "execute_result"
    }
   ],
   "source": [
    "import numpy as np\n",
    "  \n",
    "np.pi"
   ]
  },
  {
   "cell_type": "markdown",
   "metadata": {
    "slideshow": {
     "slide_type": "subslide"
    }
   },
   "source": [
    "## Using the command line\n",
    "\n",
    "Code cells also act as a __commandline prompt__ - prefix with a !"
   ]
  },
  {
   "cell_type": "code",
   "execution_count": 53,
   "metadata": {
    "slideshow": {
     "slide_type": "-"
    }
   },
   "outputs": [
    {
     "name": "stdout",
     "output_type": "stream",
     "text": [
      "-rw-r--r--@ 1 choldgraf  staff   3839 Apr 18 18:21 Installation.ipynb\r\n",
      "-rw-r--r--@ 1 choldgraf  staff   6152 Apr 18 18:24 Jupyter_Intro_Background.ipynb\r\n",
      "-rw-r--r--@ 1 choldgraf  staff  14723 Apr 17 14:37 getting_started_with_jupyter_notebooks.ipynb\r\n",
      "-rw-r--r--@ 1 choldgraf  staff  21157 Apr 18 18:33 using_the_notebooks.ipynb\r\n"
     ]
    }
   ],
   "source": [
    "! ls -la *.ipynb # Linux / Mac;\n",
    "#for windows: ! dir *.ipynb"
   ]
  },
  {
   "cell_type": "markdown",
   "metadata": {
    "slideshow": {
     "slide_type": "subslide"
    }
   },
   "source": [
    "# Extra features of code cells\n",
    "## Line numbering\n",
    "__Line numbering__ in code cells can be toggled with `ESC-L` (or pressing `L` after clicking the border of a cell)."
   ]
  },
  {
   "cell_type": "code",
   "execution_count": null,
   "metadata": {
    "collapsed": true,
    "slideshow": {
     "slide_type": "-"
    }
   },
   "outputs": [],
   "source": [
    "a\n",
    "b\n",
    "c"
   ]
  },
  {
   "cell_type": "markdown",
   "metadata": {
    "slideshow": {
     "slide_type": "subslide"
    }
   },
   "source": [
    "## IPython Cell Magics\n",
    "\n",
    "\n",
    "- `%matplotlib inline`: enable inline display of matplotlib generated graphics\n",
    "- `%whos`: display a list of variables and their values as set in the kernel\n",
    "- `%env`: display a list of environment variables and their current values in the host environment."
   ]
  },
  {
   "cell_type": "code",
   "execution_count": 54,
   "metadata": {
    "collapsed": true
   },
   "outputs": [],
   "source": [
    "%matplotlib inline"
   ]
  },
  {
   "cell_type": "markdown",
   "metadata": {
    "slideshow": {
     "slide_type": "subslide"
    }
   },
   "source": [
    "## Code cells can produce rich output too\n",
    "\n",
    "Code cell outputs can render tables:"
   ]
  },
  {
   "cell_type": "code",
   "execution_count": 56,
   "metadata": {
    "slideshow": {
     "slide_type": "-"
    }
   },
   "outputs": [
    {
     "data": {
      "text/html": [
       "<div>\n",
       "<table border=\"1\" class=\"dataframe\">\n",
       "  <thead>\n",
       "    <tr style=\"text-align: right;\">\n",
       "      <th></th>\n",
       "      <th>col1</th>\n",
       "      <th>col2</th>\n",
       "    </tr>\n",
       "  </thead>\n",
       "  <tbody>\n",
       "    <tr>\n",
       "      <th>0</th>\n",
       "      <td>x</td>\n",
       "      <td>1</td>\n",
       "    </tr>\n",
       "    <tr>\n",
       "      <th>1</th>\n",
       "      <td>y</td>\n",
       "      <td>2</td>\n",
       "    </tr>\n",
       "  </tbody>\n",
       "</table>\n",
       "</div>"
      ],
      "text/plain": [
       "  col1  col2\n",
       "0    x     1\n",
       "1    y     2"
      ]
     },
     "execution_count": 56,
     "metadata": {},
     "output_type": "execute_result"
    }
   ],
   "source": [
    "import pandas as pd\n",
    "\n",
    "pd.DataFrame({'col1':['x','y'],'col2':[1,2]})"
   ]
  },
  {
   "cell_type": "markdown",
   "metadata": {
    "slideshow": {
     "slide_type": "subslide"
    }
   },
   "source": [
    "They can also produce figure outputs:"
   ]
  },
  {
   "cell_type": "code",
   "execution_count": 57,
   "metadata": {
    "slideshow": {
     "slide_type": "fragment"
    }
   },
   "outputs": [
    {
     "data": {
      "text/plain": [
       "<matplotlib.collections.PathCollection at 0x10e19bc50>"
      ]
     },
     "execution_count": 57,
     "metadata": {},
     "output_type": "execute_result"
    },
    {
     "data": {
      "image/png": "[encoded data removed]",
      "text/plain": [
       "<matplotlib.figure.Figure at 0x1097e1cf8>"
      ]
     },
     "metadata": {},
     "output_type": "display_data"
    }
   ],
   "source": [
    "%matplotlib inline\n",
    "\n",
    "import matplotlib.pyplot as plt\n",
    "\n",
    "# Create 1000 evenly-spaced values from 0 to 2 pi\n",
    "a = np.random.randn(1000)\n",
    "b = 4 * a + 1 + 10 * np.random.randn(1000)\n",
    "c = a + b \n",
    "\n",
    "#Plot a sine wave over those values\n",
    "\n",
    "fig, ax = plt.subplots()\n",
    "ax.scatter(a, b, c=c)\n",
    "\n",
    "#You can prevent the display of object details returned from the plot by:\n",
    "## - adding a semi-colon (;) at the end of the final statement"
   ]
  },
  {
   "cell_type": "markdown",
   "metadata": {
    "slideshow": {
     "slide_type": "subslide"
    }
   },
   "source": [
    "## Interactive widgets for data exploration\n",
    "\n",
    "If you reate a function that accepts one or more parameters, you may be able to use it as the basis of an automatically generated application.\n",
    "\n",
    "For example, suppose we have a function that will plot a sine wave over the range 0..2 pi for a specified frequency, passed into the function as a parameter:"
   ]
  },
  {
   "cell_type": "code",
   "execution_count": 58,
   "metadata": {
    "slideshow": {
     "slide_type": "-"
    }
   },
   "outputs": [
    {
     "data": {
      "image/png": "[encoded data removed]",
      "text/plain": [
       "<matplotlib.figure.Figure at 0x1099c1cf8>"
      ]
     },
     "metadata": {},
     "output_type": "display_data"
    }
   ],
   "source": [
    "#If no parameter values are specified, use the default setting: slope=1\n",
    "\n",
    "def myscatter(slope=1, noise=4, cmap='rainbow'):\n",
    "\n",
    "    # Create 1000 evenly-spaced values from 0 to 2 pi\n",
    "    a = np.random.randn(1000)\n",
    "    b = slope * a + 1 + noise * np.random.randn(1000)\n",
    "    c = a + b \n",
    "\n",
    "    #Plot a sine wave over those values\n",
    "\n",
    "    fig, ax = plt.subplots()\n",
    "    ax.scatter(a, b, c=c, cmap=cmap)\n",
    "    ax.set(xlim=[-5, 5], ylim=[-50, 50])\n",
    "    plt.show()\n",
    "    \n",
    "myscatter(slope=3, noise=10, cmap='viridis')"
   ]
  },
  {
   "cell_type": "markdown",
   "metadata": {
    "slideshow": {
     "slide_type": "subslide"
    }
   },
   "source": [
    "### Using ipywidgets `interact()`\n",
    "\n",
    "Pass the name of your function, and the default values of the parameters, to the *ipywidgets* `interact()` function to automatically create interactive widgets to control the parameter values."
   ]
  },
  {
   "cell_type": "code",
   "execution_count": 59,
   "metadata": {
    "slideshow": {
     "slide_type": "-"
    }
   },
   "outputs": [
    {
     "data": {
      "application/vnd.jupyter.widget-view+json": {
       "model_id": "eaa60765936f40c7a9c85eb6d9b5d9cb"
      }
     },
     "metadata": {},
     "output_type": "display_data"
    },
    {
     "data": {
      "text/plain": [
       "<function __main__.myscatter>"
      ]
     },
     "execution_count": 59,
     "metadata": {},
     "output_type": "execute_result"
    }
   ],
   "source": [
    "from ipywidgets import interact\n",
    "\n",
    "interact(myscatter, slope=10, noise=10, cmap=['rainbow', 'viridis', 'jet'])"
   ]
  },
  {
   "cell_type": "markdown",
   "metadata": {
    "slideshow": {
     "slide_type": "fragment"
    }
   },
   "source": [
    "You can also specify the range of values Applied to an `interact()` slider:\n",
    "\n",
    "````\n",
    "interact(myscatter, slope=[0,20])\n",
    "````\n",
    "\n",
    "Or the range of values and the step size:\n",
    "    \n",
    "````\n",
    "interact(myscatter, slope=[0, 20, 2])\n",
    "````"
   ]
  },
  {
   "cell_type": "markdown",
   "metadata": {
    "slideshow": {
     "slide_type": "slide"
    }
   },
   "source": [
    "## Running the notebook all at once / clearing output\n",
    "\n",
    "Clear the output of a selected cell: `Cell -> Current Output -> Clear`\n",
    "\n",
    "Clear the output of all cells in the notebook:  `Cell -> All Output -> Clear`\n",
    "\n",
    "*Note the the state of the underlying kernel __will not__ be affected - only the rendered display in the notebook.*"
   ]
  },
  {
   "cell_type": "markdown",
   "metadata": {
    "slideshow": {
     "slide_type": "subslide"
    }
   },
   "source": [
    "Run multiple cells:\n",
    "\n",
    "- `Cells -> Run All Above`\n",
    "- `Cells -> Run All Below`\n",
    "- `Cells -> Run All`\n",
    "\n",
    "Run cells from scratch (i.e. from a fresh kernel), `Kernel -> Restart and Clear Output` and then run the cells you want.\n",
    "\n",
    "To run all the cells in the notebook from scratch: `Kernel -> Restart and Run All`"
   ]
  },
  {
   "cell_type": "markdown",
   "metadata": {
    "slideshow": {
     "slide_type": "slide"
    }
   },
   "source": [
    "## Troubleshooting\n",
    "\n",
    "Tips and tricks for when it goes wrong..."
   ]
  },
  {
   "cell_type": "markdown",
   "metadata": {
    "slideshow": {
     "slide_type": "-"
    }
   },
   "source": [
    "### Getting Help\n",
    "\n",
    "Find help files for the notebooks from the *Help* menu.\n",
    "\n",
    "Display keyboard shortcuts using `Help -> Keyboard Shortcuts` or `ESC-H`."
   ]
  },
  {
   "cell_type": "markdown",
   "metadata": {
    "slideshow": {
     "slide_type": "subslide"
    }
   },
   "source": [
    "Code cells support __autocomplete__: start typing and then `TAB` to see what options are available..."
   ]
  },
  {
   "cell_type": "code",
   "execution_count": null,
   "metadata": {
    "collapsed": true,
    "slideshow": {
     "slide_type": "-"
    }
   },
   "outputs": [],
   "source": [
    "pd.Dat"
   ]
  },
  {
   "cell_type": "markdown",
   "metadata": {
    "collapsed": true,
    "slideshow": {
     "slide_type": "subslide"
    }
   },
   "source": [
    "Access documentation for a function - add a `?` and run the cell:"
   ]
  },
  {
   "cell_type": "code",
   "execution_count": 60,
   "metadata": {
    "collapsed": true,
    "slideshow": {
     "slide_type": "-"
    }
   },
   "outputs": [],
   "source": [
    "pd.DataFrame?"
   ]
  },
  {
   "cell_type": "markdown",
   "metadata": {
    "slideshow": {
     "slide_type": "subslide"
    }
   },
   "source": [
    "### Saving, Checkpointing and Reverting the Notebook\n",
    "\n",
    "The notebook wil autosave every few minutes.\n",
    "\n",
    "You can also create a checkpoint using the floppy/save icon on the toolbar or `File -> Save and Checkpoint`.\n",
    "\n",
    "You can revert the notebook to a saved checkpoint using `File -> Revert to Saved Checkpoint`."
   ]
  },
  {
   "cell_type": "markdown",
   "metadata": {
    "slideshow": {
     "slide_type": "subslide"
    }
   },
   "source": [
    "### Cells that won't stop running\n",
    "\n",
    "Code cells that are running (or queued for running) display an asterisk in the cell `In []` indicator.\n",
    "\n",
    "To stop execution of a running cell (and prevent queued cells from executing):\n",
    "- press the stop button on the toolbar\n",
    "- `Kernel -> Interrupt`\n",
    "\n",
    "If the notebook is still hanging, you may need to restart the kernel:  `Kernel -> Restart`"
   ]
  },
  {
   "cell_type": "code",
   "execution_count": 61,
   "metadata": {},
   "outputs": [
    {
     "ename": "KeyboardInterrupt",
     "evalue": "",
     "output_type": "error",
     "traceback": [
      "\u001b[0;31m---------------------------------------------------------------------------\u001b[0m",
      "\u001b[0;31mKeyboardInterrupt\u001b[0m                         Traceback (most recent call last)",
      "\u001b[0;32m<ipython-input-61-cccdd40a5a4c>\u001b[0m in \u001b[0;36m<module>\u001b[0;34m()\u001b[0m\n\u001b[1;32m      1\u001b[0m \u001b[0;32mwhile\u001b[0m \u001b[0;32mTrue\u001b[0m\u001b[0;34m:\u001b[0m\u001b[0;34m\u001b[0m\u001b[0m\n\u001b[0;32m----> 2\u001b[0;31m     \u001b[0;32mpass\u001b[0m\u001b[0;34m\u001b[0m\u001b[0m\n\u001b[0m",
      "\u001b[0;31mKeyboardInterrupt\u001b[0m: "
     ]
    }
   ],
   "source": [
    "while True:\n",
    "    pass"
   ]
  },
  {
   "cell_type": "code",
   "execution_count": null,
   "metadata": {
    "collapsed": true
   },
   "outputs": [],
   "source": []
  }
 ],
 "metadata": {
  "celltoolbar": "Slideshow",
  "kernelspec": {
   "display_name": "Python 3",
   "language": "python",
   "name": "python3"
  },
  "language_info": {
   "codemirror_mode": {
    "name": "ipython",
    "version": 3
   },
   "file_extension": ".py",
   "mimetype": "text/x-python",
   "name": "python",
   "nbconvert_exporter": "python",
   "pygments_lexer": "ipython3",
   "version": "3.6.0"
  },
  "livereveal": {
   "progress": true,
   "scroll": true,
   "start_slideshow_at": "selected"
  },
  "toc": {
   "toc_cell": false,
   "toc_number_sections": false,
   "toc_section_display": "none",
   "toc_threshold": "3",
   "toc_window_display": true
  },
  "widgets": {
   "state": {},
   "version": "1.1.2"
  }
 },
 "nbformat": 4,
 "nbformat_minor": 1
}
