{
 "cells": [
  {
   "cell_type": "markdown",
   "metadata": {
    "slideshow": {
     "slide_type": "slide"
    }
   },
   "source": [
    "# Organizing your project\n",
    "\n",
    "You have just started a new job and have to take over the work of a previous employee who has left the lab and gone off the grid. You receive an Excel file of this person's life work.  Your boss has instructed you to:\n",
    "\n",
    "1. Make sense of all the data they have collected\n",
    "2. Write a report on the findings to share with others in the lab, so they may use the data and analyses in their own work.\n",
    "\n",
    "The file which was sent to you can be downloaded here: [gapminderDataFiveYear_superDirty.xlsx](data/gapminderDataFiveYear_superDirty.xlsx)."
   ]
  },
  {
   "cell_type": "markdown",
   "metadata": {
    "slideshow": {
     "slide_type": "subslide"
    }
   },
   "source": [
    "Download the file. With the goal of _making sense of the data_, what can you tell me about this data, and how do you know that?\n",
    "\n",
    "- What is it?\n",
    "- Where did it come from?\n",
    "- When was it collected?\n",
    "- Has anything been changed? If so, why was it changed?"
   ]
  },
  {
   "cell_type": "markdown",
   "metadata": {
    "slideshow": {
     "slide_type": "slide"
    }
   },
   "source": [
    "## Organize projects for your future self."
   ]
  },
  {
   "cell_type": "markdown",
   "metadata": {
    "slideshow": {
     "slide_type": "fragment"
    }
   },
   "source": [
    "**Goals**\n",
    "- \"Recognize the difference between raw and modified data\"\n",
    "- \"Document the life history of a file as it gets modified\"\n",
    "- \"Associate file history with directory structure\"\n",
    "- \"Make it easy to answer the 5 W's\""
   ]
  },
  {
   "cell_type": "markdown",
   "metadata": {
    "slideshow": {
     "slide_type": "subslide"
    }
   },
   "source": [
    "## Rule 1: Always look at the raw data\n",
    "\n",
    "Let's take a look at the data in Excel before we start working on it. Does everything look correct?"
   ]
  },
  {
   "cell_type": "markdown",
   "metadata": {
    "slideshow": {
     "slide_type": "fragment"
    }
   },
   "source": [
    "![Screenshot](assets/img/gapminderDataFiveYear_superDirty-screenshot.png)"
   ]
  },
  {
   "cell_type": "markdown",
   "metadata": {
    "slideshow": {
     "slide_type": "subslide"
    }
   },
   "source": [
    "> ## Should we fix any of the problems we see in this file? Why or why not?"
   ]
  },
  {
   "cell_type": "markdown",
   "metadata": {
    "slideshow": {
     "slide_type": "fragment"
    }
   },
   "source": [
    "> No, keep original data forever unchanged.\n",
    ">\n",
    "> There should always be a copy of the data in its most raw state. Never make corrections to the original data file. There are several ways to ensure that the original data stays unchanged."
   ]
  },
  {
   "cell_type": "markdown",
   "metadata": {
    "slideshow": {
     "slide_type": "slide"
    }
   },
   "source": [
    "## Rule 2: Never change the raw data."
   ]
  },
  {
   "cell_type": "markdown",
   "metadata": {
    "slideshow": {
     "slide_type": "fragment"
    }
   },
   "source": [
    "What if we were to change this file?\n",
    "\n",
    "- Changes made by hand (in GUI applications) are incredibly hard to track. Some tools are better than others, but this is outside our control.\n",
    "- If we changed our only copy of the raw data, we may never be able to reproduce what we did.\n",
    "- We want to track **exactly** what changed in the file, and if we must do it by hand, we should make that easy to see."
   ]
  },
  {
   "cell_type": "markdown",
   "metadata": {
    "slideshow": {
     "slide_type": "subslide"
    }
   },
   "source": [
    "Some ideas to detect changes:\n",
    "\n",
    "- Include the date stamp in the file name\n",
    "    - `2017-03-15_01_dleehr-fixes_gapminderDataFiveYear_superDirty.xlsx`\n",
    "- Color the changed cells to highlight the changes\n",
    "- Side-by-side comparison with original\n",
    "- Record exact changes in a README file.\n",
    "\n",
    "Clearly label the file or make the location for the file that makes sense to future you and collaborators."
   ]
  },
  {
   "cell_type": "markdown",
   "metadata": {
    "slideshow": {
     "slide_type": "slide"
    }
   },
   "source": [
    "## Rule 3: Structure your data in folders / sub-folders\n",
    "(and keep raw vs. modified data separate)"
   ]
  },
  {
   "cell_type": "markdown",
   "metadata": {
    "slideshow": {
     "slide_type": "subslide"
    }
   },
   "source": [
    "**Let's create some folders for our project**\n",
    "\n",
    "The most important way to delineate file types and organize the workflow of your project is to design your file structure at the very start of your project's history.\n",
    "\n",
    "Often you do not know exactly where your project will lead, so it is okay if your intitial design evolves as the project does. There are a few standards that we will walk through that work well for most projects.\n",
    "\n",
    "Create a folder that will house all of your projects and call it `projects`.\n",
    "\n",
    "```\n",
    "projects/\n",
    "```"
   ]
  },
  {
   "cell_type": "markdown",
   "metadata": {
    "slideshow": {
     "slide_type": "subslide"
    }
   },
   "source": [
    "Now let's make a folder within that folder for our new project, called `gapminder`:\n",
    "\n",
    "```\n",
    "projects/\n",
    "    gapminder/\n",
    "```"
   ]
  },
  {
   "cell_type": "markdown",
   "metadata": {
    "slideshow": {
     "slide_type": "subslide"
    }
   },
   "source": [
    "Since we have data, we want to create a `data` folder.\n",
    "\n",
    "```\n",
    "projects/\n",
    "    gapminder/\n",
    "        data/\n",
    "```"
   ]
  },
  {
   "cell_type": "markdown",
   "metadata": {
    "slideshow": {
     "slide_type": "subslide"
    }
   },
   "source": [
    "Since we have this Excel spreadsheet as our original, raw data, we will save it in a folder called `00_raw` to indicate that it is the starting point for our project. Create a subfolder in `data/` called `00_raw` and put the `gapminderDataFiveYear_superDirty.xlsx` file there. Now you should have a folder structure that looks like this:\n",
    "\n",
    "```\n",
    "projects/\n",
    "    gapminder/\n",
    "        data/\n",
    "            00_raw/\n",
    "                gapminderDataFiveYear_superDirty.xlsx\n",
    "```"
   ]
  },
  {
   "cell_type": "markdown",
   "metadata": {
    "slideshow": {
     "slide_type": "subslide"
    }
   },
   "source": [
    "Since we want to change something in this file, we will create a *new* folder in `data/` that shows that it is different from `00_raw/`, and we will call it `01_cleaning/`.\n",
    "\n",
    "Make a subfolder in `data/` called `01_cleaning/` and put a copy of the `gapminderDataFiveYear_superDirty.xlsx` file there.\n",
    "\n",
    "Then, make an *empty* subfolder called `02_cleaned` in the `data/` folder.\n",
    "\n",
    "```\n",
    "projects/\n",
    "    gapminder/\n",
    "        data/\n",
    "            00_raw/\n",
    "                gapminderDataFiveYear_superDirty.xlsx\n",
    "            01_cleaning/\n",
    "                gapminderDataFiveYear_superDirty.xlsx\n",
    "            02_cleaned/\n",
    "```\n",
    "\n",
    "With this structure, we can capture and communicate most of the characteristics of data as it exsts in our project: history, function, and format. In addition, there is a clear understanding of how to proceed to the next step, data cleaning."
   ]
  },
  {
   "cell_type": "markdown",
   "metadata": {
    "slideshow": {
     "slide_type": "subslide"
    }
   },
   "source": [
    "## Why `01_cleaning` and `02_cleaned`?\n",
    "\n",
    "Realistically, we may not completely **clean** a file in one pass. Sometimes we'll get interrupted, and sometimes we'll catch things later and need to revise the file.\n",
    "\n",
    "1. Copy the original raw data into `01_cleaning` (e.g. the xlsx file)\n",
    "2. Edit the file in `01_cleaning`, saving there and recording changes.\n",
    "3. Export a cleaned version in CSV or Tab-delimited format to `02_cleaned`.\n",
    "\n",
    "If we catch things later, we\n",
    "don't put a file in `02_cleaned` until we're done with it. And if we have more cleaning to do, we start from `01_cleaning` and produce a new file in `02_cleaned`."
   ]
  },
  {
   "cell_type": "markdown",
   "metadata": {
    "slideshow": {
     "slide_type": "fragment"
    }
   },
   "source": [
    "Let's say we've gone through the original excel file and think it looks OK. We'll save it as a \"tab-delimited file\", which means that:\n",
    "\n",
    "1. It is now just a regular text file, not an excel file.\n",
    "2. It has columns spaced apart by tab (`\\t`) characters"
   ]
  },
  {
   "cell_type": "markdown",
   "metadata": {
    "slideshow": {
     "slide_type": "subslide"
    }
   },
   "source": [
    "> ## Tips and Tricks\n",
    ">\n",
    "> - Make your raw data read-only, so you cannot inadvertently change the file.\n",
    "> - Put gnarly incoming data in **quarantine**, then convert, rename, and document.\n",
    "> - Use ISO 8601 (YYYY-MM-DD) dates at the beginning of data file names to make them sortable"
   ]
  },
  {
   "cell_type": "markdown",
   "metadata": {
    "slideshow": {
     "slide_type": "slide"
    }
   },
   "source": [
    "## Rule 4: Add metadata to your projects"
   ]
  },
  {
   "cell_type": "markdown",
   "metadata": {
    "slideshow": {
     "slide_type": "fragment"
    }
   },
   "source": [
    "> **What is metadata?**"
   ]
  },
  {
   "cell_type": "markdown",
   "metadata": {
    "slideshow": {
     "slide_type": "subslide"
    }
   },
   "source": [
    "## Why READMEs\n",
    "\n",
    "Every project should describe to users what the purpose of the project is. This is commonly done in a README file. As the starting point for a project the README file is formatted as plain text (or [markdown](https://guides.github.com/features/mastering-markdown/)) to make it easily readable. A README file should include the following information:\n",
    "\n",
    "- The project name\n",
    "- The date the README was created\n",
    "- Contact information for the person(s) who maintains the project\n",
    "- Three or four sentences about the goal of the project\n",
    "- If the project uses data from an external source, where the data is from\n",
    "\n",
    "Think about the beginning of this lesson, when we had nothing but a file with a name. These are the things that would have made it easy to make sense of that data.\n",
    "\n",
    "So, before we make any modifications to the raw data, we need a practice for how to record the initial state of the data, as well as our modifications."
   ]
  },
  {
   "cell_type": "markdown",
   "metadata": {
    "slideshow": {
     "slide_type": "subslide"
    }
   },
   "source": [
    "## Adding a Top Level README\n",
    "\n",
    "To add a README to our project, open a text editor. We'd recommend either [Sublime Text](https://www.sublimetext.com/) or [Atom](https://atom.io/)."
   ]
  },
  {
   "cell_type": "markdown",
   "metadata": {
    "slideshow": {
     "slide_type": "fragment"
    }
   },
   "source": [
    "Now, let's make a README\n",
    "\n",
    "* Open text editor\n",
    "* Start writing\n",
    "\n",
    "~~~\n",
    "Project name\n",
    "Today's date\n",
    "Maintainer's contact info\n",
    "Data Origin\n",
    "3-4 sentences about the goal of the project\n",
    "~~~\n",
    "\n",
    "* Save as `README` in the project directory.\n",
    "\n",
    "This file serves as the starting point for future you, or anyone who receives this data."
   ]
  },
  {
   "cell_type": "markdown",
   "metadata": {
    "slideshow": {
     "slide_type": "subslide"
    }
   },
   "source": [
    "## Adding a README in a Subdirectory\n",
    "\n",
    "README files in subdirectories are a good idea too. Often there are many files, and it's distracting to fill the top-level README with details about smaller pieces of the project.\n",
    "\n",
    "- For raw data directories, you should include the location (e.g URL) where the file was retrieved or generated.\n",
    "- For modified data directories, you should include the exact tools and steps used to modify the data, along with dates\n",
    "- For other directories like code or documentation, the README should communicate what the directories contain."
   ]
  },
  {
   "cell_type": "markdown",
   "metadata": {},
   "source": [
    "## Keeping the READMEs up-to-date\n",
    "\n",
    "- Dates are good on file names here\n",
    "- When changing something in a directory, you should add a line at the README"
   ]
  },
  {
   "cell_type": "markdown",
   "metadata": {
    "slideshow": {
     "slide_type": "slide"
    }
   },
   "source": [
    "# Rule 5: Make your project self-documenting"
   ]
  },
  {
   "cell_type": "markdown",
   "metadata": {
    "slideshow": {
     "slide_type": "fragment"
    }
   },
   "source": [
    "## Self-documenting Projects\n",
    "\n",
    "READMEs are commentary on what we consider the \"real work\", and realistically can be an afterthought. We've all had projects under a deadline or someone asking for a result, and the documentation step is easy to defer until later.\n",
    "\n",
    "Later never comes, or we forget the details by the time it does. So another good practice is to use good, descriptive names on files, directories, and in code. These are for our benefit, not the computer."
   ]
  },
  {
   "cell_type": "markdown",
   "metadata": {
    "slideshow": {
     "slide_type": "subslide"
    }
   },
   "source": [
    "> ## Project README\n",
    "> `gapminder/README.md`\n",
    "> ~~~\n",
    "> gapminder\n",
    "> =========\n",
    ">\n",
    "> ## Project Summary\n",
    ">\n",
    "> This project analyzes population-level statistics about many countries to\n",
    "> determine if there is a relationship between x and y.\n",
    ">\n",
    "> Started: 2017-03-15\n",
    "> Maintainer: Dan Leehr dan.leehr@duke.edu\n",
    ">\n",
    "> ## Data Origin\n",
    ">\n",
    "> This data is the gapminder dataset, originally collected and published in XXX,\n",
    "> and retrieved from [1]. The dataset reflects population-level statistics about\n",
    "> many countries spanning the last several decades.\n",
    ">\n",
    "> [1] https://github.com/Reproducible-Science-Curriculum/organization-RR-Jupyter/raw/gh-pages/data/gapminderDataFiveYear_superDirty.xlsx\n",
    ">\n",
    ">\n",
    "> ## Summary of changes\n",
    ">\n",
    "> 2017-03-15\tdan.leehr@duke.edu\tInherited gapminderDataFiveYear_superDirty.xlsx from Frank Grimes.\n",
    "> \t\t\t\t\tPlaced raw data in 00_raw.\n",
    "> 2017-03-15\tdan.leehr@duke.edu\tCleaned gapminderDataFiveYear_superDirty.xlsx file in 01_cleaning and\n",
    "> \t\t\t\t\texported to CSV format in 02_cleaned.\n",
    "> ~~~"
   ]
  },
  {
   "cell_type": "markdown",
   "metadata": {
    "collapsed": true,
    "slideshow": {
     "slide_type": "slide"
    }
   },
   "source": [
    "# Rule 6: Be flexible\n",
    "\n",
    "The important thing is not to perfectly follow the rules above, the goal is to do whatever works to make your data / analyses easy to follow for your particular use case. The important thing is that your folders are **structured**, **easy to follow**, and **rich with metadata**.\n"
   ]
  }
 ],
 "metadata": {
  "celltoolbar": "Slideshow",
  "kernelspec": {
   "display_name": "Python 3",
   "language": "python",
   "name": "python3"
  },
  "language_info": {
   "codemirror_mode": {
    "name": "ipython",
    "version": 3
   },
   "file_extension": ".py",
   "mimetype": "text/x-python",
   "name": "python",
   "nbconvert_exporter": "python",
   "pygments_lexer": "ipython3",
   "version": "3.6.0"
  },
  "livereveal": {
   "progress": true,
   "scroll": true,
   "start_slideshow_at": "selected"
  },
  "toc": {
   "toc_cell": false,
   "toc_number_sections": false,
   "toc_section_display": "none",
   "toc_threshold": "3",
   "toc_window_display": true
  }
 },
 "nbformat": 4,
 "nbformat_minor": 2
}
