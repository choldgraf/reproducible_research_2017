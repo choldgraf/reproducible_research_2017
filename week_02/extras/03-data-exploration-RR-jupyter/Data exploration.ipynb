{
 "cells": [
  {
   "cell_type": "markdown",
   "metadata": {
    "slideshow": {
     "slide_type": "slide"
    }
   },
   "source": [
    "# Exploring your data\n",
    "\n",
    "Exploring data is kind of difficult to define because the line between \"exploring\" and \"analyzing\" is often blurred. This notebook will focus on the first moments of interaction with a new dataset.\n",
    "\n",
    "It covers things like making sense of your data, cleaning it, and putting it in a form that's ready to be analyzed. We'll make some simple plots and get our data ready for the next step of analysis (which we'll cover next week)."
   ]
  },
  {
   "cell_type": "markdown",
   "metadata": {
    "slideshow": {
     "slide_type": "subslide"
    }
   },
   "source": [
    "# Libraries we'll use\n",
    "\n",
    "## matplotlib and other plotting libraries\n",
    "\n",
    "matplotlib is the most widely used Python library for plotting.  We can run it in the notebook using the magic command `%matplotlib inline`. If you do not use `%matplotlib inline`, your plots will be generated outside of the notebook and may be difficult to find.  See [the IPython docs](http://ipython.readthedocs.io/en/stable/interactive/plotting.html) for other IPython magics commands.\n",
    "\n",
    "## The Pandas Library\n",
    "\n",
    "One of the best options for working with tabular data in Python is the Python Data Analysis Library (a.k.a. Pandas). The Pandas library is built on top of the NumPy package (another Python library). Pandas provides data structures, produces high quality plots with matplotlib, and integrates nicely with other libraries that use NumPy arrays. Those familiar with spreadsheets should become comfortable with Pandas data structures."
   ]
  },
  {
   "cell_type": "code",
   "execution_count": null,
   "metadata": {
    "collapsed": true
   },
   "outputs": [],
   "source": [
    "import pandas as pd\n",
    "import numpy as np\n",
    "import matplotlib.pyplot as plt\n",
    "%matplotlib inline"
   ]
  },
  {
   "cell_type": "markdown",
   "metadata": {
    "slideshow": {
     "slide_type": "slide"
    }
   },
   "source": [
    "# Rule 1: Always look at your raw data\n",
    "\n",
    "It's easy to begin hacking away at a dataset, but how do we know that the data is what it's *supposed* to be? One way to confirm this is to look at the raw data however you can.\n",
    "\n",
    "We will begin by locating and reading our data which are in a table format as a tab-delimited file. We will use Pandas’ `read_table` function to pull the file directly into a `DataFrame`."
   ]
  },
  {
   "cell_type": "markdown",
   "metadata": {
    "slideshow": {
     "slide_type": "subslide"
    }
   },
   "source": [
    "## Why Pandas?\n",
    "\n",
    "In one word: metadata! Remember the value of contextual information in understanding what's going on with your data / analysis workflows.\n",
    "\n",
    "Pandas gives us a really useful tool, called a **DataFrame** for representing our data. This lets us keep some metadata along with the raw values themselves."
   ]
  },
  {
   "cell_type": "markdown",
   "metadata": {
    "slideshow": {
     "slide_type": "subslide"
    }
   },
   "source": [
    "## What’s a `DataFrame`?\n",
    "A `DataFrame` is a 2-dimensional data structure that can store in columns data of different types (including characters, integers, floating point values, factors and more). It is similar to a spreadsheet or a SQL table or data.frame in R. A `DataFrame` always has an index (0-based). An index refers to the position of an element in the data structure.\n",
    "\n",
    "Note that we use `pd.read_table`, not just `read_table` or `pandas.read_table`, because we imported Pandas as `pd`.\n",
    "\n",
    "In our original file, the columns in the data set are separated by a TAB. We need to tell the `read_table` function in Pandas that that is the delimiter with `sep = ‘\\t’`."
   ]
  },
  {
   "cell_type": "code",
   "execution_count": null,
   "metadata": {
    "collapsed": true
   },
   "outputs": [],
   "source": [
    "path_data = \"../../projects/gapminder/data/01_cleaning/gapminderDataFiveYear_manualcleaned.txt\"\n",
    "#You can also read your table in from a file directory\n",
    "gapminder = pd.read_table(path_data, sep = \"\\t\")"
   ]
  },
  {
   "cell_type": "markdown",
   "metadata": {
    "slideshow": {
     "slide_type": "subslide"
    }
   },
   "source": [
    "### Looking at your dataframe\n",
    "The first thing to do when loading data into the notebook is to actually \"look\" at it.  How many rows and columns are there?  What types of variables are in it and what values can they take?\n",
    "\n",
    "There are usually too many rows to print to the screen.  By default, when you type the name of the `DataFrame` and run a cell, Pandas knows to not print the whole thing.  Instead, you will see the first and last few rows with dots in between.  A neater way to see a preview of the dataset is the `head()` method.  Calling `dataset.head()` will display the first 5 rows of the data.  You can specify how many rows you want to see as an argument, like `dataset.head(10)`.  The `tail()` method does the same with the last rows of the `DataFrame`."
   ]
  },
  {
   "cell_type": "code",
   "execution_count": null,
   "metadata": {},
   "outputs": [],
   "source": [
    "gapminder\n",
    "#head\n",
    "#tail"
   ]
  },
  {
   "cell_type": "markdown",
   "metadata": {
    "slideshow": {
     "slide_type": "subslide"
    }
   },
   "source": [
    "Sometimes the table has too many columns to print on screen. Calling `df.columns.values` will print all the column names in an array."
   ]
  },
  {
   "cell_type": "code",
   "execution_count": null,
   "metadata": {},
   "outputs": [],
   "source": [
    "gapminder.columns.values"
   ]
  },
  {
   "cell_type": "markdown",
   "metadata": {
    "slideshow": {
     "slide_type": "fragment"
    }
   },
   "source": [
    "If you want to see the raw data itself, you can acess this at `dataset.values`. This is what we'd be looking at if we didn't have Pandas DataFrames to give us contextual information."
   ]
  },
  {
   "cell_type": "code",
   "execution_count": null,
   "metadata": {},
   "outputs": [],
   "source": [
    "gapminder.values"
   ]
  },
  {
   "cell_type": "markdown",
   "metadata": {
    "slideshow": {
     "slide_type": "slide"
    }
   },
   "source": [
    "# Rule 2: Assess the cleanliness of the data\n",
    "Let's get an idea for how \"clean\" the data is. For example, are the values what we'd expect them to be? Are there any errors we should fix?\n"
   ]
  },
  {
   "cell_type": "markdown",
   "metadata": {
    "slideshow": {
     "slide_type": "subslide"
    }
   },
   "source": [
    "## How many rows and columns are in the data?\n",
    "We often want to know how many rows and columns are in the data -- what is the \"shape\" of the `DataFrame`. Shape is an attribute of the `DataFrame`. Pandas has a convenient way for getting that information by using `DataFrame.shape`  (using `DataFrame` here as a generic name for your `DataFrame`). This returns a tuple (immutable values separated by commas) representing the dimensions of the `DataFrame` (rows, columns).\n",
    "\n",
    "To get the shape of the gapminder `DataFrame`:"
   ]
  },
  {
   "cell_type": "code",
   "execution_count": null,
   "metadata": {},
   "outputs": [],
   "source": [
    "gapminder.shape\n",
    "\n",
    "# We can also get more information with methods like `info` and `describe`"
   ]
  },
  {
   "cell_type": "markdown",
   "metadata": {
    "slideshow": {
     "slide_type": "subslide"
    }
   },
   "source": [
    "## Take a subset of columns\n",
    "\n",
    "The `DataFrame` function `describe()` just blindly looks at all numeric variables. We wouldn't actually want to take the mean year. Additionally, we obtain ‘NaN’ values for our quartiles. This suggests we might have missing data which we can (and will) deal with shortly when we begin to clean our data.\n",
    "\n",
    "For now, let's pull out only the columns that are truly continuous numbers (i.e. ignore the description for ‘year’). This is a preview of selecting columns from the data; we'll talk more about how to do it later in the lesson."
   ]
  },
  {
   "cell_type": "code",
   "execution_count": null,
   "metadata": {},
   "outputs": [],
   "source": [
    "gapminder[['pop', 'life Exp', 'gdpPercap']]\n",
    "# .describe()"
   ]
  },
  {
   "cell_type": "markdown",
   "metadata": {
    "slideshow": {
     "slide_type": "subslide"
    }
   },
   "source": [
    "## Assessing whether data is \"correct\"\n",
    "\n",
    "Next, let's say you want to see all the unique values for the `region` column. One way to do this is:"
   ]
  },
  {
   "cell_type": "code",
   "execution_count": null,
   "metadata": {},
   "outputs": [],
   "source": [
    "pd.unique(gapminder['region'])"
   ]
  },
  {
   "cell_type": "markdown",
   "metadata": {
    "slideshow": {
     "slide_type": "subslide"
    }
   },
   "source": [
    "This output is useful, but it looks like there may be some formatting issues causing the same region to be counted more than once. Let's take it a step further and find out to be sure. \n",
    "\n",
    "As mentioned previously, the command `value_counts()` gives you a first global idea of your categorical data such as strings. In this case that is the column `region`. Run the code below."
   ]
  },
  {
   "cell_type": "code",
   "execution_count": null,
   "metadata": {},
   "outputs": [],
   "source": [
    "# How many unique regions are in the data?\n",
    "unique_regions = gapminder['region'].unique()\n",
    "print(len(unique_regions))"
   ]
  },
  {
   "cell_type": "code",
   "execution_count": null,
   "metadata": {},
   "outputs": [],
   "source": [
    "# How many times does each unique region occur?\n",
    "gapminder['region'].value_counts()"
   ]
  },
  {
   "cell_type": "markdown",
   "metadata": {
    "slideshow": {
     "slide_type": "subslide"
    }
   },
   "source": [
    "The table reveals some problems in our data set. The data set covers 12 years, so each ‘region’ should appear 12 times, but some regions appear more than 12 times and others fewer than 12 times. Why is this?\n",
    "\n",
    "Here are a few possibilities:\n",
    "* We also see inconsistencies in the region names (string variables are very susceptible to those)\n",
    "    * for instance: \"Asia_china\"\tvs. \"Asia_China\"\n",
    "* There are variations on some names, e.g. the various names of 'Congo'.\n",
    "\n",
    "In order to analyze this dataset appropriately we need to take care of these issues. We will fix them in the next section on data cleaning."
   ]
  },
  {
   "cell_type": "markdown",
   "metadata": {
    "slideshow": {
     "slide_type": "slide"
    }
   },
   "source": [
    "# Rule 3: Standardize / Clean your data"
   ]
  },
  {
   "cell_type": "markdown",
   "metadata": {
    "slideshow": {
     "slide_type": "fragment"
    }
   },
   "source": [
    "## Never modify the raw data\n",
    "This is true for coding as well. If your data isn't too large, a good first step is always to make a copy of it in order to keep a version of the raw data on hand at all times."
   ]
  },
  {
   "cell_type": "markdown",
   "metadata": {
    "slideshow": {
     "slide_type": "subslide"
    }
   },
   "source": [
    "### Referencing objects vs copying objects\n",
    "Before we get started with cleaning our data, let's practice good data hygiene by first creating a copy of our original data set. Often, you want to leave the original data untouched.  To protect your original, you can make a copy of your data (and save it to a new `DataFrame` variable) before operating on the data or a subset of the data.  This will ensure that a new version of the original data is created and your original is preserved."
   ]
  },
  {
   "cell_type": "markdown",
   "metadata": {
    "slideshow": {
     "slide_type": "subslide"
    }
   },
   "source": [
    "**Why this is important?**\n",
    "\n",
    "Suppose you take a subset of your `DataFrame` and store it in a new variable, like `gapminder_early = gapminder[gapminder['year'] < 1970]`.  Doing this does not actually create a new object. Instead, you have just given a name to that subset of the original data: `gapminder_early`. This subset still points to the original rows of `gapminder`.  Any changes you make to the new `DataFrame` `gapminder_early` will appear in the corresponding rows of your original `gapminder` `DataFrame` too.  "
   ]
  },
  {
   "cell_type": "code",
   "execution_count": null,
   "metadata": {
    "collapsed": true,
    "slideshow": {
     "slide_type": "fragment"
    }
   },
   "outputs": [],
   "source": [
    "gapminder = pd.read_table(path_data, sep = \"\\t\")\n",
    "gapminder_copy = gapminder.copy()"
   ]
  },
  {
   "cell_type": "markdown",
   "metadata": {
    "slideshow": {
     "slide_type": "subslide"
    }
   },
   "source": [
    "## Common data cleaning problems\n",
    "\n",
    "There are all kinds of things that go wrong with data collection, curation, sharing, and storage. Here are just a couple of common things you should look for:"
   ]
  },
  {
   "cell_type": "code",
   "execution_count": null,
   "metadata": {
    "slideshow": {
     "slide_type": "-"
    }
   },
   "outputs": [],
   "source": [
    "# Let's look at the top of our dataset\n",
    "gapminder_copy.head()"
   ]
  },
  {
   "cell_type": "markdown",
   "metadata": {
    "slideshow": {
     "slide_type": "fragment"
    }
   },
   "source": [
    "**Missing values** are extremely common. You should figure out what value corresponds to \"missing\" for your dataset. In our case it's `NaN`, but it could be something like `0`."
   ]
  },
  {
   "cell_type": "code",
   "execution_count": null,
   "metadata": {
    "slideshow": {
     "slide_type": "-"
    }
   },
   "outputs": [],
   "source": [
    "gapminder_copy = gapminder_copy.dropna()\n",
    "gapminder_copy.head()"
   ]
  },
  {
   "cell_type": "markdown",
   "metadata": {
    "slideshow": {
     "slide_type": "fragment"
    }
   },
   "source": [
    "**Changing data types** is also common. This is because some numbers have a natural \"type\". This is especially true for things like dates. Look at the years column...it's weird that there's a `.0` at the end of each number. Let's clean that up."
   ]
  },
  {
   "cell_type": "code",
   "execution_count": null,
   "metadata": {},
   "outputs": [],
   "source": [
    "gapminder_copy['year'] = gapminder_copy['year'].astype(int)\n",
    "gapminder_copy['pop'] = gapminder_copy['pop'].astype(int)\n",
    "gapminder_copy.info()"
   ]
  },
  {
   "cell_type": "markdown",
   "metadata": {
    "slideshow": {
     "slide_type": "fragment"
    }
   },
   "source": [
    "**Duplicates** can occur if people accidentally save datasets twice. We can easily check for this in Pandas."
   ]
  },
  {
   "cell_type": "code",
   "execution_count": null,
   "metadata": {},
   "outputs": [],
   "source": [
    "gapminder_copy.duplicated().head() #shows we have a repetition within the first 5 rows\n",
    "\n",
    "# We can confirm this with the following command:\n",
    "# gapminder_copy.head()"
   ]
  },
  {
   "cell_type": "code",
   "execution_count": null,
   "metadata": {
    "slideshow": {
     "slide_type": "fragment"
    }
   },
   "outputs": [],
   "source": [
    "# We'll drop the duplicates below\n",
    "gapminder_copy = gapminder_copy.drop_duplicates()\n",
    "\n",
    "# Now we'll reset the index of the dataframe since it's off by 1\n",
    "gapminder_copy = gapminder_copy.reset_index(drop=True)\n",
    "\n",
    "gapminder_copy.head()"
   ]
  },
  {
   "cell_type": "markdown",
   "metadata": {
    "slideshow": {
     "slide_type": "slide"
    }
   },
   "source": [
    "# Rule 4: Use consistent naming and labeling\n",
    "\n",
    "Sometimes there are inconsistencies in data. This generally means that the system someone was using to label / create the data changed at some point. This makes it *really hard* to analyze properly. So, we'll take a quick pass and see if we can clean this up.\n",
    "\n",
    "The `value_counts()` method is really useful here."
   ]
  },
  {
   "cell_type": "code",
   "execution_count": null,
   "metadata": {},
   "outputs": [],
   "source": [
    "gapminder_copy['region'].value_counts()"
   ]
  },
  {
   "cell_type": "markdown",
   "metadata": {
    "slideshow": {
     "slide_type": "subslide"
    }
   },
   "source": [
    "## Modifying text in the data\n",
    "\n",
    "A good rule of thumb is to turn all strings in your data into **lowercase** letters with **no spaces**."
   ]
  },
  {
   "cell_type": "markdown",
   "metadata": {
    "slideshow": {
     "slide_type": "subslide"
    }
   },
   "source": [
    "### Standardizing case and special characters"
   ]
  },
  {
   "cell_type": "code",
   "execution_count": null,
   "metadata": {},
   "outputs": [],
   "source": [
    "gapminder_copy['region'] = gapminder_copy['region'].str.lstrip() # Strip white space on left\n",
    "gapminder_copy['region'] = gapminder_copy['region'].str.rstrip() # Strip white space on right\n",
    "gapminder_copy['region'] = gapminder_copy['region'].str.lower() # Convert to lowercase\n",
    "gapminder_copy['region'].value_counts() # How many times does each unique region occur?\n",
    "\n",
    "# We could have done this in one line!\n",
    "# gapminder_copy['region'] = gapminder_copy['region'].str.lstrip().str.rstrip().lower()"
   ]
  },
  {
   "cell_type": "markdown",
   "metadata": {
    "slideshow": {
     "slide_type": "subslide"
    }
   },
   "source": [
    "**We'll do the same for our column names** which will make it much easier to quickly analyze the data."
   ]
  },
  {
   "cell_type": "code",
   "execution_count": null,
   "metadata": {},
   "outputs": [],
   "source": [
    "# Make our columns lowercase\n",
    "gapminder_copy.columns = gapminder_copy.columns.str.lower()\n",
    "\n",
    "# Rename columns so that spaces become underscores\n",
    "gapminder_copy.columns = gapminder_copy.columns.str.replace(' ', '_')\n",
    "gapminder_copy.head()"
   ]
  },
  {
   "cell_type": "markdown",
   "metadata": {
    "slideshow": {
     "slide_type": "subslide"
    }
   },
   "source": [
    "### Replacing strings\n",
    "\n",
    "It's also common to replace entire parts of a string with something else. For example, below we can see that there are many possible namings for this country:"
   ]
  },
  {
   "cell_type": "code",
   "execution_count": null,
   "metadata": {},
   "outputs": [],
   "source": [
    "congo_data = gapminder_copy[gapminder_copy['region'].str.contains('congo')]\n",
    "congo_data['region'].value_counts()"
   ]
  },
  {
   "cell_type": "markdown",
   "metadata": {},
   "source": [
    "We'll use the **`.replace`** method to fix thix problem."
   ]
  },
  {
   "cell_type": "code",
   "execution_count": null,
   "metadata": {
    "slideshow": {
     "slide_type": "-"
    }
   },
   "outputs": [],
   "source": [
    "gapminder_copy['region'].replace(\".*congo, dem.*\", \"africa_dem rep congo\", regex=True, inplace=True)\n",
    "gapminder_copy['region'].replace(\".*_democratic republic of the congo\", \"africa_dem rep congo\", regex=True, inplace=True)\n",
    "\n",
    "\n",
    "gapminder_copy['region'].replace(\".*ivore.*\", \"africa_cote d'ivoire\", regex=True, inplace=True)\n",
    "gapminder_copy['region'].replace(\"^_canada\", \"americas_canada\", regex=True, inplace=True)\n",
    "\n",
    "gapminder_copy['region'].value_counts() # Now it's fixed."
   ]
  },
  {
   "cell_type": "markdown",
   "metadata": {
    "slideshow": {
     "slide_type": "subslide"
    }
   },
   "source": [
    "**Now our data looks clean**. We see the expected number of values for each country, those countries are labeled reasonably, and we don't have any weird things like missing values.\n",
    "\n",
    "**What's something that could still be improved in this data?**"
   ]
  },
  {
   "cell_type": "code",
   "execution_count": null,
   "metadata": {},
   "outputs": [],
   "source": [
    "gapminder_copy['region'].value_counts().tail()"
   ]
  },
  {
   "cell_type": "markdown",
   "metadata": {
    "slideshow": {
     "slide_type": "slide"
    }
   },
   "source": [
    "# Rule 5: Make your data \"tidy\"\n",
    "\n",
    "Having what is called a \"_Tidy_ data set\" can make cleaning, analyzing, and visualizing your data much easier. You should aim for having Tidy data when cleaning and preparing your data set for analysis. Two of the important aspects of Tidy data are:\n",
    "\n",
    "* every variable has its own column\n",
    "* every observation has its own row\n",
    "\n",
    "<img src=\"http://r4ds.had.co.nz/images/tidy-1.png\" style=\"width:80%\" />\n",
    "(There are other aspects of Tidy data, here is a good blog post about Tidy data in Python: http://www.jeannicholashould.com/tidy-data-in-python.html)"
   ]
  },
  {
   "cell_type": "markdown",
   "metadata": {
    "slideshow": {
     "slide_type": "subslide"
    }
   },
   "source": [
    "> **Let's take a look at our data. Is everything tidy?**"
   ]
  },
  {
   "cell_type": "code",
   "execution_count": null,
   "metadata": {},
   "outputs": [],
   "source": [
    "gapminder_copy.head()"
   ]
  },
  {
   "cell_type": "markdown",
   "metadata": {
    "slideshow": {
     "slide_type": "subslide"
    }
   },
   "source": [
    "Currently the gapminder dataset has a single column for continent and country (the ‘region’ column). We can split that column into two, by using the underscore that separates continent from country.\n",
    "We can create a new column in the `DataFrame` by naming it before the = sign:\n",
    "\n",
    "`gapminder['country'] = `\n",
    "\n",
    "The following commands use the function `split()` to split the string at the underscore (the first argument), which results in a list of two elements: before and after the \\_. The second argument tells `split()` that the split should take place only at the first occurrence of the underscore."
   ]
  },
  {
   "cell_type": "markdown",
   "metadata": {
    "slideshow": {
     "slide_type": "subslide"
    }
   },
   "source": [
    "Below we'll generate two new columns from the \"region\" column. This ensures that each column only represents one variable."
   ]
  },
  {
   "cell_type": "code",
   "execution_count": null,
   "metadata": {
    "slideshow": {
     "slide_type": "-"
    }
   },
   "outputs": [],
   "source": [
    "# Split the \"region\" column by the \"_\" character\n",
    "split_regions = gapminder_copy['region'].str.split('_', 1)\n",
    "split_regions.head()"
   ]
  },
  {
   "cell_type": "code",
   "execution_count": null,
   "metadata": {},
   "outputs": [],
   "source": [
    "# Create two new variables from the previous column\n",
    "gapminder_copy['country'] = split_regions.str[1]\n",
    "gapminder_copy['continent'] = split_regions.str[0]\n",
    "\n",
    "# Now we'll drop the old region column, and look at the data\n",
    "gapminder_copy = gapminder_copy.drop('region', 1) #1 stands for column\n",
    "gapminder_copy.head()"
   ]
  },
  {
   "cell_type": "markdown",
   "metadata": {
    "slideshow": {
     "slide_type": "subslide"
    }
   },
   "source": [
    "## Now we'll save the data\n",
    "Once the data is in a form we like, we'll save it. Per the folder organization we described before, we'll save it in the `02_cleaned` folder since this is now cleaned data. We'll save the data as a CSV file, which stands for \"comma separated values\""
   ]
  },
  {
   "cell_type": "code",
   "execution_count": null,
   "metadata": {},
   "outputs": [],
   "source": [
    "# Save the data\n",
    "path_save = '../../projects/gapminder/data/02_cleaned/gapminder_clean.csv'\n",
    "\n",
    "# index=False tells pandas not to save the index column\n",
    "gapminder_copy.to_csv(path_save, index=False)"
   ]
  },
  {
   "cell_type": "markdown",
   "metadata": {
    "slideshow": {
     "slide_type": "slide"
    }
   },
   "source": [
    "# Rule 6: Summarize your data\n",
    "\n",
    "One reason we spent all that time cleaning up our data is because it makes it much easier to quickly ask questions about this data. Usually this means running some quick visualizations to get a handle for what we're dealing with.\n",
    "\n",
    "In this section, we'll use our tidy dataset to look at some quick summaries of the data."
   ]
  },
  {
   "cell_type": "markdown",
   "metadata": {
    "slideshow": {
     "slide_type": "subslide"
    }
   },
   "source": [
    "## Visualization with `matplotlib`\n",
    "\n",
    "Recall that [matplotlib](http://matplotlib.org) is Python's main visualization \n",
    "library. It provides a range of tools for constructing plots and numerous \n",
    "high-level plotting libraries (e.g., [Seaborn](http://seaborn.pydata.org)) are \n",
    "built with matplotlib in mind. When we were in the early stages of setting up \n",
    "our analysis, we loaded these libraries like so:"
   ]
  },
  {
   "cell_type": "code",
   "execution_count": null,
   "metadata": {
    "collapsed": true
   },
   "outputs": [],
   "source": [
    "import matplotlib.pyplot as plt\n",
    "%matplotlib inline"
   ]
  },
  {
   "cell_type": "markdown",
   "metadata": {
    "collapsed": true,
    "slideshow": {
     "slide_type": "subslide"
    }
   },
   "source": [
    "## Summarizing data\n",
    "\n",
    "Remember that the `info()` method gives a few useful pieces of information, including the shape of the `DataFrame`, the variable type of each column, and the amount of memory stored. We can see many of our changes (continent and country columns instead of region, higher number of rows, etc.) reflected in the output of the `info()` method."
   ]
  },
  {
   "cell_type": "code",
   "execution_count": null,
   "metadata": {},
   "outputs": [],
   "source": [
    "gapminder_copy.info()"
   ]
  },
  {
   "cell_type": "markdown",
   "metadata": {
    "slideshow": {
     "slide_type": "fragment"
    }
   },
   "source": [
    "We also saw above that the `describe()` method will take the numeric columns and give a summary of their values. We have to remember that we changed the column names and this time it shouldn't have NaNs."
   ]
  },
  {
   "cell_type": "code",
   "execution_count": null,
   "metadata": {},
   "outputs": [],
   "source": [
    "gapminder_copy[['pop', 'life_exp', 'gdppercap']].describe()"
   ]
  },
  {
   "cell_type": "markdown",
   "metadata": {
    "slideshow": {
     "slide_type": "subslide"
    }
   },
   "source": [
    "### More summaries\n",
    "\n",
    "What if we just want a single value, like the mean of the population? We can call mean on a single column this way:\n"
   ]
  },
  {
   "cell_type": "code",
   "execution_count": null,
   "metadata": {},
   "outputs": [],
   "source": [
    "gapminder_copy['pop'].mean()"
   ]
  },
  {
   "cell_type": "markdown",
   "metadata": {
    "slideshow": {
     "slide_type": "subslide"
    }
   },
   "source": [
    "Let's visualize the distribution of one of these values, using a histogram:\n",
    "\n",
    "* __Histograms__ - provide a quick way of visualizing the distribution of numerical\n",
    "  data, or the frequencies of observations for categorical variables."
   ]
  },
  {
   "cell_type": "code",
   "execution_count": null,
   "metadata": {},
   "outputs": [],
   "source": [
    "gapminder_copy['pop'].plot.hist()\n",
    "\n",
    "# Try adding `logy=True`"
   ]
  },
  {
   "cell_type": "markdown",
   "metadata": {
    "slideshow": {
     "slide_type": "subslide"
    }
   },
   "source": [
    "## Grouping data\n",
    "\n",
    "What if we want to know the mean population by _continent_? We have this information in the data, but it's currently got one datapoint per country.\n",
    "\n",
    "We need to **group** the data, and then **aggregate** the values in each group with some statistic.\n",
    "\n",
    "In pandas we do this with the `groupby()` method."
   ]
  },
  {
   "cell_type": "code",
   "execution_count": null,
   "metadata": {},
   "outputs": [],
   "source": [
    "gapminder_copy[['continent', 'pop']].groupby(by='continent').mean()\n",
    "\n",
    "# Try the same with other methods like `count` and `median`"
   ]
  },
  {
   "cell_type": "markdown",
   "metadata": {
    "slideshow": {
     "slide_type": "subslide"
    }
   },
   "source": [
    "This is where it becomes useful to visualize our data, for example, with a **barchart**"
   ]
  },
  {
   "cell_type": "code",
   "execution_count": null,
   "metadata": {},
   "outputs": [],
   "source": [
    "gapminder_copy[['continent', 'pop']].groupby(by='continent').mean().plot.bar()"
   ]
  },
  {
   "cell_type": "markdown",
   "metadata": {
    "slideshow": {
     "slide_type": "fragment"
    }
   },
   "source": [
    "How about the number of entries (rows) per continent?\n"
   ]
  },
  {
   "cell_type": "code",
   "execution_count": null,
   "metadata": {},
   "outputs": [],
   "source": [
    "count = gapminder_copy[['continent', 'country']].groupby(by='continent').count()\n",
    "count"
   ]
  },
  {
   "cell_type": "code",
   "execution_count": null,
   "metadata": {},
   "outputs": [],
   "source": [
    "count.plot.bar()"
   ]
  },
  {
   "cell_type": "markdown",
   "metadata": {
    "slideshow": {
     "slide_type": "subslide"
    }
   },
   "source": [
    "We can also look at the mean GDP per capita of each country: \n"
   ]
  },
  {
   "cell_type": "code",
   "execution_count": null,
   "metadata": {},
   "outputs": [],
   "source": [
    "gapminder_copy.groupby(by='country').mean()['gdppercap'].head(12)"
   ]
  },
  {
   "cell_type": "markdown",
   "metadata": {
    "slideshow": {
     "slide_type": "subslide"
    }
   },
   "source": [
    "What if we wanted a new `DataFrame` that just contained these summaries? This could be a table in a report, for example."
   ]
  },
  {
   "cell_type": "code",
   "execution_count": null,
   "metadata": {},
   "outputs": [],
   "source": [
    "continent_mean_pop = gapminder_copy[['continent', 'pop']].groupby(by='continent').mean()\n",
    "continent_mean_pop = continent_mean_pop.rename(columns = {'pop':'meanpop'})\n",
    "continent_row_ct = gapminder_copy[['continent', 'country']].groupby(by='continent').count()\n",
    "continent_row_ct = continent_row_ct.rename(columns = {'country':'nrows'})\n",
    "continent_median_pop = gapminder_copy[['continent', 'pop']].groupby(by='continent').median()\n",
    "continent_median_pop = continent_median_pop.rename(columns = {'pop':'medianpop'})\n",
    "gapminder_summs = pd.concat([continent_row_ct,continent_mean_pop,continent_median_pop], axis=1)\n",
    "gapminder_summs = gapminder_summs.rename(columns = {'y':'year'})\n",
    "gapminder_summs"
   ]
  },
  {
   "cell_type": "markdown",
   "metadata": {
    "slideshow": {
     "slide_type": "subslide"
    }
   },
   "source": [
    "When you become a pandas master, you can also do this kind of stuff with one line:"
   ]
  },
  {
   "cell_type": "code",
   "execution_count": null,
   "metadata": {},
   "outputs": [],
   "source": [
    "grp = gapminder_copy.groupby('continent')\n",
    "grp.agg({'pop': ('mean', 'median'), 'country': 'count'})"
   ]
  },
  {
   "cell_type": "markdown",
   "metadata": {
    "slideshow": {
     "slide_type": "subslide"
    }
   },
   "source": [
    "## Comparing two variables\n",
    "\n",
    "It's also often useful to compare multiple variables in one plot. There are a bunch of ways to do this. For example, we could use a boxplot to look at the distribution of one variable grouped by another:\n",
    "\n",
    "\n",
    "* __Boxplots__ - provide a way of comparing the summary measures (e.g., max, min,\n",
    "  quartiles) across variables in a data set. Boxplots can be particularly useful with larger data sets.\n"
   ]
  },
  {
   "cell_type": "code",
   "execution_count": null,
   "metadata": {},
   "outputs": [],
   "source": [
    "gapminder_copy.boxplot('life_exp', by='year')"
   ]
  },
  {
   "cell_type": "markdown",
   "metadata": {
    "slideshow": {
     "slide_type": "subslide"
    }
   },
   "source": [
    "### Scatterplots\n",
    "\n",
    "* __Scatterplots__ - visualization of relationships across two variables..."
   ]
  },
  {
   "cell_type": "code",
   "execution_count": null,
   "metadata": {},
   "outputs": [],
   "source": [
    "# example plot goes here\n",
    "gapminder_copy.plot.scatter('gdppercap', 'life_exp')"
   ]
  },
  {
   "cell_type": "code",
   "execution_count": null,
   "metadata": {
    "slideshow": {
     "slide_type": "fragment"
    }
   },
   "outputs": [],
   "source": [
    "gapminder_copy.plot.scatter('gdppercap', 'life_exp', logx=True)"
   ]
  },
  {
   "cell_type": "markdown",
   "metadata": {
    "slideshow": {
     "slide_type": "subslide"
    }
   },
   "source": [
    "### Coding information into new variables\n",
    "Another trick is to add another axis of information in the plot. For example, let's plot a histogram of life expectancy, with the year coded by color:"
   ]
  },
  {
   "cell_type": "code",
   "execution_count": null,
   "metadata": {},
   "outputs": [],
   "source": [
    "# This uses something called a \"for\" loop in python to loop through the groups\n",
    "fig, ax = plt.subplots()\n",
    "grp_year = gapminder_copy.groupby('year')\n",
    "\n",
    "# Set color cycles\n",
    "from matplotlib import cycler\n",
    "cyc = cycler(color=plt.cm.viridis(np.linspace(0, 1, len(grp_year))))\n",
    "\n",
    "# Iterate through years\n",
    "for (year, group), kws in zip(grp_year, cyc):\n",
    "    ax.hist(group['life_exp'], bins=np.arange(0, 100, 5), alpha=.8, **kws)"
   ]
  },
  {
   "cell_type": "markdown",
   "metadata": {
    "slideshow": {
     "slide_type": "subslide"
    }
   },
   "source": [
    "We can do the same thing for scatterplots..."
   ]
  },
  {
   "cell_type": "code",
   "execution_count": null,
   "metadata": {
    "slideshow": {
     "slide_type": "fragment"
    }
   },
   "outputs": [],
   "source": [
    "gapminder_copy.plot.scatter('gdppercap', 'life_exp', c='year', logx=True, cmap='viridis')"
   ]
  },
  {
   "cell_type": "markdown",
   "metadata": {
    "slideshow": {
     "slide_type": "slide"
    }
   },
   "source": [
    "# Rule 7: Spin off scripts early and often\n",
    "\n",
    "A big challenge with programming interactively is that you tend to generate messy, complicated files with lots of half-baked ideas in them. For example, in this notebook we've:\n",
    "\n",
    "* Loaded the data\n",
    "* Inspected the data\n",
    "* Cleaned the data\n",
    "* Computed some summary statistics on it\n",
    "* Created some visualizations"
   ]
  },
  {
   "cell_type": "markdown",
   "metadata": {
    "slideshow": {
     "slide_type": "subslide"
    }
   },
   "source": [
    "We should really split this off into multiple files, called scripts, that can be run independently. We'll create a new folder, called `script`, that lives inside of our cleaning folder. In this, we'll put our data munging code, which will generate a new set of data called \"cleaned\". \n",
    "\n",
    "Here's what it should look like:\n",
    "\n",
    "```\n",
    "projects/\n",
    "    gapminder/\n",
    "        data/\n",
    "            00_raw/\n",
    "                gapminderDataFiveYear_superDirty.xlsx\n",
    "            01_cleaning/\n",
    "                gapminderDataFiveYear_superDirty.xlsx\n",
    "                gapminderDataFiveYear_manualcleaned.txt\n",
    "                scripts/\n",
    "                    <script-we'll-soon-create>\n",
    "            02_cleaned/\n",
    "                    gapminder_clean.csv\n",
    "```"
   ]
  },
  {
   "cell_type": "markdown",
   "metadata": {
    "slideshow": {
     "slide_type": "subslide"
    }
   },
   "source": [
    "Put this code in a file called `clean_data.py` and put it in `01_cleaning/scripts`"
   ]
  },
  {
   "cell_type": "markdown",
   "metadata": {
    "slideshow": {
     "slide_type": "-"
    }
   },
   "source": [
    "```\n",
    "import pandas as pd\n",
    "import numpy as np\n",
    "import matplotlib.pyplot as plt\n",
    "import os.path as op\n",
    "\n",
    "# Set up the path to the data file\n",
    "path = op.dirname(op.abspath(__file__))\n",
    "path_data = path + \"/../../01_cleaning/gapminderDataFiveYear_manualcleaned.txt\"\n",
    "print('Loading dataset: {}'.format(path_data))\n",
    "gapminder = pd.read_table(path_data, sep = \"\\t\")\n",
    "gapminder_copy = gapminder.copy()\n",
    "\n",
    "# Drop missing values\n",
    "gapminder_copy = gapminder_copy.dropna()\n",
    "\n",
    "# Convert types to int\n",
    "gapminder_copy['year'] = gapminder_copy['year'].astype(int)\n",
    "gapminder_copy['pop'] = gapminder_copy['pop'].astype(int)\n",
    "\n",
    "# Drop duplicates\n",
    "gapminder_copy = gapminder_copy.drop_duplicates()\n",
    "\n",
    "# Now we'll reset the index of the dataframe since it's off by 1\n",
    "gapminder_copy = gapminder_copy.reset_index(drop=True)\n",
    "\n",
    "# Clean up the strings\n",
    "gapminder_copy['region'] = gapminder_copy['region'].str.lstrip().str.rstrip().str.lower()\n",
    "\n",
    "# Make our columns lowercase\n",
    "gapminder_copy.columns = gapminder_copy.columns.str.lower()\n",
    "\n",
    "# Rename columns so that spaces become underscores\n",
    "gapminder_copy.columns = gapminder_copy.columns.str.replace(' ', '_')\n",
    "\n",
    "# Fix string naming\n",
    "gapminder_copy['region'].replace(\".*congo, dem.*\", \"africa_dem rep congo\", regex=True, inplace=True)\n",
    "gapminder_copy['region'].replace(\".*_democratic republic of the congo\", \"africa_dem rep congo\", regex=True, inplace=True)\n",
    "\n",
    "gapminder_copy['region'].replace(\".*ivore.*\", \"africa_cote d'ivoire\", regex=True, inplace=True)\n",
    "gapminder_copy['region'].replace(\"^_canada\", \"americas_canada\", regex=True, inplace=True)\n",
    "\n",
    "# Tidy the data\n",
    "split_regions = gapminder_copy['region'].str.split('_', 1)\n",
    "\n",
    "# Create two new variables from the previous column\n",
    "gapminder_copy['country'] = split_regions.str[1]\n",
    "gapminder_copy['continent'] = split_regions.str[0]\n",
    "\n",
    "# Now we'll drop the old region column, and look at the data\n",
    "gapminder_copy = gapminder_copy.drop('region', 1) #1 stands for column\n",
    "\n",
    "# Save the data\n",
    "path_save = path + '/../../02_cleaned/gapminder_clean.csv'\n",
    "print('Saving to: {}'.format(path_save))\n",
    "gapminder_copy.to_csv(path_save, index=False)\n",
    "\n",
    "# It's always good to print \"Done\" at the end of a script so you really know it finished.\n",
    "print('Done!\\n---\\n\\n')\n",
    "\n",
    "```"
   ]
  },
  {
   "cell_type": "markdown",
   "metadata": {
    "slideshow": {
     "slide_type": "subslide"
    }
   },
   "source": [
    "We can now run this script from the command line by doing the following:"
   ]
  },
  {
   "cell_type": "code",
   "execution_count": null,
   "metadata": {},
   "outputs": [],
   "source": [
    "!python ../../projects/gapminder/data/01_cleaning/scripts/clean_data.py"
   ]
  },
  {
   "cell_type": "markdown",
   "metadata": {},
   "source": [
    "Now we can focus subsequent notebooks etc on visualizing and understanding the actual data."
   ]
  },
  {
   "cell_type": "markdown",
   "metadata": {
    "collapsed": true,
    "slideshow": {
     "slide_type": "slide"
    }
   },
   "source": [
    "# Finishing Up\n",
    "\n",
    "At this point, we've taken a first look at the data, cleaned it up a bit, and have started asking some simple questions with it. However, in order to formally do anything with the data, we need to use actual statistical procedures and more complicated visualizations. We'll focus on this in the final lesson of this series."
   ]
  },
  {
   "cell_type": "code",
   "execution_count": null,
   "metadata": {
    "collapsed": true
   },
   "outputs": [],
   "source": []
  }
 ],
 "metadata": {
  "celltoolbar": "Slideshow",
  "kernelspec": {
   "display_name": "Python 3",
   "language": "python",
   "name": "python3"
  },
  "language_info": {
   "codemirror_mode": {
    "name": "ipython",
    "version": 3
   },
   "file_extension": ".py",
   "mimetype": "text/x-python",
   "name": "python",
   "nbconvert_exporter": "python",
   "pygments_lexer": "ipython3",
   "version": "3.6.0"
  },
  "livereveal": {
   "progress": true,
   "scroll": true,
   "start_slideshow_at": "selected"
  },
  "toc": {
   "toc_cell": false,
   "toc_number_sections": false,
   "toc_section_display": "block",
   "toc_threshold": "3",
   "toc_window_display": true
  }
 },
 "nbformat": 4,
 "nbformat_minor": 1
}
