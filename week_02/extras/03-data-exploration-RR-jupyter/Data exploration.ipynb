{
 "cells": [
  {
   "cell_type": "markdown",
   "metadata": {
    "slideshow": {
     "slide_type": "slide"
    }
   },
   "source": [
    "# Exploring your data\n",
    "\n",
    "Exploring data is kind of difficult to define because the line between \"exploring\" and \"analyzing\" is often blurred. This notebook will focus on the first moments of interaction with a new dataset.\n",
    "\n",
    "It covers things like making sense of your data, cleaning it, and putting it in a form that's ready to be analyzed. We'll make some simple plots and get our data ready for the next step of analysis (which we'll cover next week)."
   ]
  },
  {
   "cell_type": "markdown",
   "metadata": {
    "slideshow": {
     "slide_type": "subslide"
    }
   },
   "source": [
    "# Libraries we'll use\n",
    "\n",
    "## matplotlib and other plotting libraries\n",
    "\n",
    "matplotlib is the most widely used Python library for plotting.  We can run it in the notebook using the magic command `%matplotlib inline`. If you do not use `%matplotlib inline`, your plots will be generated outside of the notebook and may be difficult to find.  See [the IPython docs](http://ipython.readthedocs.io/en/stable/interactive/plotting.html) for other IPython magics commands.\n",
    "\n",
    "## The Pandas Library\n",
    "\n",
    "One of the best options for working with tabular data in Python is the Python Data Analysis Library (a.k.a. Pandas). The Pandas library is built on top of the NumPy package (another Python library). Pandas provides data structures, produces high quality plots with matplotlib, and integrates nicely with other libraries that use NumPy arrays. Those familiar with spreadsheets should become comfortable with Pandas data structures."
   ]
  },
  {
   "cell_type": "code",
   "execution_count": null,
   "metadata": {
    "collapsed": true
   },
   "outputs": [],
   "source": [
    "import pandas as pd\n",
    "import numpy as np\n",
    "import matplotlib.pyplot as plt\n",
    "%matplotlib inline"
   ]
  },
  {
   "cell_type": "markdown",
   "metadata": {
    "slideshow": {
     "slide_type": "slide"
    }
   },
   "source": [
    "# Rule 1: Always look at your raw data\n",
    "\n",
    "It's easy to begin hacking away at a dataset, but how do we know that the data is what it's *supposed* to be? One way to confirm this is to look at the raw data however you can.\n",
    "\n",
    "We will begin by locating and reading our data which are in a table format as a tab-delimited file. We will use Pandas’ `read_table` function to pull the file directly into a `DataFrame`."
   ]
  },
  {
   "cell_type": "markdown",
   "metadata": {
    "slideshow": {
     "slide_type": "subslide"
    }
   },
   "source": [
    "## Why Pandas?\n",
    "\n",
    "In one word: metadata! Remember the value of contextual information in understanding what's going on with your data / analysis workflows.\n",
    "\n",
    "Pandas gives us a really useful tool, called a **DataFrame** for representing our data. This lets us keep some metadata along with the raw values themselves."
   ]
  },
  {
   "cell_type": "markdown",
   "metadata": {
    "slideshow": {
     "slide_type": "subslide"
    }
   },
   "source": [
    "## What’s a `DataFrame`?\n",
    "A `DataFrame` is a 2-dimensional data structure that can store in columns data of different types (including characters, integers, floating point values, factors and more). It is similar to a spreadsheet or a SQL table or data.frame in R. A `DataFrame` always has an index (0-based). An index refers to the position of an element in the data structure.\n",
    "\n",
    "Note that we use `pd.read_table`, not just `read_table` or `pandas.read_table`, because we imported Pandas as `pd`.\n",
    "\n",
    "In our original file, the columns in the data set are separated by a TAB. We need to tell the `read_table` function in Pandas that that is the delimiter with `sep = ‘\\t’`."
   ]
  },
  {
   "cell_type": "code",
   "execution_count": 3,
   "metadata": {
    "collapsed": true
   },
   "outputs": [],
   "source": [
    "path_data = \"../02-organization-RR-jupyter/data/gapminderDataFiveYear_superDirty.txt\"\n",
    "#You can also read your table in from a file directory\n",
    "gapminder = pd.read_table(path_data, sep = \"\\t\")"
   ]
  },
  {
   "cell_type": "markdown",
   "metadata": {
    "slideshow": {
     "slide_type": "subslide"
    }
   },
   "source": [
    "### Looking at your dataframe\n",
    "The first thing to do when loading data into the notebook is to actually \"look\" at it.  How many rows and columns are there?  What types of variables are in it and what values can they take?\n",
    "\n",
    "There are usually too many rows to print to the screen.  By default, when you type the name of the `DataFrame` and run a cell, Pandas knows to not print the whole thing.  Instead, you will see the first and last few rows with dots in between.  A neater way to see a preview of the dataset is the `head()` method.  Calling `dataset.head()` will display the first 5 rows of the data.  You can specify how many rows you want to see as an argument, like `dataset.head(10)`.  The `tail()` method does the same with the last rows of the `DataFrame`."
   ]
  },
  {
   "cell_type": "code",
   "execution_count": 4,
   "metadata": {},
   "outputs": [
    {
     "data": {
      "text/html": [
       "<div>\n",
       "<table border=\"1\" class=\"dataframe\">\n",
       "  <thead>\n",
       "    <tr style=\"text-align: right;\">\n",
       "      <th></th>\n",
       "      <th>year</th>\n",
       "      <th>pop</th>\n",
       "      <th>life Exp</th>\n",
       "      <th>gdpPercap</th>\n",
       "      <th>region</th>\n",
       "    </tr>\n",
       "  </thead>\n",
       "  <tbody>\n",
       "    <tr>\n",
       "      <th>0</th>\n",
       "      <td>1952.0</td>\n",
       "      <td>8425333.0</td>\n",
       "      <td>28.801</td>\n",
       "      <td>779.445314</td>\n",
       "      <td>Asia_Afghanistan</td>\n",
       "    </tr>\n",
       "    <tr>\n",
       "      <th>1</th>\n",
       "      <td>1957.0</td>\n",
       "      <td>9240934.0</td>\n",
       "      <td>30.332</td>\n",
       "      <td>820.853030</td>\n",
       "      <td>Asia_Afghanistan</td>\n",
       "    </tr>\n",
       "    <tr>\n",
       "      <th>2</th>\n",
       "      <td>1957.0</td>\n",
       "      <td>9240934.0</td>\n",
       "      <td>30.332</td>\n",
       "      <td>820.853030</td>\n",
       "      <td>Asia_Afghanistan</td>\n",
       "    </tr>\n",
       "    <tr>\n",
       "      <th>3</th>\n",
       "      <td>1962.0</td>\n",
       "      <td>10267083.0</td>\n",
       "      <td>31.997</td>\n",
       "      <td>853.100710</td>\n",
       "      <td>Asia_Afghanistan</td>\n",
       "    </tr>\n",
       "    <tr>\n",
       "      <th>4</th>\n",
       "      <td>1962.0</td>\n",
       "      <td>NaN</td>\n",
       "      <td>31.997</td>\n",
       "      <td>NaN</td>\n",
       "      <td>Asia_Afghanistan</td>\n",
       "    </tr>\n",
       "    <tr>\n",
       "      <th>5</th>\n",
       "      <td>1967.0</td>\n",
       "      <td>11537966.0</td>\n",
       "      <td>34.020</td>\n",
       "      <td>836.197138</td>\n",
       "      <td>Asia_Afghanistan</td>\n",
       "    </tr>\n",
       "    <tr>\n",
       "      <th>6</th>\n",
       "      <td>1972.0</td>\n",
       "      <td>13079460.0</td>\n",
       "      <td>36.088</td>\n",
       "      <td>739.981106</td>\n",
       "      <td>Asia_Afghanistan</td>\n",
       "    </tr>\n",
       "    <tr>\n",
       "      <th>7</th>\n",
       "      <td>1977.0</td>\n",
       "      <td>14880372.0</td>\n",
       "      <td>38.438</td>\n",
       "      <td>786.113360</td>\n",
       "      <td>Asia_Afghanistan</td>\n",
       "    </tr>\n",
       "    <tr>\n",
       "      <th>8</th>\n",
       "      <td>1982.0</td>\n",
       "      <td>12881816.0</td>\n",
       "      <td>39.854</td>\n",
       "      <td>978.011439</td>\n",
       "      <td>Asia_Afghanistan</td>\n",
       "    </tr>\n",
       "    <tr>\n",
       "      <th>9</th>\n",
       "      <td>1987.0</td>\n",
       "      <td>13867957.0</td>\n",
       "      <td>40.822</td>\n",
       "      <td>852.395945</td>\n",
       "      <td>Asia_Afghanistan</td>\n",
       "    </tr>\n",
       "    <tr>\n",
       "      <th>10</th>\n",
       "      <td>1992.0</td>\n",
       "      <td>16317921.0</td>\n",
       "      <td>41.674</td>\n",
       "      <td>649.341395</td>\n",
       "      <td>Asia_Afghanistan</td>\n",
       "    </tr>\n",
       "    <tr>\n",
       "      <th>11</th>\n",
       "      <td>1997.0</td>\n",
       "      <td>22227415.0</td>\n",
       "      <td>41.763</td>\n",
       "      <td>635.341351</td>\n",
       "      <td>Asia_Afghanistan</td>\n",
       "    </tr>\n",
       "    <tr>\n",
       "      <th>12</th>\n",
       "      <td>2002.0</td>\n",
       "      <td>25268405.0</td>\n",
       "      <td>42.129</td>\n",
       "      <td>726.734055</td>\n",
       "      <td>Asia_Afghanistan</td>\n",
       "    </tr>\n",
       "    <tr>\n",
       "      <th>13</th>\n",
       "      <td>2007.0</td>\n",
       "      <td>31889923.0</td>\n",
       "      <td>43.828</td>\n",
       "      <td>974.580338</td>\n",
       "      <td>Asia_Afghanistan</td>\n",
       "    </tr>\n",
       "    <tr>\n",
       "      <th>14</th>\n",
       "      <td>1952.0</td>\n",
       "      <td>1282697.0</td>\n",
       "      <td>55.230</td>\n",
       "      <td>1601.056136</td>\n",
       "      <td>Europe_Albania</td>\n",
       "    </tr>\n",
       "    <tr>\n",
       "      <th>15</th>\n",
       "      <td>1957.0</td>\n",
       "      <td>1476505.0</td>\n",
       "      <td>59.280</td>\n",
       "      <td>1942.284244</td>\n",
       "      <td>Europe_Albania</td>\n",
       "    </tr>\n",
       "    <tr>\n",
       "      <th>16</th>\n",
       "      <td>1962.0</td>\n",
       "      <td>1728137.0</td>\n",
       "      <td>64.820</td>\n",
       "      <td>2312.888958</td>\n",
       "      <td>Europe_Albania</td>\n",
       "    </tr>\n",
       "    <tr>\n",
       "      <th>17</th>\n",
       "      <td>1967.0</td>\n",
       "      <td>1984060.0</td>\n",
       "      <td>66.220</td>\n",
       "      <td>2760.196931</td>\n",
       "      <td>Europe_Albania</td>\n",
       "    </tr>\n",
       "    <tr>\n",
       "      <th>18</th>\n",
       "      <td>1972.0</td>\n",
       "      <td>2263554.0</td>\n",
       "      <td>67.690</td>\n",
       "      <td>3313.422188</td>\n",
       "      <td>Europe_Albania</td>\n",
       "    </tr>\n",
       "    <tr>\n",
       "      <th>19</th>\n",
       "      <td>1977.0</td>\n",
       "      <td>2509048.0</td>\n",
       "      <td>68.930</td>\n",
       "      <td>3533.003910</td>\n",
       "      <td>Europe_Albania</td>\n",
       "    </tr>\n",
       "    <tr>\n",
       "      <th>20</th>\n",
       "      <td>1982.0</td>\n",
       "      <td>2780097.0</td>\n",
       "      <td>70.420</td>\n",
       "      <td>3630.880722</td>\n",
       "      <td>Europe_Albania</td>\n",
       "    </tr>\n",
       "    <tr>\n",
       "      <th>21</th>\n",
       "      <td>1987.0</td>\n",
       "      <td>3075321.0</td>\n",
       "      <td>72.000</td>\n",
       "      <td>3738.932735</td>\n",
       "      <td>Europe_Albania</td>\n",
       "    </tr>\n",
       "    <tr>\n",
       "      <th>22</th>\n",
       "      <td>1992.0</td>\n",
       "      <td>3326498.0</td>\n",
       "      <td>71.581</td>\n",
       "      <td>2497.437901</td>\n",
       "      <td>Europe_Albania</td>\n",
       "    </tr>\n",
       "    <tr>\n",
       "      <th>23</th>\n",
       "      <td>1997.0</td>\n",
       "      <td>3428038.0</td>\n",
       "      <td>72.950</td>\n",
       "      <td>3193.054604</td>\n",
       "      <td>Europe_Albania</td>\n",
       "    </tr>\n",
       "    <tr>\n",
       "      <th>24</th>\n",
       "      <td>2002.0</td>\n",
       "      <td>3508512.0</td>\n",
       "      <td>75.651</td>\n",
       "      <td>4604.211737</td>\n",
       "      <td>Europe_Albania</td>\n",
       "    </tr>\n",
       "    <tr>\n",
       "      <th>25</th>\n",
       "      <td>2007.0</td>\n",
       "      <td>3600523.0</td>\n",
       "      <td>76.423</td>\n",
       "      <td>5937.029526</td>\n",
       "      <td>Europe_Albania</td>\n",
       "    </tr>\n",
       "    <tr>\n",
       "      <th>26</th>\n",
       "      <td>1952.0</td>\n",
       "      <td>9279525.0</td>\n",
       "      <td>43.077</td>\n",
       "      <td>2449.008185</td>\n",
       "      <td>Africa_Algeria</td>\n",
       "    </tr>\n",
       "    <tr>\n",
       "      <th>27</th>\n",
       "      <td>1957.0</td>\n",
       "      <td>10270856.0</td>\n",
       "      <td>45.685</td>\n",
       "      <td>3013.976023</td>\n",
       "      <td>Africa_Algeria</td>\n",
       "    </tr>\n",
       "    <tr>\n",
       "      <th>28</th>\n",
       "      <td>1962.0</td>\n",
       "      <td>11000948.0</td>\n",
       "      <td>48.303</td>\n",
       "      <td>2550.816880</td>\n",
       "      <td>Africa_Algeria</td>\n",
       "    </tr>\n",
       "    <tr>\n",
       "      <th>29</th>\n",
       "      <td>1967.0</td>\n",
       "      <td>12760499.0</td>\n",
       "      <td>51.407</td>\n",
       "      <td>3246.991771</td>\n",
       "      <td>Africa_Algeria</td>\n",
       "    </tr>\n",
       "    <tr>\n",
       "      <th>...</th>\n",
       "      <td>...</td>\n",
       "      <td>...</td>\n",
       "      <td>...</td>\n",
       "      <td>...</td>\n",
       "      <td>...</td>\n",
       "    </tr>\n",
       "    <tr>\n",
       "      <th>1690</th>\n",
       "      <td>1982.0</td>\n",
       "      <td>9657618.0</td>\n",
       "      <td>49.113</td>\n",
       "      <td>1977.557010</td>\n",
       "      <td>Asia_Yemen, Rep.</td>\n",
       "    </tr>\n",
       "    <tr>\n",
       "      <th>1691</th>\n",
       "      <td>1987.0</td>\n",
       "      <td>11219340.0</td>\n",
       "      <td>52.922</td>\n",
       "      <td>1971.741538</td>\n",
       "      <td>Asia_Yemen, Rep.</td>\n",
       "    </tr>\n",
       "    <tr>\n",
       "      <th>1692</th>\n",
       "      <td>1992.0</td>\n",
       "      <td>13367997.0</td>\n",
       "      <td>55.599</td>\n",
       "      <td>1879.496673</td>\n",
       "      <td>Asia_Yemen, Rep.</td>\n",
       "    </tr>\n",
       "    <tr>\n",
       "      <th>1693</th>\n",
       "      <td>1997.0</td>\n",
       "      <td>15826497.0</td>\n",
       "      <td>58.020</td>\n",
       "      <td>2117.484526</td>\n",
       "      <td>Asia_Yemen, Rep.</td>\n",
       "    </tr>\n",
       "    <tr>\n",
       "      <th>1694</th>\n",
       "      <td>2002.0</td>\n",
       "      <td>18701257.0</td>\n",
       "      <td>60.308</td>\n",
       "      <td>2234.820827</td>\n",
       "      <td>Asia_Yemen, Rep.</td>\n",
       "    </tr>\n",
       "    <tr>\n",
       "      <th>1695</th>\n",
       "      <td>2007.0</td>\n",
       "      <td>22211743.0</td>\n",
       "      <td>62.698</td>\n",
       "      <td>2280.769906</td>\n",
       "      <td>Asia_Yemen, Rep.</td>\n",
       "    </tr>\n",
       "    <tr>\n",
       "      <th>1696</th>\n",
       "      <td>1952.0</td>\n",
       "      <td>2672000.0</td>\n",
       "      <td>42.038</td>\n",
       "      <td>1147.388831</td>\n",
       "      <td>Africa_Zambia</td>\n",
       "    </tr>\n",
       "    <tr>\n",
       "      <th>1697</th>\n",
       "      <td>1957.0</td>\n",
       "      <td>3016000.0</td>\n",
       "      <td>44.077</td>\n",
       "      <td>1311.956766</td>\n",
       "      <td>Africa_Zambia</td>\n",
       "    </tr>\n",
       "    <tr>\n",
       "      <th>1698</th>\n",
       "      <td>1962.0</td>\n",
       "      <td>3421000.0</td>\n",
       "      <td>46.023</td>\n",
       "      <td>1452.725766</td>\n",
       "      <td>Africa_Zambia</td>\n",
       "    </tr>\n",
       "    <tr>\n",
       "      <th>1699</th>\n",
       "      <td>1967.0</td>\n",
       "      <td>3900000.0</td>\n",
       "      <td>47.768</td>\n",
       "      <td>1777.077318</td>\n",
       "      <td>Africa_Zambia</td>\n",
       "    </tr>\n",
       "    <tr>\n",
       "      <th>1700</th>\n",
       "      <td>1972.0</td>\n",
       "      <td>4506497.0</td>\n",
       "      <td>50.107</td>\n",
       "      <td>1773.498265</td>\n",
       "      <td>Africa_Zambia</td>\n",
       "    </tr>\n",
       "    <tr>\n",
       "      <th>1701</th>\n",
       "      <td>1977.0</td>\n",
       "      <td>5216550.0</td>\n",
       "      <td>51.386</td>\n",
       "      <td>1588.688299</td>\n",
       "      <td>Africa_Zambia</td>\n",
       "    </tr>\n",
       "    <tr>\n",
       "      <th>1702</th>\n",
       "      <td>1982.0</td>\n",
       "      <td>6100407.0</td>\n",
       "      <td>51.821</td>\n",
       "      <td>1408.678565</td>\n",
       "      <td>Africa_Zambia</td>\n",
       "    </tr>\n",
       "    <tr>\n",
       "      <th>1703</th>\n",
       "      <td>1987.0</td>\n",
       "      <td>7272406.0</td>\n",
       "      <td>50.821</td>\n",
       "      <td>1213.315116</td>\n",
       "      <td>Africa_Zambia</td>\n",
       "    </tr>\n",
       "    <tr>\n",
       "      <th>1704</th>\n",
       "      <td>1992.0</td>\n",
       "      <td>8381163.0</td>\n",
       "      <td>46.100</td>\n",
       "      <td>1210.884633</td>\n",
       "      <td>Africa_Zambia</td>\n",
       "    </tr>\n",
       "    <tr>\n",
       "      <th>1705</th>\n",
       "      <td>1997.0</td>\n",
       "      <td>9417789.0</td>\n",
       "      <td>40.238</td>\n",
       "      <td>1071.353818</td>\n",
       "      <td>Africa_Zambia</td>\n",
       "    </tr>\n",
       "    <tr>\n",
       "      <th>1706</th>\n",
       "      <td>2002.0</td>\n",
       "      <td>10595811.0</td>\n",
       "      <td>39.193</td>\n",
       "      <td>1071.613938</td>\n",
       "      <td>Africa_Zambia</td>\n",
       "    </tr>\n",
       "    <tr>\n",
       "      <th>1707</th>\n",
       "      <td>2007.0</td>\n",
       "      <td>11746035.0</td>\n",
       "      <td>42.384</td>\n",
       "      <td>1271.211593</td>\n",
       "      <td>Africa_Zambia</td>\n",
       "    </tr>\n",
       "    <tr>\n",
       "      <th>1708</th>\n",
       "      <td>1952.0</td>\n",
       "      <td>3080907.0</td>\n",
       "      <td>48.451</td>\n",
       "      <td>406.884115</td>\n",
       "      <td>Africa_Zimbabwe</td>\n",
       "    </tr>\n",
       "    <tr>\n",
       "      <th>1709</th>\n",
       "      <td>1957.0</td>\n",
       "      <td>3646340.0</td>\n",
       "      <td>50.469</td>\n",
       "      <td>518.764268</td>\n",
       "      <td>Africa_Zimbabwe</td>\n",
       "    </tr>\n",
       "    <tr>\n",
       "      <th>1710</th>\n",
       "      <td>1962.0</td>\n",
       "      <td>4277736.0</td>\n",
       "      <td>52.358</td>\n",
       "      <td>527.272182</td>\n",
       "      <td>Africa_Zimbabwe</td>\n",
       "    </tr>\n",
       "    <tr>\n",
       "      <th>1711</th>\n",
       "      <td>1967.0</td>\n",
       "      <td>4995432.0</td>\n",
       "      <td>53.995</td>\n",
       "      <td>569.795071</td>\n",
       "      <td>Africa_Zimbabwe</td>\n",
       "    </tr>\n",
       "    <tr>\n",
       "      <th>1712</th>\n",
       "      <td>1972.0</td>\n",
       "      <td>5861135.0</td>\n",
       "      <td>55.635</td>\n",
       "      <td>799.362176</td>\n",
       "      <td>Africa_Zimbabwe</td>\n",
       "    </tr>\n",
       "    <tr>\n",
       "      <th>1713</th>\n",
       "      <td>1977.0</td>\n",
       "      <td>6642107.0</td>\n",
       "      <td>57.674</td>\n",
       "      <td>685.587682</td>\n",
       "      <td>Africa_Zimbabwe</td>\n",
       "    </tr>\n",
       "    <tr>\n",
       "      <th>1714</th>\n",
       "      <td>1982.0</td>\n",
       "      <td>7636524.0</td>\n",
       "      <td>60.363</td>\n",
       "      <td>788.855041</td>\n",
       "      <td>Africa_Zimbabwe</td>\n",
       "    </tr>\n",
       "    <tr>\n",
       "      <th>1715</th>\n",
       "      <td>1987.0</td>\n",
       "      <td>9216418.0</td>\n",
       "      <td>62.351</td>\n",
       "      <td>706.157306</td>\n",
       "      <td>Africa_Zimbabwe</td>\n",
       "    </tr>\n",
       "    <tr>\n",
       "      <th>1716</th>\n",
       "      <td>1992.0</td>\n",
       "      <td>10704340.0</td>\n",
       "      <td>60.377</td>\n",
       "      <td>693.420786</td>\n",
       "      <td>Africa_Zimbabwe</td>\n",
       "    </tr>\n",
       "    <tr>\n",
       "      <th>1717</th>\n",
       "      <td>1997.0</td>\n",
       "      <td>11404948.0</td>\n",
       "      <td>46.809</td>\n",
       "      <td>792.449960</td>\n",
       "      <td>Africa_Zimbabwe</td>\n",
       "    </tr>\n",
       "    <tr>\n",
       "      <th>1718</th>\n",
       "      <td>2002.0</td>\n",
       "      <td>11926563.0</td>\n",
       "      <td>39.989</td>\n",
       "      <td>672.038623</td>\n",
       "      <td>Africa_Zimbabwe</td>\n",
       "    </tr>\n",
       "    <tr>\n",
       "      <th>1719</th>\n",
       "      <td>2007.0</td>\n",
       "      <td>12311143.0</td>\n",
       "      <td>43.487</td>\n",
       "      <td>469.709298</td>\n",
       "      <td>Africa_Zimbabwe</td>\n",
       "    </tr>\n",
       "  </tbody>\n",
       "</table>\n",
       "<p>1720 rows × 5 columns</p>\n",
       "</div>"
      ],
      "text/plain": [
       "        year         pop  life Exp    gdpPercap            region\n",
       "0     1952.0   8425333.0    28.801   779.445314  Asia_Afghanistan\n",
       "1     1957.0   9240934.0    30.332   820.853030  Asia_Afghanistan\n",
       "2     1957.0   9240934.0    30.332   820.853030  Asia_Afghanistan\n",
       "3     1962.0  10267083.0    31.997   853.100710  Asia_Afghanistan\n",
       "4     1962.0         NaN    31.997          NaN  Asia_Afghanistan\n",
       "5     1967.0  11537966.0    34.020   836.197138  Asia_Afghanistan\n",
       "6     1972.0  13079460.0    36.088   739.981106  Asia_Afghanistan\n",
       "7     1977.0  14880372.0    38.438   786.113360  Asia_Afghanistan\n",
       "8     1982.0  12881816.0    39.854   978.011439  Asia_Afghanistan\n",
       "9     1987.0  13867957.0    40.822   852.395945  Asia_Afghanistan\n",
       "10    1992.0  16317921.0    41.674   649.341395  Asia_Afghanistan\n",
       "11    1997.0  22227415.0    41.763   635.341351  Asia_Afghanistan\n",
       "12    2002.0  25268405.0    42.129   726.734055  Asia_Afghanistan\n",
       "13    2007.0  31889923.0    43.828   974.580338  Asia_Afghanistan\n",
       "14    1952.0   1282697.0    55.230  1601.056136    Europe_Albania\n",
       "15    1957.0   1476505.0    59.280  1942.284244    Europe_Albania\n",
       "16    1962.0   1728137.0    64.820  2312.888958    Europe_Albania\n",
       "17    1967.0   1984060.0    66.220  2760.196931    Europe_Albania\n",
       "18    1972.0   2263554.0    67.690  3313.422188    Europe_Albania\n",
       "19    1977.0   2509048.0    68.930  3533.003910    Europe_Albania\n",
       "20    1982.0   2780097.0    70.420  3630.880722    Europe_Albania\n",
       "21    1987.0   3075321.0    72.000  3738.932735    Europe_Albania\n",
       "22    1992.0   3326498.0    71.581  2497.437901    Europe_Albania\n",
       "23    1997.0   3428038.0    72.950  3193.054604    Europe_Albania\n",
       "24    2002.0   3508512.0    75.651  4604.211737    Europe_Albania\n",
       "25    2007.0   3600523.0    76.423  5937.029526    Europe_Albania\n",
       "26    1952.0   9279525.0    43.077  2449.008185    Africa_Algeria\n",
       "27    1957.0  10270856.0    45.685  3013.976023    Africa_Algeria\n",
       "28    1962.0  11000948.0    48.303  2550.816880    Africa_Algeria\n",
       "29    1967.0  12760499.0    51.407  3246.991771    Africa_Algeria\n",
       "...      ...         ...       ...          ...               ...\n",
       "1690  1982.0   9657618.0    49.113  1977.557010  Asia_Yemen, Rep.\n",
       "1691  1987.0  11219340.0    52.922  1971.741538  Asia_Yemen, Rep.\n",
       "1692  1992.0  13367997.0    55.599  1879.496673  Asia_Yemen, Rep.\n",
       "1693  1997.0  15826497.0    58.020  2117.484526  Asia_Yemen, Rep.\n",
       "1694  2002.0  18701257.0    60.308  2234.820827  Asia_Yemen, Rep.\n",
       "1695  2007.0  22211743.0    62.698  2280.769906  Asia_Yemen, Rep.\n",
       "1696  1952.0   2672000.0    42.038  1147.388831     Africa_Zambia\n",
       "1697  1957.0   3016000.0    44.077  1311.956766     Africa_Zambia\n",
       "1698  1962.0   3421000.0    46.023  1452.725766     Africa_Zambia\n",
       "1699  1967.0   3900000.0    47.768  1777.077318     Africa_Zambia\n",
       "1700  1972.0   4506497.0    50.107  1773.498265     Africa_Zambia\n",
       "1701  1977.0   5216550.0    51.386  1588.688299     Africa_Zambia\n",
       "1702  1982.0   6100407.0    51.821  1408.678565     Africa_Zambia\n",
       "1703  1987.0   7272406.0    50.821  1213.315116     Africa_Zambia\n",
       "1704  1992.0   8381163.0    46.100  1210.884633     Africa_Zambia\n",
       "1705  1997.0   9417789.0    40.238  1071.353818     Africa_Zambia\n",
       "1706  2002.0  10595811.0    39.193  1071.613938     Africa_Zambia\n",
       "1707  2007.0  11746035.0    42.384  1271.211593     Africa_Zambia\n",
       "1708  1952.0   3080907.0    48.451   406.884115   Africa_Zimbabwe\n",
       "1709  1957.0   3646340.0    50.469   518.764268   Africa_Zimbabwe\n",
       "1710  1962.0   4277736.0    52.358   527.272182   Africa_Zimbabwe\n",
       "1711  1967.0   4995432.0    53.995   569.795071   Africa_Zimbabwe\n",
       "1712  1972.0   5861135.0    55.635   799.362176   Africa_Zimbabwe\n",
       "1713  1977.0   6642107.0    57.674   685.587682   Africa_Zimbabwe\n",
       "1714  1982.0   7636524.0    60.363   788.855041   Africa_Zimbabwe\n",
       "1715  1987.0   9216418.0    62.351   706.157306   Africa_Zimbabwe\n",
       "1716  1992.0  10704340.0    60.377   693.420786   Africa_Zimbabwe\n",
       "1717  1997.0  11404948.0    46.809   792.449960   Africa_Zimbabwe\n",
       "1718  2002.0  11926563.0    39.989   672.038623   Africa_Zimbabwe\n",
       "1719  2007.0  12311143.0    43.487   469.709298   Africa_Zimbabwe\n",
       "\n",
       "[1720 rows x 5 columns]"
      ]
     },
     "execution_count": 4,
     "metadata": {},
     "output_type": "execute_result"
    }
   ],
   "source": [
    "gapminder\n",
    "#head\n",
    "#tail"
   ]
  },
  {
   "cell_type": "markdown",
   "metadata": {
    "slideshow": {
     "slide_type": "subslide"
    }
   },
   "source": [
    "Sometimes the table has too many columns to print on screen. Calling `df.columns.values` will print all the column names in an array."
   ]
  },
  {
   "cell_type": "code",
   "execution_count": 5,
   "metadata": {},
   "outputs": [
    {
     "data": {
      "text/plain": [
       "array(['year', 'pop', 'life Exp', 'gdpPercap', 'region'], dtype=object)"
      ]
     },
     "execution_count": 5,
     "metadata": {},
     "output_type": "execute_result"
    }
   ],
   "source": [
    "gapminder.columns.values"
   ]
  },
  {
   "cell_type": "markdown",
   "metadata": {
    "slideshow": {
     "slide_type": "fragment"
    }
   },
   "source": [
    "If you want to see the raw data itself, you can acess this at `dataset.values`. This is what we'd be looking at if we didn't have Pandas DataFrames to give us contextual information."
   ]
  },
  {
   "cell_type": "code",
   "execution_count": 6,
   "metadata": {},
   "outputs": [
    {
     "data": {
      "text/plain": [
       "array([[1952.0, 8425333.0, 28.801, 779.4453145, 'Asia_Afghanistan'],\n",
       "       [1957.0, 9240934.0, 30.331999999999997, 820.8530296,\n",
       "        'Asia_Afghanistan'],\n",
       "       [1957.0, 9240934.0, 30.331999999999997, 820.8530296,\n",
       "        'Asia_Afghanistan'],\n",
       "       ..., \n",
       "       [1997.0, 11404948.0, 46.809, 792.4499602999999, 'Africa_Zimbabwe'],\n",
       "       [2002.0, 11926563.0, 39.989000000000004, 672.0386227000001,\n",
       "        'Africa_Zimbabwe'],\n",
       "       [2007.0, 12311143.0, 43.486999999999995, 469.70929810000007,\n",
       "        'Africa_Zimbabwe']], dtype=object)"
      ]
     },
     "execution_count": 6,
     "metadata": {},
     "output_type": "execute_result"
    }
   ],
   "source": [
    "gapminder.values"
   ]
  },
  {
   "cell_type": "markdown",
   "metadata": {
    "slideshow": {
     "slide_type": "slide"
    }
   },
   "source": [
    "# Rule 2: Assess the cleanliness of the data\n",
    "Let's get an idea for how \"clean\" the data is. For example, are the values what we'd expect them to be? Are there any errors we should fix?\n"
   ]
  },
  {
   "cell_type": "markdown",
   "metadata": {
    "slideshow": {
     "slide_type": "subslide"
    }
   },
   "source": [
    "## How many rows and columns are in the data?\n",
    "We often want to know how many rows and columns are in the data -- what is the \"shape\" of the `DataFrame`. Shape is an attribute of the `DataFrame`. Pandas has a convenient way for getting that information by using `DataFrame.shape`  (using `DataFrame` here as a generic name for your `DataFrame`). This returns a tuple (immutable values separated by commas) representing the dimensions of the `DataFrame` (rows, columns).\n",
    "\n",
    "To get the shape of the gapminder `DataFrame`:"
   ]
  },
  {
   "cell_type": "code",
   "execution_count": 8,
   "metadata": {},
   "outputs": [
    {
     "data": {
      "text/plain": [
       "(1720, 5)"
      ]
     },
     "execution_count": 8,
     "metadata": {},
     "output_type": "execute_result"
    }
   ],
   "source": [
    "gapminder.shape\n",
    "\n",
    "# We can also get more information with methods like `info` and `describe`"
   ]
  },
  {
   "cell_type": "markdown",
   "metadata": {
    "slideshow": {
     "slide_type": "subslide"
    }
   },
   "source": [
    "## Take a subset of columns\n",
    "\n",
    "The `DataFrame` function `describe()` just blindly looks at all numeric variables. We wouldn't actually want to take the mean year. Additionally, we obtain ‘NaN’ values for our quartiles. This suggests we might have missing data which we can (and will) deal with shortly when we begin to clean our data.\n",
    "\n",
    "For now, let's pull out only the columns that are truly continuous numbers (i.e. ignore the description for ‘year’). This is a preview of selecting columns from the data; we'll talk more about how to do it later in the lesson."
   ]
  },
  {
   "cell_type": "code",
   "execution_count": 10,
   "metadata": {},
   "outputs": [
    {
     "data": {
      "text/html": [
       "<div>\n",
       "<table border=\"1\" class=\"dataframe\">\n",
       "  <thead>\n",
       "    <tr style=\"text-align: right;\">\n",
       "      <th></th>\n",
       "      <th>pop</th>\n",
       "      <th>life Exp</th>\n",
       "      <th>gdpPercap</th>\n",
       "    </tr>\n",
       "  </thead>\n",
       "  <tbody>\n",
       "    <tr>\n",
       "      <th>count</th>\n",
       "      <td>1.715000e+03</td>\n",
       "      <td>1719.000000</td>\n",
       "      <td>1718.000000</td>\n",
       "    </tr>\n",
       "    <tr>\n",
       "      <th>mean</th>\n",
       "      <td>2.954973e+07</td>\n",
       "      <td>59.436493</td>\n",
       "      <td>7208.452200</td>\n",
       "    </tr>\n",
       "    <tr>\n",
       "      <th>std</th>\n",
       "      <td>1.058366e+08</td>\n",
       "      <td>12.931041</td>\n",
       "      <td>9838.590984</td>\n",
       "    </tr>\n",
       "    <tr>\n",
       "      <th>min</th>\n",
       "      <td>6.001100e+04</td>\n",
       "      <td>23.599000</td>\n",
       "      <td>241.165877</td>\n",
       "    </tr>\n",
       "    <tr>\n",
       "      <th>25%</th>\n",
       "      <td>2.807799e+06</td>\n",
       "      <td>48.143000</td>\n",
       "      <td>1203.161887</td>\n",
       "    </tr>\n",
       "    <tr>\n",
       "      <th>50%</th>\n",
       "      <td>7.026113e+06</td>\n",
       "      <td>60.523000</td>\n",
       "      <td>3529.585686</td>\n",
       "    </tr>\n",
       "    <tr>\n",
       "      <th>75%</th>\n",
       "      <td>1.959366e+07</td>\n",
       "      <td>70.840500</td>\n",
       "      <td>9322.285886</td>\n",
       "    </tr>\n",
       "    <tr>\n",
       "      <th>max</th>\n",
       "      <td>1.318683e+09</td>\n",
       "      <td>82.603000</td>\n",
       "      <td>113523.132900</td>\n",
       "    </tr>\n",
       "  </tbody>\n",
       "</table>\n",
       "</div>"
      ],
      "text/plain": [
       "                pop     life Exp      gdpPercap\n",
       "count  1.715000e+03  1719.000000    1718.000000\n",
       "mean   2.954973e+07    59.436493    7208.452200\n",
       "std    1.058366e+08    12.931041    9838.590984\n",
       "min    6.001100e+04    23.599000     241.165877\n",
       "25%    2.807799e+06    48.143000    1203.161887\n",
       "50%    7.026113e+06    60.523000    3529.585686\n",
       "75%    1.959366e+07    70.840500    9322.285886\n",
       "max    1.318683e+09    82.603000  113523.132900"
      ]
     },
     "execution_count": 10,
     "metadata": {},
     "output_type": "execute_result"
    }
   ],
   "source": [
    "gapminder[['pop', 'life Exp', 'gdpPercap']]\n",
    "# .describe()"
   ]
  },
  {
   "cell_type": "markdown",
   "metadata": {
    "slideshow": {
     "slide_type": "subslide"
    }
   },
   "source": [
    "## Assessing whether data is \"correct\"\n",
    "\n",
    "Next, let's say you want to see all the unique values for the `region` column. One way to do this is:"
   ]
  },
  {
   "cell_type": "code",
   "execution_count": 11,
   "metadata": {},
   "outputs": [
    {
     "data": {
      "text/plain": [
       "array(['Asia_Afghanistan', 'Europe_Albania', 'Africa_Algeria',\n",
       "       'Africa_Angola', 'Americas_Argentina', 'Oceania_Australia',\n",
       "       'Europe_Austria', 'Asia_Bahrain', 'Asia_Bangladesh',\n",
       "       'Europe_Belgium', 'Africa_Benin', 'Americas_Bolivia',\n",
       "       'Europe_Bosnia and Herzegovina', 'Africa_Botswana',\n",
       "       'Americas_Brazil', 'Europe_Bulgaria', 'Africa_Burkina Faso',\n",
       "       'Africa_Burundi', 'Asia_Cambodia', 'Africa_Cameroon', '_Canada',\n",
       "       'Americas_Canada', 'Africa_Central African Republic',\n",
       "       'Africa_Central african republic', 'Africa_Chad', 'Americas_Chile',\n",
       "       'Asia_China', 'Asia_china', 'Americas_Colombia',\n",
       "       'Americas_Colombia    ', 'Africa_Comoros',\n",
       "       'Africa_Congo, Dem. Rep.',\n",
       "       'Africa_Democratic Republic of the Congo',\n",
       "       'Africa_Congo, Democratic Republic', 'Africa_Congo, Rep.',\n",
       "       'Americas_Costa Rica', \"Africa_Cote d'Ivoire\",\n",
       "       \"Africa_Cote d'Ivore\", 'Europe_Croatia', 'Americas_Cuba',\n",
       "       'Europe_Czech Republic', 'Europe_Denmark', 'Africa_Djibouti',\n",
       "       'Americas_Dominican Republic', 'Americas_Ecuador', 'Africa_Egypt',\n",
       "       'Americas_El Salvador', 'Africa_Equatorial Guinea',\n",
       "       'Africa_Eritrea', 'Africa_Ethiopia', 'Europe_Finland',\n",
       "       'Europe_France', 'Africa_Gabon', 'Africa_Gambia', 'Europe_Germany',\n",
       "       'Africa_Ghana', 'Europe_Greece', 'Americas_Guatemala',\n",
       "       'Africa_Guinea', 'Africa_Guinea-Bissau', 'Americas_Haiti',\n",
       "       'Americas_Honduras', 'Asia_Hong Kong, China', 'Europe_Hungary',\n",
       "       'Europe_Iceland', 'Asia_India', 'Asia_Indonesia', 'Asia_Iran',\n",
       "       'Asia_Iraq', 'Europe_Ireland', 'Asia_Israel', 'Europe_Italy',\n",
       "       'Americas_Jamaica', 'Asia_Japan', 'Asia_Jordan', '    Asia_Jordan',\n",
       "       'Africa_Kenya', '    Asia_Korea, Dem. Rep.',\n",
       "       'Asia_Korea, Dem. Rep.', 'Asia_Korea, Rep.', 'Asia_Kuwait',\n",
       "       'Asia_Lebanon', 'Africa_Lesotho', 'Africa_Liberia', 'Africa_Libya',\n",
       "       'Africa_Madagascar', 'Africa_Malawi', 'Asia_Malaysia',\n",
       "       'Africa_Mali', 'Africa_Mauritania', 'Africa_Mauritius',\n",
       "       'Americas_Mexico', 'Asia_Mongolia', 'Europe_Montenegro',\n",
       "       'Africa_Morocco', 'Africa_Mozambique', 'Asia_Myanmar',\n",
       "       'Africa_Namibia', 'Asia_Nepal', 'Europe_Netherlands',\n",
       "       'Oceania_New Zealand', 'Americas_Nicaragua', 'Africa_Niger',\n",
       "       'Africa_Nigeria', 'Europe_Norway', 'Asia_Oman', 'Asia_Pakistan',\n",
       "       'Americas_Panama', 'Americas_Paraguay', 'Americas_Peru',\n",
       "       'Asia_Philippines', 'Europe_Poland', 'Europe_Portugal',\n",
       "       'Americas_Puerto Rico', 'Africa_Reunion', 'Europe_Romania',\n",
       "       'Africa_Rwanda', 'Africa_Sao Tome and Principe',\n",
       "       'Asia_Saudi Arabia', 'Africa_Senegal', 'Europe_Serbia',\n",
       "       'Africa_Sierra Leone', 'Asia_Singapore', 'Europe_Slovak Republic',\n",
       "       'Europe_Slovenia', 'Africa_Somalia', 'Africa_South Africa',\n",
       "       'Europe_Spain', 'Asia_Sri Lanka', 'Africa_Sudan',\n",
       "       'Africa_Swaziland', 'Europe_Sweden', 'Europe_Switzerland',\n",
       "       'Asia_Syria', 'Asia_Taiwan', 'Africa_Tanzania', 'Asia_Thailand',\n",
       "       'Africa_Togo', 'Americas_Trinidad and Tobago', 'Africa_Tunisia',\n",
       "       'Europe_Turkey', 'Africa_Uganda', 'Europe_United Kingdom',\n",
       "       'Americas_United States', 'Americas_Uruguay', 'Americas_Venezuela',\n",
       "       'Asia_Vietnam', 'Asia_West Bank and Gaza', 'Asia_Yemen, Rep.',\n",
       "       'Africa_Zambia', 'Africa_Zimbabwe'], dtype=object)"
      ]
     },
     "execution_count": 11,
     "metadata": {},
     "output_type": "execute_result"
    }
   ],
   "source": [
    "pd.unique(gapminder['region'])"
   ]
  },
  {
   "cell_type": "markdown",
   "metadata": {
    "slideshow": {
     "slide_type": "subslide"
    }
   },
   "source": [
    "This output is useful, but it looks like there may be some formatting issues causing the same region to be counted more than once. Let's take it a step further and find out to be sure. \n",
    "\n",
    "As mentioned previously, the command `value_counts()` gives you a first global idea of your categorical data such as strings. In this case that is the column `region`. Run the code below."
   ]
  },
  {
   "cell_type": "code",
   "execution_count": 14,
   "metadata": {},
   "outputs": [
    {
     "name": "stdout",
     "output_type": "stream",
     "text": [
      "151\n"
     ]
    }
   ],
   "source": [
    "# How many unique regions are in the data?\n",
    "unique_regions = gapminder['region'].unique()\n",
    "print(len(unique_regions))"
   ]
  },
  {
   "cell_type": "code",
   "execution_count": 15,
   "metadata": {},
   "outputs": [
    {
     "data": {
      "text/plain": [
       "Europe_Netherlands                         15\n",
       "Americas_Dominican Republic                14\n",
       "Americas_Bolivia                           14\n",
       "Asia_Afghanistan                           14\n",
       "Africa_Nigeria                             13\n",
       "Africa_Algeria                             13\n",
       "Asia_West Bank and Gaza                    13\n",
       "Asia_Bangladesh                            13\n",
       "Africa_Burundi                             13\n",
       "Americas_Argentina                         13\n",
       "Europe_United Kingdom                      12\n",
       "Asia_India                                 12\n",
       "Africa_Guinea                              12\n",
       "Asia_Thailand                              12\n",
       "Europe_Slovenia                            12\n",
       "Europe_Austria                             12\n",
       "Americas_Haiti                             12\n",
       "Asia_Hong Kong, China                      12\n",
       "Africa_Sao Tome and Principe               12\n",
       "Africa_Burkina Faso                        12\n",
       "Africa_Swaziland                           12\n",
       "Europe_France                              12\n",
       "Europe_Ireland                             12\n",
       "Africa_Tunisia                             12\n",
       "Americas_El Salvador                       12\n",
       "Africa_Mauritania                          12\n",
       "Asia_Malaysia                              12\n",
       "Africa_Ghana                               12\n",
       "Africa_Mauritius                           12\n",
       "Americas_United States                     12\n",
       "                                           ..\n",
       "Asia_Syria                                 12\n",
       "Africa_Sudan                               12\n",
       "Africa_Eritrea                             12\n",
       "Africa_Reunion                             12\n",
       "Europe_Sweden                              12\n",
       "Africa_Ethiopia                            12\n",
       "Africa_Guinea-Bissau                       12\n",
       "Asia_Yemen, Rep.                           12\n",
       "Americas_Costa Rica                        12\n",
       "Africa_Zimbabwe                            12\n",
       "Africa_Botswana                            12\n",
       "Africa_Somalia                             12\n",
       "Asia_Vietnam                               12\n",
       "Americas_Colombia                          11\n",
       "Asia_Jordan                                11\n",
       "Africa_Cote d'Ivoire                       11\n",
       "Asia_Korea, Dem. Rep.                      10\n",
       "Africa_Congo, Dem. Rep.                    10\n",
       "Americas_Canada                             9\n",
       "Asia_China                                  8\n",
       "Africa_Central African Republic             8\n",
       "Africa_Central african republic             4\n",
       "Asia_china                                  4\n",
       "_Canada                                     3\n",
       "    Asia_Korea, Dem. Rep.                   2\n",
       "Americas_Colombia                           2\n",
       "Africa_Congo, Democratic Republic           1\n",
       "Africa_Cote d'Ivore                         1\n",
       "    Asia_Jordan                             1\n",
       "Africa_Democratic Republic of the Congo     1\n",
       "Name: region, dtype: int64"
      ]
     },
     "execution_count": 15,
     "metadata": {},
     "output_type": "execute_result"
    }
   ],
   "source": [
    "# How many times does each unique region occur?\n",
    "gapminder['region'].value_counts()"
   ]
  },
  {
   "cell_type": "markdown",
   "metadata": {
    "slideshow": {
     "slide_type": "subslide"
    }
   },
   "source": [
    "The table reveals some problems in our data set. The data set covers 12 years, so each ‘region’ should appear 12 times, but some regions appear more than 12 times and others fewer than 12 times. Why is this?\n",
    "\n",
    "Here are a few possibilities:\n",
    "* We also see inconsistencies in the region names (string variables are very susceptible to those)\n",
    "    * for instance: \"Asia_china\"\tvs. \"Asia_China\"\n",
    "* There are variations on some names, e.g. the various names of 'Congo'.\n",
    "\n",
    "In order to analyze this dataset appropriately we need to take care of these issues. We will fix them in the next section on data cleaning."
   ]
  },
  {
   "cell_type": "markdown",
   "metadata": {
    "slideshow": {
     "slide_type": "slide"
    }
   },
   "source": [
    "# Rule 3: Standardize / Clean your data"
   ]
  },
  {
   "cell_type": "markdown",
   "metadata": {
    "slideshow": {
     "slide_type": "fragment"
    }
   },
   "source": [
    "## Never modify the raw data\n",
    "This is true for coding as well. If your data isn't too large, a good first step is always to make a copy of it in order to keep a version of the raw data on hand at all times."
   ]
  },
  {
   "cell_type": "markdown",
   "metadata": {
    "slideshow": {
     "slide_type": "subslide"
    }
   },
   "source": [
    "### Referencing objects vs copying objects\n",
    "Before we get started with cleaning our data, let's practice good data hygiene by first creating a copy of our original data set. Often, you want to leave the original data untouched.  To protect your original, you can make a copy of your data (and save it to a new `DataFrame` variable) before operating on the data or a subset of the data.  This will ensure that a new version of the original data is created and your original is preserved.\n",
    "\n",
    "**Why this is important?**\n",
    "\n",
    "Suppose you take a subset of your `DataFrame` and store it in a new variable, like `gapminder_early = gapminder[gapminder['year'] < 1970]`.  Doing this does not actually create a new object. Instead, you have just given a name to that subset of the original data: `gapminder_early`. This subset still points to the original rows of `gapminder`.  Any changes you make to the new `DataFrame` `gapminder_early` will appear in the corresponding rows of your original `gapminder` `DataFrame` too.  "
   ]
  },
  {
   "cell_type": "code",
   "execution_count": 17,
   "metadata": {
    "slideshow": {
     "slide_type": "fragment"
    }
   },
   "outputs": [],
   "source": [
    "gapminder = pd.read_table(path_data, sep = \"\\t\")\n",
    "gapminder_copy = gapminder.copy()"
   ]
  },
  {
   "cell_type": "markdown",
   "metadata": {
    "slideshow": {
     "slide_type": "subslide"
    }
   },
   "source": [
    "## Common data cleaning problems\n",
    "\n",
    "There are all kinds of things that go wrong with data collection, curation, sharing, and storage. Here are just a couple of common things you should look for:"
   ]
  },
  {
   "cell_type": "code",
   "execution_count": 18,
   "metadata": {
    "slideshow": {
     "slide_type": "-"
    }
   },
   "outputs": [
    {
     "data": {
      "text/html": [
       "<div>\n",
       "<table border=\"1\" class=\"dataframe\">\n",
       "  <thead>\n",
       "    <tr style=\"text-align: right;\">\n",
       "      <th></th>\n",
       "      <th>year</th>\n",
       "      <th>pop</th>\n",
       "      <th>life Exp</th>\n",
       "      <th>gdpPercap</th>\n",
       "      <th>region</th>\n",
       "    </tr>\n",
       "  </thead>\n",
       "  <tbody>\n",
       "    <tr>\n",
       "      <th>0</th>\n",
       "      <td>1952.0</td>\n",
       "      <td>8425333.0</td>\n",
       "      <td>28.801</td>\n",
       "      <td>779.445314</td>\n",
       "      <td>Asia_Afghanistan</td>\n",
       "    </tr>\n",
       "    <tr>\n",
       "      <th>1</th>\n",
       "      <td>1957.0</td>\n",
       "      <td>9240934.0</td>\n",
       "      <td>30.332</td>\n",
       "      <td>820.853030</td>\n",
       "      <td>Asia_Afghanistan</td>\n",
       "    </tr>\n",
       "    <tr>\n",
       "      <th>2</th>\n",
       "      <td>1957.0</td>\n",
       "      <td>9240934.0</td>\n",
       "      <td>30.332</td>\n",
       "      <td>820.853030</td>\n",
       "      <td>Asia_Afghanistan</td>\n",
       "    </tr>\n",
       "    <tr>\n",
       "      <th>3</th>\n",
       "      <td>1962.0</td>\n",
       "      <td>10267083.0</td>\n",
       "      <td>31.997</td>\n",
       "      <td>853.100710</td>\n",
       "      <td>Asia_Afghanistan</td>\n",
       "    </tr>\n",
       "    <tr>\n",
       "      <th>4</th>\n",
       "      <td>1962.0</td>\n",
       "      <td>NaN</td>\n",
       "      <td>31.997</td>\n",
       "      <td>NaN</td>\n",
       "      <td>Asia_Afghanistan</td>\n",
       "    </tr>\n",
       "  </tbody>\n",
       "</table>\n",
       "</div>"
      ],
      "text/plain": [
       "     year         pop  life Exp   gdpPercap            region\n",
       "0  1952.0   8425333.0    28.801  779.445314  Asia_Afghanistan\n",
       "1  1957.0   9240934.0    30.332  820.853030  Asia_Afghanistan\n",
       "2  1957.0   9240934.0    30.332  820.853030  Asia_Afghanistan\n",
       "3  1962.0  10267083.0    31.997  853.100710  Asia_Afghanistan\n",
       "4  1962.0         NaN    31.997         NaN  Asia_Afghanistan"
      ]
     },
     "execution_count": 18,
     "metadata": {},
     "output_type": "execute_result"
    }
   ],
   "source": [
    "# Let's look at the top of our dataset\n",
    "gapminder_copy.head()"
   ]
  },
  {
   "cell_type": "markdown",
   "metadata": {
    "slideshow": {
     "slide_type": "fragment"
    }
   },
   "source": [
    "**Missing values** are extremely common. You should figure out what value corresponds to \"missing\" for your dataset. In our case it's `NaN`, but it could be something like `0`."
   ]
  },
  {
   "cell_type": "code",
   "execution_count": 24,
   "metadata": {
    "slideshow": {
     "slide_type": "-"
    }
   },
   "outputs": [
    {
     "data": {
      "text/html": [
       "<div>\n",
       "<table border=\"1\" class=\"dataframe\">\n",
       "  <thead>\n",
       "    <tr style=\"text-align: right;\">\n",
       "      <th></th>\n",
       "      <th>year</th>\n",
       "      <th>pop</th>\n",
       "      <th>life_exp</th>\n",
       "      <th>gdppercap</th>\n",
       "      <th>region</th>\n",
       "    </tr>\n",
       "  </thead>\n",
       "  <tbody>\n",
       "    <tr>\n",
       "      <th>0</th>\n",
       "      <td>1952.0</td>\n",
       "      <td>8425333.0</td>\n",
       "      <td>28.801</td>\n",
       "      <td>779.445314</td>\n",
       "      <td>asia_afghanistan</td>\n",
       "    </tr>\n",
       "    <tr>\n",
       "      <th>1</th>\n",
       "      <td>1957.0</td>\n",
       "      <td>9240934.0</td>\n",
       "      <td>30.332</td>\n",
       "      <td>820.853030</td>\n",
       "      <td>asia_afghanistan</td>\n",
       "    </tr>\n",
       "    <tr>\n",
       "      <th>2</th>\n",
       "      <td>1957.0</td>\n",
       "      <td>9240934.0</td>\n",
       "      <td>30.332</td>\n",
       "      <td>820.853030</td>\n",
       "      <td>asia_afghanistan</td>\n",
       "    </tr>\n",
       "    <tr>\n",
       "      <th>3</th>\n",
       "      <td>1962.0</td>\n",
       "      <td>10267083.0</td>\n",
       "      <td>31.997</td>\n",
       "      <td>853.100710</td>\n",
       "      <td>asia_afghanistan</td>\n",
       "    </tr>\n",
       "    <tr>\n",
       "      <th>5</th>\n",
       "      <td>1967.0</td>\n",
       "      <td>11537966.0</td>\n",
       "      <td>34.020</td>\n",
       "      <td>836.197138</td>\n",
       "      <td>asia_afghanistan</td>\n",
       "    </tr>\n",
       "  </tbody>\n",
       "</table>\n",
       "</div>"
      ],
      "text/plain": [
       "     year         pop  life_exp   gdppercap            region\n",
       "0  1952.0   8425333.0    28.801  779.445314  asia_afghanistan\n",
       "1  1957.0   9240934.0    30.332  820.853030  asia_afghanistan\n",
       "2  1957.0   9240934.0    30.332  820.853030  asia_afghanistan\n",
       "3  1962.0  10267083.0    31.997  853.100710  asia_afghanistan\n",
       "5  1967.0  11537966.0    34.020  836.197138  asia_afghanistan"
      ]
     },
     "execution_count": 24,
     "metadata": {},
     "output_type": "execute_result"
    }
   ],
   "source": [
    "gapminder_copy = gapminder_copy.dropna()\n",
    "gapminder_copy.head()"
   ]
  },
  {
   "cell_type": "markdown",
   "metadata": {
    "slideshow": {
     "slide_type": "fragment"
    }
   },
   "source": [
    "**Changing data types** is also common. This is because some numbers have a natural \"type\". This is especially true for things like dates. Look at the years column...it's weird that there's a `.0` at the end of each number. Let's clean that up."
   ]
  },
  {
   "cell_type": "code",
   "execution_count": 25,
   "metadata": {},
   "outputs": [
    {
     "name": "stdout",
     "output_type": "stream",
     "text": [
      "<class 'pandas.core.frame.DataFrame'>\n",
      "Int64Index: 1712 entries, 0 to 1719\n",
      "Data columns (total 5 columns):\n",
      "year         1712 non-null int64\n",
      "pop          1712 non-null int64\n",
      "life_exp     1712 non-null float64\n",
      "gdppercap    1712 non-null float64\n",
      "region       1712 non-null object\n",
      "dtypes: float64(2), int64(2), object(1)\n",
      "memory usage: 80.2+ KB\n"
     ]
    }
   ],
   "source": [
    "gapminder_copy['year'] = gapminder_copy['year'].astype(int)\n",
    "gapminder_copy['pop'] = gapminder_copy['pop'].astype(int)\n",
    "gapminder_copy.info()"
   ]
  },
  {
   "cell_type": "markdown",
   "metadata": {
    "slideshow": {
     "slide_type": "fragment"
    }
   },
   "source": [
    "**Duplicates** can occur if people accidentally save datasets twice. We can easily check for this in Pandas."
   ]
  },
  {
   "cell_type": "code",
   "execution_count": 26,
   "metadata": {},
   "outputs": [
    {
     "data": {
      "text/plain": [
       "0    False\n",
       "1    False\n",
       "2     True\n",
       "3    False\n",
       "5    False\n",
       "dtype: bool"
      ]
     },
     "execution_count": 26,
     "metadata": {},
     "output_type": "execute_result"
    }
   ],
   "source": [
    "gapminder_copy.duplicated().head() #shows we have a repetition within the first 5 rows\n",
    "\n",
    "# We can confirm this with the following command:\n",
    "# gapminder_copy.head()"
   ]
  },
  {
   "cell_type": "code",
   "execution_count": 27,
   "metadata": {
    "slideshow": {
     "slide_type": "fragment"
    }
   },
   "outputs": [
    {
     "data": {
      "text/html": [
       "<div>\n",
       "<table border=\"1\" class=\"dataframe\">\n",
       "  <thead>\n",
       "    <tr style=\"text-align: right;\">\n",
       "      <th></th>\n",
       "      <th>year</th>\n",
       "      <th>pop</th>\n",
       "      <th>life_exp</th>\n",
       "      <th>gdppercap</th>\n",
       "      <th>region</th>\n",
       "    </tr>\n",
       "  </thead>\n",
       "  <tbody>\n",
       "    <tr>\n",
       "      <th>0</th>\n",
       "      <td>1952</td>\n",
       "      <td>8425333</td>\n",
       "      <td>28.801</td>\n",
       "      <td>779.445314</td>\n",
       "      <td>asia_afghanistan</td>\n",
       "    </tr>\n",
       "    <tr>\n",
       "      <th>1</th>\n",
       "      <td>1957</td>\n",
       "      <td>9240934</td>\n",
       "      <td>30.332</td>\n",
       "      <td>820.853030</td>\n",
       "      <td>asia_afghanistan</td>\n",
       "    </tr>\n",
       "    <tr>\n",
       "      <th>2</th>\n",
       "      <td>1962</td>\n",
       "      <td>10267083</td>\n",
       "      <td>31.997</td>\n",
       "      <td>853.100710</td>\n",
       "      <td>asia_afghanistan</td>\n",
       "    </tr>\n",
       "    <tr>\n",
       "      <th>3</th>\n",
       "      <td>1967</td>\n",
       "      <td>11537966</td>\n",
       "      <td>34.020</td>\n",
       "      <td>836.197138</td>\n",
       "      <td>asia_afghanistan</td>\n",
       "    </tr>\n",
       "    <tr>\n",
       "      <th>4</th>\n",
       "      <td>1972</td>\n",
       "      <td>13079460</td>\n",
       "      <td>36.088</td>\n",
       "      <td>739.981106</td>\n",
       "      <td>asia_afghanistan</td>\n",
       "    </tr>\n",
       "  </tbody>\n",
       "</table>\n",
       "</div>"
      ],
      "text/plain": [
       "   year       pop  life_exp   gdppercap            region\n",
       "0  1952   8425333    28.801  779.445314  asia_afghanistan\n",
       "1  1957   9240934    30.332  820.853030  asia_afghanistan\n",
       "2  1962  10267083    31.997  853.100710  asia_afghanistan\n",
       "3  1967  11537966    34.020  836.197138  asia_afghanistan\n",
       "4  1972  13079460    36.088  739.981106  asia_afghanistan"
      ]
     },
     "execution_count": 27,
     "metadata": {},
     "output_type": "execute_result"
    }
   ],
   "source": [
    "# We'll drop the duplicates below\n",
    "gapminder_copy = gapminder_copy.drop_duplicates()\n",
    "\n",
    "# Now we'll reset the index of the dataframe since it's off by 1\n",
    "gapminder_copy = gapminder_copy.reset_index(drop=True)\n",
    "\n",
    "gapminder_copy.head()"
   ]
  },
  {
   "cell_type": "markdown",
   "metadata": {
    "slideshow": {
     "slide_type": "slide"
    }
   },
   "source": [
    "# Rule 4: Use consistent naming and labeling\n",
    "\n",
    "Sometimes there are inconsistencies in data. This generally means that the system someone was using to label / create the data changed at some point. This makes it *really hard* to analyze properly. So, we'll take a quick pass and see if we can clean this up.\n",
    "\n",
    "The `value_counts()` method is really useful here."
   ]
  },
  {
   "cell_type": "code",
   "execution_count": 19,
   "metadata": {},
   "outputs": [
    {
     "data": {
      "text/plain": [
       "Europe_Netherlands                         15\n",
       "Americas_Dominican Republic                14\n",
       "Americas_Bolivia                           14\n",
       "Asia_Afghanistan                           14\n",
       "Africa_Nigeria                             13\n",
       "Africa_Algeria                             13\n",
       "Asia_West Bank and Gaza                    13\n",
       "Asia_Bangladesh                            13\n",
       "Africa_Burundi                             13\n",
       "Americas_Argentina                         13\n",
       "Europe_United Kingdom                      12\n",
       "Asia_India                                 12\n",
       "Africa_Guinea                              12\n",
       "Asia_Thailand                              12\n",
       "Europe_Slovenia                            12\n",
       "Europe_Austria                             12\n",
       "Americas_Haiti                             12\n",
       "Asia_Hong Kong, China                      12\n",
       "Africa_Sao Tome and Principe               12\n",
       "Africa_Burkina Faso                        12\n",
       "Africa_Swaziland                           12\n",
       "Europe_France                              12\n",
       "Europe_Ireland                             12\n",
       "Africa_Tunisia                             12\n",
       "Americas_El Salvador                       12\n",
       "Africa_Mauritania                          12\n",
       "Asia_Malaysia                              12\n",
       "Africa_Ghana                               12\n",
       "Africa_Mauritius                           12\n",
       "Americas_United States                     12\n",
       "                                           ..\n",
       "Asia_Syria                                 12\n",
       "Africa_Sudan                               12\n",
       "Africa_Eritrea                             12\n",
       "Africa_Reunion                             12\n",
       "Europe_Sweden                              12\n",
       "Africa_Ethiopia                            12\n",
       "Africa_Guinea-Bissau                       12\n",
       "Asia_Yemen, Rep.                           12\n",
       "Americas_Costa Rica                        12\n",
       "Africa_Zimbabwe                            12\n",
       "Africa_Botswana                            12\n",
       "Africa_Somalia                             12\n",
       "Asia_Vietnam                               12\n",
       "Americas_Colombia                          11\n",
       "Asia_Jordan                                11\n",
       "Africa_Cote d'Ivoire                       11\n",
       "Asia_Korea, Dem. Rep.                      10\n",
       "Africa_Congo, Dem. Rep.                    10\n",
       "Americas_Canada                             9\n",
       "Asia_China                                  8\n",
       "Africa_Central African Republic             8\n",
       "Africa_Central african republic             4\n",
       "Asia_china                                  4\n",
       "_Canada                                     3\n",
       "    Asia_Korea, Dem. Rep.                   2\n",
       "Americas_Colombia                           2\n",
       "Africa_Congo, Democratic Republic           1\n",
       "Africa_Cote d'Ivore                         1\n",
       "    Asia_Jordan                             1\n",
       "Africa_Democratic Republic of the Congo     1\n",
       "Name: region, dtype: int64"
      ]
     },
     "execution_count": 19,
     "metadata": {},
     "output_type": "execute_result"
    }
   ],
   "source": [
    "gapminder_copy['region'].value_counts()"
   ]
  },
  {
   "cell_type": "markdown",
   "metadata": {
    "slideshow": {
     "slide_type": "subslide"
    }
   },
   "source": [
    "## Modifying text in the data\n",
    "\n",
    "A good rule of thumb is to turn all strings in your data into **lowercase** letters with **no spaces**."
   ]
  },
  {
   "cell_type": "markdown",
   "metadata": {
    "slideshow": {
     "slide_type": "subslide"
    }
   },
   "source": [
    "### Standardizing case and special characters"
   ]
  },
  {
   "cell_type": "code",
   "execution_count": 20,
   "metadata": {},
   "outputs": [
    {
     "data": {
      "text/plain": [
       "europe_netherlands                         15\n",
       "americas_bolivia                           14\n",
       "asia_afghanistan                           14\n",
       "americas_dominican republic                14\n",
       "americas_argentina                         13\n",
       "africa_algeria                             13\n",
       "asia_bangladesh                            13\n",
       "asia_west bank and gaza                    13\n",
       "africa_burundi                             13\n",
       "africa_nigeria                             13\n",
       "americas_colombia                          13\n",
       "americas_paraguay                          12\n",
       "africa_eritrea                             12\n",
       "africa_lesotho                             12\n",
       "africa_morocco                             12\n",
       "africa_mozambique                          12\n",
       "africa_egypt                               12\n",
       "asia_lebanon                               12\n",
       "africa_angola                              12\n",
       "africa_mauritania                          12\n",
       "americas_trinidad and tobago               12\n",
       "americas_cuba                              12\n",
       "africa_libya                               12\n",
       "europe_france                              12\n",
       "americas_panama                            12\n",
       "europe_greece                              12\n",
       "asia_yemen, rep.                           12\n",
       "asia_cambodia                              12\n",
       "americas_haiti                             12\n",
       "europe_bosnia and herzegovina              12\n",
       "                                           ..\n",
       "europe_slovenia                            12\n",
       "asia_jordan                                12\n",
       "africa_somalia                             12\n",
       "asia_japan                                 12\n",
       "europe_austria                             12\n",
       "africa_mauritius                           12\n",
       "africa_comoros                             12\n",
       "europe_iceland                             12\n",
       "europe_croatia                             12\n",
       "europe_spain                               12\n",
       "africa_mali                                12\n",
       "africa_cameroon                            12\n",
       "africa_chad                                12\n",
       "africa_uganda                              12\n",
       "asia_iran                                  12\n",
       "americas_jamaica                           12\n",
       "africa_togo                                12\n",
       "europe_united kingdom                      12\n",
       "africa_gambia                              12\n",
       "africa_botswana                            12\n",
       "africa_tanzania                            12\n",
       "asia_iraq                                  12\n",
       "asia_oman                                  12\n",
       "africa_cote d'ivoire                       11\n",
       "africa_congo, dem. rep.                    10\n",
       "americas_canada                             9\n",
       "_canada                                     3\n",
       "africa_democratic republic of the congo     1\n",
       "africa_cote d'ivore                         1\n",
       "africa_congo, democratic republic           1\n",
       "Name: region, dtype: int64"
      ]
     },
     "execution_count": 20,
     "metadata": {},
     "output_type": "execute_result"
    }
   ],
   "source": [
    "gapminder_copy['region'] = gapminder_copy['region'].str.lstrip() # Strip white space on left\n",
    "gapminder_copy['region'] = gapminder_copy['region'].str.rstrip() # Strip white space on right\n",
    "gapminder_copy['region'] = gapminder_copy['region'].str.lower() # Convert to lowercase\n",
    "gapminder_copy['region'].value_counts() # How many times does each unique region occur?\n",
    "\n",
    "# We could have done this in one line!\n",
    "# gapminder_copy['region'] = gapminder_copy['region'].str.lstrip().str.rstrip().lower()"
   ]
  },
  {
   "cell_type": "markdown",
   "metadata": {
    "slideshow": {
     "slide_type": "subslide"
    }
   },
   "source": [
    "**We'll do the same for our column names** which will make it much easier to quickly analyze the data."
   ]
  },
  {
   "cell_type": "code",
   "execution_count": 21,
   "metadata": {},
   "outputs": [
    {
     "data": {
      "text/html": [
       "<div>\n",
       "<table border=\"1\" class=\"dataframe\">\n",
       "  <thead>\n",
       "    <tr style=\"text-align: right;\">\n",
       "      <th></th>\n",
       "      <th>year</th>\n",
       "      <th>pop</th>\n",
       "      <th>life_exp</th>\n",
       "      <th>gdppercap</th>\n",
       "      <th>region</th>\n",
       "    </tr>\n",
       "  </thead>\n",
       "  <tbody>\n",
       "    <tr>\n",
       "      <th>0</th>\n",
       "      <td>1952.0</td>\n",
       "      <td>8425333.0</td>\n",
       "      <td>28.801</td>\n",
       "      <td>779.445314</td>\n",
       "      <td>asia_afghanistan</td>\n",
       "    </tr>\n",
       "    <tr>\n",
       "      <th>1</th>\n",
       "      <td>1957.0</td>\n",
       "      <td>9240934.0</td>\n",
       "      <td>30.332</td>\n",
       "      <td>820.853030</td>\n",
       "      <td>asia_afghanistan</td>\n",
       "    </tr>\n",
       "    <tr>\n",
       "      <th>2</th>\n",
       "      <td>1957.0</td>\n",
       "      <td>9240934.0</td>\n",
       "      <td>30.332</td>\n",
       "      <td>820.853030</td>\n",
       "      <td>asia_afghanistan</td>\n",
       "    </tr>\n",
       "    <tr>\n",
       "      <th>3</th>\n",
       "      <td>1962.0</td>\n",
       "      <td>10267083.0</td>\n",
       "      <td>31.997</td>\n",
       "      <td>853.100710</td>\n",
       "      <td>asia_afghanistan</td>\n",
       "    </tr>\n",
       "    <tr>\n",
       "      <th>4</th>\n",
       "      <td>1962.0</td>\n",
       "      <td>NaN</td>\n",
       "      <td>31.997</td>\n",
       "      <td>NaN</td>\n",
       "      <td>asia_afghanistan</td>\n",
       "    </tr>\n",
       "  </tbody>\n",
       "</table>\n",
       "</div>"
      ],
      "text/plain": [
       "     year         pop  life_exp   gdppercap            region\n",
       "0  1952.0   8425333.0    28.801  779.445314  asia_afghanistan\n",
       "1  1957.0   9240934.0    30.332  820.853030  asia_afghanistan\n",
       "2  1957.0   9240934.0    30.332  820.853030  asia_afghanistan\n",
       "3  1962.0  10267083.0    31.997  853.100710  asia_afghanistan\n",
       "4  1962.0         NaN    31.997         NaN  asia_afghanistan"
      ]
     },
     "execution_count": 21,
     "metadata": {},
     "output_type": "execute_result"
    }
   ],
   "source": [
    "# Make our columns lowercase\n",
    "gapminder_copy.columns = gapminder_copy.columns.str.lower()\n",
    "\n",
    "# Rename columns so that spaces become underscores\n",
    "gapminder_copy.columns = gapminder_copy.columns.str.replace(' ', '_')\n",
    "gapminder_copy.head()"
   ]
  },
  {
   "cell_type": "markdown",
   "metadata": {
    "slideshow": {
     "slide_type": "subslide"
    }
   },
   "source": [
    "### Replacing strings\n",
    "\n",
    "It's also common to replace entire parts of a string with something else. For example, below we can see that there are many possible namings for this country:"
   ]
  },
  {
   "cell_type": "code",
   "execution_count": 22,
   "metadata": {},
   "outputs": [
    {
     "data": {
      "text/plain": [
       "africa_congo, rep.                         12\n",
       "africa_congo, dem. rep.                    10\n",
       "africa_democratic republic of the congo     1\n",
       "africa_congo, democratic republic           1\n",
       "Name: region, dtype: int64"
      ]
     },
     "execution_count": 22,
     "metadata": {},
     "output_type": "execute_result"
    }
   ],
   "source": [
    "congo_data = gapminder_copy[gapminder_copy['region'].str.contains('congo')]\n",
    "congo_data['region'].value_counts()"
   ]
  },
  {
   "cell_type": "markdown",
   "metadata": {},
   "source": [
    "We'll use the **`.replace`** method to fix thix problem."
   ]
  },
  {
   "cell_type": "code",
   "execution_count": 29,
   "metadata": {
    "slideshow": {
     "slide_type": "-"
    }
   },
   "outputs": [
    {
     "data": {
      "text/plain": [
       "americas_argentina               12\n",
       "africa_libya                     12\n",
       "americas_haiti                   12\n",
       "asia_cambodia                    12\n",
       "asia_yemen, rep.                 12\n",
       "europe_greece                    12\n",
       "americas_panama                  12\n",
       "europe_france                    12\n",
       "americas_cuba                    12\n",
       "africa_cote d'ivoire             12\n",
       "americas_trinidad and tobago     12\n",
       "africa_mauritania                12\n",
       "africa_angola                    12\n",
       "asia_lebanon                     12\n",
       "africa_egypt                     12\n",
       "europe_netherlands               12\n",
       "europe_bosnia and herzegovina    12\n",
       "africa_namibia                   12\n",
       "africa_lesotho                   12\n",
       "africa_gabon                     12\n",
       "europe_finland                   12\n",
       "africa_niger                     12\n",
       "africa_dem rep congo             12\n",
       "europe_turkey                    12\n",
       "americas_mexico                  12\n",
       "asia_west bank and gaza          12\n",
       "africa_sierra leone              12\n",
       "africa_zimbabwe                  12\n",
       "africa_madagascar                12\n",
       "americas_nicaragua               12\n",
       "                                 ..\n",
       "africa_cameroon                  12\n",
       "europe_spain                     12\n",
       "europe_croatia                   12\n",
       "europe_iceland                   12\n",
       "africa_mauritius                 12\n",
       "africa_sudan                     12\n",
       "europe_austria                   12\n",
       "asia_japan                       12\n",
       "africa_somalia                   12\n",
       "africa_burundi                   12\n",
       "europe_slovenia                  12\n",
       "americas_venezuela               12\n",
       "europe_united kingdom            12\n",
       "africa_nigeria                   12\n",
       "africa_tanzania                  12\n",
       "africa_botswana                  12\n",
       "asia_kuwait                      12\n",
       "africa_uganda                    12\n",
       "africa_gambia                    12\n",
       "africa_togo                      12\n",
       "africa_ghana                     12\n",
       "asia_iran                        12\n",
       "africa_mali                      12\n",
       "americas_guatemala               12\n",
       "americas_chile                   12\n",
       "africa_ethiopia                  12\n",
       "asia_syria                       12\n",
       "americas_peru                    12\n",
       "europe_serbia                    12\n",
       "americas_colombia                12\n",
       "Name: region, dtype: int64"
      ]
     },
     "execution_count": 29,
     "metadata": {},
     "output_type": "execute_result"
    }
   ],
   "source": [
    "gapminder_copy['region'].replace(\".*congo, dem.*\", \"africa_dem rep congo\", regex=True, inplace=True)\n",
    "gapminder_copy['region'].replace(\".*_democratic republic of the congo\", \"africa_dem rep congo\", regex=True, inplace=True)\n",
    "\n",
    "\n",
    "gapminder_copy['region'].replace(\".*ivore.*\", \"africa_cote d'ivoire\", regex=True, inplace=True)\n",
    "gapminder_copy['region'].replace(\"^_canada\", \"americas_canada\", regex=True, inplace=True)\n",
    "\n",
    "gapminder_copy['region'].value_counts() # Now it's fixed."
   ]
  },
  {
   "cell_type": "markdown",
   "metadata": {
    "slideshow": {
     "slide_type": "subslide"
    }
   },
   "source": [
    "**Now our data looks clean**. We see the expected number of values for each country, those countries are labeled reasonably, and we don't have any weird things like missing values.\n",
    "\n",
    "**What's something that could still be improved in this data?**"
   ]
  },
  {
   "cell_type": "code",
   "execution_count": 28,
   "metadata": {},
   "outputs": [
    {
     "data": {
      "text/plain": [
       "africa_ethiopia      12\n",
       "asia_syria           12\n",
       "americas_peru        12\n",
       "europe_serbia        12\n",
       "americas_colombia    12\n",
       "Name: region, dtype: int64"
      ]
     },
     "execution_count": 28,
     "metadata": {},
     "output_type": "execute_result"
    }
   ],
   "source": [
    "gapminder_copy['region'].value_counts().tail()"
   ]
  },
  {
   "cell_type": "markdown",
   "metadata": {
    "slideshow": {
     "slide_type": "slide"
    }
   },
   "source": [
    "# Rule 5: Make your data \"tidy\"\n",
    "\n",
    "Having what is called a \"_Tidy_ data set\" can make cleaning, analyzing, and visualizing your data much easier. You should aim for having Tidy data when cleaning and preparing your data set for analysis. Two of the important aspects of Tidy data are:\n",
    "\n",
    "* every variable has its own column\n",
    "* every observation has its own row\n",
    "\n",
    "<img src=\"http://r4ds.had.co.nz/images/tidy-1.png\" style=\"width:80%\" />\n",
    "(There are other aspects of Tidy data, here is a good blog post about Tidy data in Python: http://www.jeannicholashould.com/tidy-data-in-python.html)"
   ]
  },
  {
   "cell_type": "markdown",
   "metadata": {
    "slideshow": {
     "slide_type": "subslide"
    }
   },
   "source": [
    "> **Let's take a look at our data. Is everything tidy?**"
   ]
  },
  {
   "cell_type": "code",
   "execution_count": 31,
   "metadata": {
    "collapsed": true
   },
   "outputs": [
    {
     "data": {
      "text/html": [
       "<div>\n",
       "<table border=\"1\" class=\"dataframe\">\n",
       "  <thead>\n",
       "    <tr style=\"text-align: right;\">\n",
       "      <th></th>\n",
       "      <th>year</th>\n",
       "      <th>pop</th>\n",
       "      <th>life_exp</th>\n",
       "      <th>gdppercap</th>\n",
       "      <th>region</th>\n",
       "    </tr>\n",
       "  </thead>\n",
       "  <tbody>\n",
       "    <tr>\n",
       "      <th>0</th>\n",
       "      <td>1952</td>\n",
       "      <td>8425333</td>\n",
       "      <td>28.801</td>\n",
       "      <td>779.445314</td>\n",
       "      <td>asia_afghanistan</td>\n",
       "    </tr>\n",
       "    <tr>\n",
       "      <th>1</th>\n",
       "      <td>1957</td>\n",
       "      <td>9240934</td>\n",
       "      <td>30.332</td>\n",
       "      <td>820.853030</td>\n",
       "      <td>asia_afghanistan</td>\n",
       "    </tr>\n",
       "    <tr>\n",
       "      <th>2</th>\n",
       "      <td>1962</td>\n",
       "      <td>10267083</td>\n",
       "      <td>31.997</td>\n",
       "      <td>853.100710</td>\n",
       "      <td>asia_afghanistan</td>\n",
       "    </tr>\n",
       "    <tr>\n",
       "      <th>3</th>\n",
       "      <td>1967</td>\n",
       "      <td>11537966</td>\n",
       "      <td>34.020</td>\n",
       "      <td>836.197138</td>\n",
       "      <td>asia_afghanistan</td>\n",
       "    </tr>\n",
       "    <tr>\n",
       "      <th>4</th>\n",
       "      <td>1972</td>\n",
       "      <td>13079460</td>\n",
       "      <td>36.088</td>\n",
       "      <td>739.981106</td>\n",
       "      <td>asia_afghanistan</td>\n",
       "    </tr>\n",
       "  </tbody>\n",
       "</table>\n",
       "</div>"
      ],
      "text/plain": [
       "   year       pop  life_exp   gdppercap            region\n",
       "0  1952   8425333    28.801  779.445314  asia_afghanistan\n",
       "1  1957   9240934    30.332  820.853030  asia_afghanistan\n",
       "2  1962  10267083    31.997  853.100710  asia_afghanistan\n",
       "3  1967  11537966    34.020  836.197138  asia_afghanistan\n",
       "4  1972  13079460    36.088  739.981106  asia_afghanistan"
      ]
     },
     "execution_count": 31,
     "metadata": {},
     "output_type": "execute_result"
    }
   ],
   "source": [
    "gapminder_copy.head()"
   ]
  },
  {
   "cell_type": "markdown",
   "metadata": {
    "slideshow": {
     "slide_type": "subslide"
    }
   },
   "source": [
    "Currently the gapminder dataset has a single column for continent and country (the ‘region’ column). We can split that column into two, by using the underscore that separates continent from country.\n",
    "We can create a new column in the `DataFrame` by naming it before the = sign:\n",
    "\n",
    "`gapminder['country'] = `\n",
    "\n",
    "The following commands use the function `split()` to split the string at the underscore (the first argument), which results in a list of two elements: before and after the \\_. The second argument tells `split()` that the split should take place only at the first occurrence of the underscore."
   ]
  },
  {
   "cell_type": "markdown",
   "metadata": {
    "slideshow": {
     "slide_type": "subslide"
    }
   },
   "source": [
    "Below we'll generate two new columns from the \"region\" column. This ensures that each column only represents one variable."
   ]
  },
  {
   "cell_type": "code",
   "execution_count": 32,
   "metadata": {
    "slideshow": {
     "slide_type": "-"
    }
   },
   "outputs": [
    {
     "data": {
      "text/plain": [
       "0    [asia, afghanistan]\n",
       "1    [asia, afghanistan]\n",
       "2    [asia, afghanistan]\n",
       "3    [asia, afghanistan]\n",
       "4    [asia, afghanistan]\n",
       "Name: region, dtype: object"
      ]
     },
     "execution_count": 32,
     "metadata": {},
     "output_type": "execute_result"
    }
   ],
   "source": [
    "# Split the \"region\" column by the \"_\" character\n",
    "split_regions = gapminder_copy['region'].str.split('_', 1)\n",
    "split_regions.head()"
   ]
  },
  {
   "cell_type": "code",
   "execution_count": 33,
   "metadata": {},
   "outputs": [
    {
     "data": {
      "text/html": [
       "<div>\n",
       "<table border=\"1\" class=\"dataframe\">\n",
       "  <thead>\n",
       "    <tr style=\"text-align: right;\">\n",
       "      <th></th>\n",
       "      <th>year</th>\n",
       "      <th>pop</th>\n",
       "      <th>life_exp</th>\n",
       "      <th>gdppercap</th>\n",
       "      <th>country</th>\n",
       "      <th>continent</th>\n",
       "    </tr>\n",
       "  </thead>\n",
       "  <tbody>\n",
       "    <tr>\n",
       "      <th>0</th>\n",
       "      <td>1952</td>\n",
       "      <td>8425333</td>\n",
       "      <td>28.801</td>\n",
       "      <td>779.445314</td>\n",
       "      <td>afghanistan</td>\n",
       "      <td>asia</td>\n",
       "    </tr>\n",
       "    <tr>\n",
       "      <th>1</th>\n",
       "      <td>1957</td>\n",
       "      <td>9240934</td>\n",
       "      <td>30.332</td>\n",
       "      <td>820.853030</td>\n",
       "      <td>afghanistan</td>\n",
       "      <td>asia</td>\n",
       "    </tr>\n",
       "    <tr>\n",
       "      <th>2</th>\n",
       "      <td>1962</td>\n",
       "      <td>10267083</td>\n",
       "      <td>31.997</td>\n",
       "      <td>853.100710</td>\n",
       "      <td>afghanistan</td>\n",
       "      <td>asia</td>\n",
       "    </tr>\n",
       "    <tr>\n",
       "      <th>3</th>\n",
       "      <td>1967</td>\n",
       "      <td>11537966</td>\n",
       "      <td>34.020</td>\n",
       "      <td>836.197138</td>\n",
       "      <td>afghanistan</td>\n",
       "      <td>asia</td>\n",
       "    </tr>\n",
       "    <tr>\n",
       "      <th>4</th>\n",
       "      <td>1972</td>\n",
       "      <td>13079460</td>\n",
       "      <td>36.088</td>\n",
       "      <td>739.981106</td>\n",
       "      <td>afghanistan</td>\n",
       "      <td>asia</td>\n",
       "    </tr>\n",
       "  </tbody>\n",
       "</table>\n",
       "</div>"
      ],
      "text/plain": [
       "   year       pop  life_exp   gdppercap      country continent\n",
       "0  1952   8425333    28.801  779.445314  afghanistan      asia\n",
       "1  1957   9240934    30.332  820.853030  afghanistan      asia\n",
       "2  1962  10267083    31.997  853.100710  afghanistan      asia\n",
       "3  1967  11537966    34.020  836.197138  afghanistan      asia\n",
       "4  1972  13079460    36.088  739.981106  afghanistan      asia"
      ]
     },
     "execution_count": 33,
     "metadata": {},
     "output_type": "execute_result"
    }
   ],
   "source": [
    "# Create two new variables from the previous column\n",
    "gapminder_copy['country'] = split_regions.str[1]\n",
    "gapminder_copy['continent'] = split_regions.str[0]\n",
    "\n",
    "# Now we'll drop the old region column, and look at the data\n",
    "gapminder_copy = gapminder_copy.drop('region', 1) #1 stands for column\n",
    "gapminder_copy.head()"
   ]
  },
  {
   "cell_type": "markdown",
   "metadata": {
    "slideshow": {
     "slide_type": "slide"
    }
   },
   "source": [
    "# Rule 6: Summarize your data\n",
    "\n",
    "One reason we spent all that time cleaning up our data is because it makes it much easier to quickly ask questions about this data. Usually this means running some quick visualizations to get a handle for what we're dealing with.\n",
    "\n",
    "In this section, we'll use our tidy dataset to look at some quick summaries of the data."
   ]
  },
  {
   "cell_type": "markdown",
   "metadata": {
    "slideshow": {
     "slide_type": "subslide"
    }
   },
   "source": [
    "## Visualization with `matplotlib`\n",
    "\n",
    "Recall that [matplotlib](http://matplotlib.org) is Python's main visualization \n",
    "library. It provides a range of tools for constructing plots and numerous \n",
    "high-level plotting libraries (e.g., [Seaborn](http://seaborn.pydata.org)) are \n",
    "built with matplotlib in mind. When we were in the early stages of setting up \n",
    "our analysis, we loaded these libraries like so:"
   ]
  },
  {
   "cell_type": "code",
   "execution_count": 34,
   "metadata": {
    "collapsed": true
   },
   "outputs": [],
   "source": [
    "import matplotlib.pyplot as plt\n",
    "%matplotlib inline"
   ]
  },
  {
   "cell_type": "markdown",
   "metadata": {
    "collapsed": true,
    "slideshow": {
     "slide_type": "subslide"
    }
   },
   "source": [
    "## Summarizing data\n",
    "\n",
    "Remember that the `info()` method gives a few useful pieces of information, including the shape of the `DataFrame`, the variable type of each column, and the amount of memory stored. We can see many of our changes (continent and country columns instead of region, higher number of rows, etc.) reflected in the output of the `info()` method."
   ]
  },
  {
   "cell_type": "code",
   "execution_count": 35,
   "metadata": {},
   "outputs": [
    {
     "name": "stdout",
     "output_type": "stream",
     "text": [
      "<class 'pandas.core.frame.DataFrame'>\n",
      "RangeIndex: 1704 entries, 0 to 1703\n",
      "Data columns (total 6 columns):\n",
      "year         1704 non-null int64\n",
      "pop          1704 non-null int64\n",
      "life_exp     1704 non-null float64\n",
      "gdppercap    1704 non-null float64\n",
      "country      1704 non-null object\n",
      "continent    1704 non-null object\n",
      "dtypes: float64(2), int64(2), object(2)\n",
      "memory usage: 80.0+ KB\n"
     ]
    }
   ],
   "source": [
    "gapminder_copy.info()"
   ]
  },
  {
   "cell_type": "markdown",
   "metadata": {
    "slideshow": {
     "slide_type": "fragment"
    }
   },
   "source": [
    "We also saw above that the `describe()` method will take the numeric columns and give a summary of their values. We have to remember that we changed the column names and this time it shouldn't have NaNs."
   ]
  },
  {
   "cell_type": "code",
   "execution_count": 36,
   "metadata": {},
   "outputs": [
    {
     "data": {
      "text/html": [
       "<div>\n",
       "<table border=\"1\" class=\"dataframe\">\n",
       "  <thead>\n",
       "    <tr style=\"text-align: right;\">\n",
       "      <th></th>\n",
       "      <th>pop</th>\n",
       "      <th>life_exp</th>\n",
       "      <th>gdppercap</th>\n",
       "    </tr>\n",
       "  </thead>\n",
       "  <tbody>\n",
       "    <tr>\n",
       "      <th>count</th>\n",
       "      <td>1.704000e+03</td>\n",
       "      <td>1704.000000</td>\n",
       "      <td>1704.000000</td>\n",
       "    </tr>\n",
       "    <tr>\n",
       "      <th>mean</th>\n",
       "      <td>2.960121e+07</td>\n",
       "      <td>59.474439</td>\n",
       "      <td>7215.327081</td>\n",
       "    </tr>\n",
       "    <tr>\n",
       "      <th>std</th>\n",
       "      <td>1.061579e+08</td>\n",
       "      <td>12.917107</td>\n",
       "      <td>9857.454543</td>\n",
       "    </tr>\n",
       "    <tr>\n",
       "      <th>min</th>\n",
       "      <td>6.001100e+04</td>\n",
       "      <td>23.599000</td>\n",
       "      <td>241.165877</td>\n",
       "    </tr>\n",
       "    <tr>\n",
       "      <th>25%</th>\n",
       "      <td>2.793664e+06</td>\n",
       "      <td>48.198000</td>\n",
       "      <td>1202.060309</td>\n",
       "    </tr>\n",
       "    <tr>\n",
       "      <th>50%</th>\n",
       "      <td>7.023596e+06</td>\n",
       "      <td>60.712500</td>\n",
       "      <td>3531.846989</td>\n",
       "    </tr>\n",
       "    <tr>\n",
       "      <th>75%</th>\n",
       "      <td>1.958522e+07</td>\n",
       "      <td>70.845500</td>\n",
       "      <td>9325.462346</td>\n",
       "    </tr>\n",
       "    <tr>\n",
       "      <th>max</th>\n",
       "      <td>1.318683e+09</td>\n",
       "      <td>82.603000</td>\n",
       "      <td>113523.132900</td>\n",
       "    </tr>\n",
       "  </tbody>\n",
       "</table>\n",
       "</div>"
      ],
      "text/plain": [
       "                pop     life_exp      gdppercap\n",
       "count  1.704000e+03  1704.000000    1704.000000\n",
       "mean   2.960121e+07    59.474439    7215.327081\n",
       "std    1.061579e+08    12.917107    9857.454543\n",
       "min    6.001100e+04    23.599000     241.165877\n",
       "25%    2.793664e+06    48.198000    1202.060309\n",
       "50%    7.023596e+06    60.712500    3531.846989\n",
       "75%    1.958522e+07    70.845500    9325.462346\n",
       "max    1.318683e+09    82.603000  113523.132900"
      ]
     },
     "execution_count": 36,
     "metadata": {},
     "output_type": "execute_result"
    }
   ],
   "source": [
    "gapminder_copy[['pop', 'life_exp', 'gdppercap']].describe()"
   ]
  },
  {
   "cell_type": "markdown",
   "metadata": {
    "slideshow": {
     "slide_type": "subslide"
    }
   },
   "source": [
    "### More summaries\n",
    "\n",
    "What if we just want a single value, like the mean of the population? We can call mean on a single column this way:\n"
   ]
  },
  {
   "cell_type": "code",
   "execution_count": 37,
   "metadata": {},
   "outputs": [
    {
     "data": {
      "text/plain": [
       "29601212.324530516"
      ]
     },
     "execution_count": 37,
     "metadata": {},
     "output_type": "execute_result"
    }
   ],
   "source": [
    "gapminder_copy['pop'].mean()"
   ]
  },
  {
   "cell_type": "markdown",
   "metadata": {
    "slideshow": {
     "slide_type": "subslide"
    }
   },
   "source": [
    "Let's visualize the distribution of one of these values, using a histogram:\n",
    "\n",
    "* __Histograms__ - provide a quick way of visualizing the distribution of numerical\n",
    "  data, or the frequencies of observations for categorical variables."
   ]
  },
  {
   "cell_type": "code",
   "execution_count": 40,
   "metadata": {},
   "outputs": [
    {
     "data": {
      "text/plain": [
       "<matplotlib.axes._subplots.AxesSubplot at 0x1179de048>"
      ]
     },
     "execution_count": 40,
     "metadata": {},
     "output_type": "execute_result"
    },
    {
     "data": {
      "image/png": "[encoded data removed]",
      "text/plain": [
       "<matplotlib.figure.Figure at 0x117bc7d68>"
      ]
     },
     "metadata": {},
     "output_type": "display_data"
    }
   ],
   "source": [
    "gapminder_copy['pop'].plot.hist()\n",
    "\n",
    "# Try adding `logy=True`"
   ]
  },
  {
   "cell_type": "markdown",
   "metadata": {
    "slideshow": {
     "slide_type": "subslide"
    }
   },
   "source": [
    "## Grouping data\n",
    "\n",
    "What if we want to know the mean population by _continent_? We have this information in the data, but it's currently got one datapoint per country.\n",
    "\n",
    "We need to **group** the data, and then **aggregate** the values in each group with some statistic.\n",
    "\n",
    "In pandas we do this with the `groupby()` method."
   ]
  },
  {
   "cell_type": "code",
   "execution_count": 41,
   "metadata": {},
   "outputs": [
    {
     "data": {
      "text/html": [
       "<div>\n",
       "<table border=\"1\" class=\"dataframe\">\n",
       "  <thead>\n",
       "    <tr style=\"text-align: right;\">\n",
       "      <th></th>\n",
       "      <th>pop</th>\n",
       "    </tr>\n",
       "    <tr>\n",
       "      <th>continent</th>\n",
       "      <th></th>\n",
       "    </tr>\n",
       "  </thead>\n",
       "  <tbody>\n",
       "    <tr>\n",
       "      <th>africa</th>\n",
       "      <td>9916003</td>\n",
       "    </tr>\n",
       "    <tr>\n",
       "      <th>americas</th>\n",
       "      <td>24504794</td>\n",
       "    </tr>\n",
       "    <tr>\n",
       "      <th>asia</th>\n",
       "      <td>77038721</td>\n",
       "    </tr>\n",
       "    <tr>\n",
       "      <th>europe</th>\n",
       "      <td>17169764</td>\n",
       "    </tr>\n",
       "    <tr>\n",
       "      <th>oceania</th>\n",
       "      <td>8874672</td>\n",
       "    </tr>\n",
       "  </tbody>\n",
       "</table>\n",
       "</div>"
      ],
      "text/plain": [
       "                pop\n",
       "continent          \n",
       "africa      9916003\n",
       "americas   24504794\n",
       "asia       77038721\n",
       "europe     17169764\n",
       "oceania     8874672"
      ]
     },
     "execution_count": 41,
     "metadata": {},
     "output_type": "execute_result"
    }
   ],
   "source": [
    "gapminder_copy[['continent', 'pop']].groupby(by='continent').mean()\n",
    "\n",
    "# Try the same with other methods like `count` and `median`"
   ]
  },
  {
   "cell_type": "markdown",
   "metadata": {
    "slideshow": {
     "slide_type": "subslide"
    }
   },
   "source": [
    "This is where it becomes useful to visualize our data, for example, with a **barchart**"
   ]
  },
  {
   "cell_type": "code",
   "execution_count": 42,
   "metadata": {},
   "outputs": [
    {
     "data": {
      "text/plain": [
       "<matplotlib.axes._subplots.AxesSubplot at 0x117be0ba8>"
      ]
     },
     "execution_count": 42,
     "metadata": {},
     "output_type": "execute_result"
    },
    {
     "data": {
      "image/png": "[encoded data removed]",
      "text/plain": [
       "<matplotlib.figure.Figure at 0x1179f2a90>"
      ]
     },
     "metadata": {},
     "output_type": "display_data"
    }
   ],
   "source": [
    "gapminder_copy[['continent', 'pop']].groupby(by='continent').mean().plot.bar()"
   ]
  },
  {
   "cell_type": "markdown",
   "metadata": {
    "slideshow": {
     "slide_type": "fragment"
    }
   },
   "source": [
    "How about the number of entries (rows) per continent?\n"
   ]
  },
  {
   "cell_type": "code",
   "execution_count": 44,
   "metadata": {},
   "outputs": [
    {
     "data": {
      "text/html": [
       "<div>\n",
       "<table border=\"1\" class=\"dataframe\">\n",
       "  <thead>\n",
       "    <tr style=\"text-align: right;\">\n",
       "      <th></th>\n",
       "      <th>country</th>\n",
       "    </tr>\n",
       "    <tr>\n",
       "      <th>continent</th>\n",
       "      <th></th>\n",
       "    </tr>\n",
       "  </thead>\n",
       "  <tbody>\n",
       "    <tr>\n",
       "      <th>africa</th>\n",
       "      <td>624</td>\n",
       "    </tr>\n",
       "    <tr>\n",
       "      <th>americas</th>\n",
       "      <td>300</td>\n",
       "    </tr>\n",
       "    <tr>\n",
       "      <th>asia</th>\n",
       "      <td>396</td>\n",
       "    </tr>\n",
       "    <tr>\n",
       "      <th>europe</th>\n",
       "      <td>360</td>\n",
       "    </tr>\n",
       "    <tr>\n",
       "      <th>oceania</th>\n",
       "      <td>24</td>\n",
       "    </tr>\n",
       "  </tbody>\n",
       "</table>\n",
       "</div>"
      ],
      "text/plain": [
       "           country\n",
       "continent         \n",
       "africa         624\n",
       "americas       300\n",
       "asia           396\n",
       "europe         360\n",
       "oceania         24"
      ]
     },
     "execution_count": 44,
     "metadata": {},
     "output_type": "execute_result"
    }
   ],
   "source": [
    "count = gapminder_copy[['continent', 'country']].groupby(by='continent').count()\n",
    "count"
   ]
  },
  {
   "cell_type": "code",
   "execution_count": 45,
   "metadata": {},
   "outputs": [
    {
     "data": {
      "text/plain": [
       "<matplotlib.axes._subplots.AxesSubplot at 0x117dea6a0>"
      ]
     },
     "execution_count": 45,
     "metadata": {},
     "output_type": "execute_result"
    },
    {
     "data": {
      "image/png": "[encoded data removed]",
      "text/plain": [
       "<matplotlib.figure.Figure at 0x117e33c50>"
      ]
     },
     "metadata": {},
     "output_type": "display_data"
    }
   ],
   "source": [
    "count.plot.bar()"
   ]
  },
  {
   "cell_type": "markdown",
   "metadata": {
    "slideshow": {
     "slide_type": "subslide"
    }
   },
   "source": [
    "We can also look at the mean GDP per capita of each country: \n"
   ]
  },
  {
   "cell_type": "code",
   "execution_count": 46,
   "metadata": {},
   "outputs": [
    {
     "data": {
      "text/plain": [
       "country\n",
       "afghanistan      802.674598\n",
       "albania         3255.366633\n",
       "algeria         4426.025973\n",
       "angola          3607.100529\n",
       "argentina       8955.553783\n",
       "australia      19980.595634\n",
       "austria        20411.916279\n",
       "bahrain        18077.663945\n",
       "bangladesh       817.558818\n",
       "belgium        19900.758072\n",
       "benin           1155.395107\n",
       "bolivia         2961.228754\n",
       "Name: gdppercap, dtype: float64"
      ]
     },
     "execution_count": 46,
     "metadata": {},
     "output_type": "execute_result"
    }
   ],
   "source": [
    "gapminder_copy.groupby(by='country').mean()['gdppercap'].head(12)"
   ]
  },
  {
   "cell_type": "markdown",
   "metadata": {
    "slideshow": {
     "slide_type": "subslide"
    }
   },
   "source": [
    "What if we wanted a new `DataFrame` that just contained these summaries? This could be a table in a report, for example."
   ]
  },
  {
   "cell_type": "code",
   "execution_count": 47,
   "metadata": {},
   "outputs": [
    {
     "data": {
      "text/html": [
       "<div>\n",
       "<table border=\"1\" class=\"dataframe\">\n",
       "  <thead>\n",
       "    <tr style=\"text-align: right;\">\n",
       "      <th></th>\n",
       "      <th>nrows</th>\n",
       "      <th>meanpop</th>\n",
       "      <th>medianpop</th>\n",
       "    </tr>\n",
       "    <tr>\n",
       "      <th>continent</th>\n",
       "      <th></th>\n",
       "      <th></th>\n",
       "      <th></th>\n",
       "    </tr>\n",
       "  </thead>\n",
       "  <tbody>\n",
       "    <tr>\n",
       "      <th>africa</th>\n",
       "      <td>624</td>\n",
       "      <td>9916003</td>\n",
       "      <td>4579311</td>\n",
       "    </tr>\n",
       "    <tr>\n",
       "      <th>americas</th>\n",
       "      <td>300</td>\n",
       "      <td>24504794</td>\n",
       "      <td>6227510</td>\n",
       "    </tr>\n",
       "    <tr>\n",
       "      <th>asia</th>\n",
       "      <td>396</td>\n",
       "      <td>77038721</td>\n",
       "      <td>14530830</td>\n",
       "    </tr>\n",
       "    <tr>\n",
       "      <th>europe</th>\n",
       "      <td>360</td>\n",
       "      <td>17169764</td>\n",
       "      <td>8551125</td>\n",
       "    </tr>\n",
       "    <tr>\n",
       "      <th>oceania</th>\n",
       "      <td>24</td>\n",
       "      <td>8874672</td>\n",
       "      <td>6403491</td>\n",
       "    </tr>\n",
       "  </tbody>\n",
       "</table>\n",
       "</div>"
      ],
      "text/plain": [
       "           nrows   meanpop  medianpop\n",
       "continent                            \n",
       "africa       624   9916003    4579311\n",
       "americas     300  24504794    6227510\n",
       "asia         396  77038721   14530830\n",
       "europe       360  17169764    8551125\n",
       "oceania       24   8874672    6403491"
      ]
     },
     "execution_count": 47,
     "metadata": {},
     "output_type": "execute_result"
    }
   ],
   "source": [
    "continent_mean_pop = gapminder_copy[['continent', 'pop']].groupby(by='continent').mean()\n",
    "continent_mean_pop = continent_mean_pop.rename(columns = {'pop':'meanpop'})\n",
    "continent_row_ct = gapminder_copy[['continent', 'country']].groupby(by='continent').count()\n",
    "continent_row_ct = continent_row_ct.rename(columns = {'country':'nrows'})\n",
    "continent_median_pop = gapminder_copy[['continent', 'pop']].groupby(by='continent').median()\n",
    "continent_median_pop = continent_median_pop.rename(columns = {'pop':'medianpop'})\n",
    "gapminder_summs = pd.concat([continent_row_ct,continent_mean_pop,continent_median_pop], axis=1)\n",
    "gapminder_summs = gapminder_summs.rename(columns = {'y':'year'})\n",
    "gapminder_summs"
   ]
  },
  {
   "cell_type": "markdown",
   "metadata": {
    "slideshow": {
     "slide_type": "subslide"
    }
   },
   "source": [
    "When you become a pandas master, you can also do this kind of stuff with one line:"
   ]
  },
  {
   "cell_type": "code",
   "execution_count": 48,
   "metadata": {},
   "outputs": [
    {
     "data": {
      "text/html": [
       "<div>\n",
       "<table border=\"1\" class=\"dataframe\">\n",
       "  <thead>\n",
       "    <tr>\n",
       "      <th></th>\n",
       "      <th colspan=\"2\" halign=\"left\">pop</th>\n",
       "      <th>country</th>\n",
       "    </tr>\n",
       "    <tr>\n",
       "      <th></th>\n",
       "      <th>mean</th>\n",
       "      <th>median</th>\n",
       "      <th>count</th>\n",
       "    </tr>\n",
       "    <tr>\n",
       "      <th>continent</th>\n",
       "      <th></th>\n",
       "      <th></th>\n",
       "      <th></th>\n",
       "    </tr>\n",
       "  </thead>\n",
       "  <tbody>\n",
       "    <tr>\n",
       "      <th>africa</th>\n",
       "      <td>9916003</td>\n",
       "      <td>4579311</td>\n",
       "      <td>624</td>\n",
       "    </tr>\n",
       "    <tr>\n",
       "      <th>americas</th>\n",
       "      <td>24504794</td>\n",
       "      <td>6227510</td>\n",
       "      <td>300</td>\n",
       "    </tr>\n",
       "    <tr>\n",
       "      <th>asia</th>\n",
       "      <td>77038721</td>\n",
       "      <td>14530830</td>\n",
       "      <td>396</td>\n",
       "    </tr>\n",
       "    <tr>\n",
       "      <th>europe</th>\n",
       "      <td>17169764</td>\n",
       "      <td>8551125</td>\n",
       "      <td>360</td>\n",
       "    </tr>\n",
       "    <tr>\n",
       "      <th>oceania</th>\n",
       "      <td>8874672</td>\n",
       "      <td>6403491</td>\n",
       "      <td>24</td>\n",
       "    </tr>\n",
       "  </tbody>\n",
       "</table>\n",
       "</div>"
      ],
      "text/plain": [
       "                pop           country\n",
       "               mean    median   count\n",
       "continent                            \n",
       "africa      9916003   4579311     624\n",
       "americas   24504794   6227510     300\n",
       "asia       77038721  14530830     396\n",
       "europe     17169764   8551125     360\n",
       "oceania     8874672   6403491      24"
      ]
     },
     "execution_count": 48,
     "metadata": {},
     "output_type": "execute_result"
    }
   ],
   "source": [
    "grp = gapminder_copy.groupby('continent')\n",
    "grp.agg({'pop': ('mean', 'median'), 'country': 'count'})"
   ]
  },
  {
   "cell_type": "markdown",
   "metadata": {
    "slideshow": {
     "slide_type": "subslide"
    }
   },
   "source": [
    "## Comparing two variables\n",
    "\n",
    "It's also often useful to compare multiple variables in one plot. There are a bunch of ways to do this. For example, we could use a boxplot to look at the distribution of one variable grouped by another:\n",
    "\n",
    "\n",
    "* __Boxplots__ - provide a way of comparing the summary measures (e.g., max, min,\n",
    "  quartiles) across variables in a data set. Boxplots can be particularly useful with larger data sets.\n"
   ]
  },
  {
   "cell_type": "code",
   "execution_count": 51,
   "metadata": {},
   "outputs": [
    {
     "data": {
      "text/plain": [
       "<matplotlib.axes._subplots.AxesSubplot at 0x1183f2a58>"
      ]
     },
     "execution_count": 51,
     "metadata": {},
     "output_type": "execute_result"
    },
    {
     "data": {
      "image/png": "[encoded data removed]",
      "text/plain": [
       "<matplotlib.figure.Figure at 0x1183f20b8>"
      ]
     },
     "metadata": {},
     "output_type": "display_data"
    }
   ],
   "source": [
    "gapminder_copy.boxplot('life_exp', by='year')"
   ]
  },
  {
   "cell_type": "markdown",
   "metadata": {
    "slideshow": {
     "slide_type": "subslide"
    }
   },
   "source": [
    "### Scatterplots\n",
    "\n",
    "* __Scatterplots__ - visualization of relationships across two variables..."
   ]
  },
  {
   "cell_type": "code",
   "execution_count": 52,
   "metadata": {},
   "outputs": [
    {
     "data": {
      "text/plain": [
       "<matplotlib.axes._subplots.AxesSubplot at 0x1185806d8>"
      ]
     },
     "execution_count": 52,
     "metadata": {},
     "output_type": "execute_result"
    },
    {
     "data": {
      "image/png": "[encoded data removed]",
      "text/plain": [
       "<matplotlib.figure.Figure at 0x118374470>"
      ]
     },
     "metadata": {},
     "output_type": "display_data"
    }
   ],
   "source": [
    "# example plot goes here\n",
    "gapminder_copy.plot.scatter('gdppercap', 'life_exp')"
   ]
  },
  {
   "cell_type": "code",
   "execution_count": 53,
   "metadata": {
    "slideshow": {
     "slide_type": "fragment"
    }
   },
   "outputs": [
    {
     "data": {
      "text/plain": [
       "<matplotlib.axes._subplots.AxesSubplot at 0x1185a76a0>"
      ]
     },
     "execution_count": 53,
     "metadata": {},
     "output_type": "execute_result"
    },
    {
     "data": {
      "image/png": "[encoded data removed]",
      "text/plain": [
       "<matplotlib.figure.Figure at 0x118614ac8>"
      ]
     },
     "metadata": {},
     "output_type": "display_data"
    }
   ],
   "source": [
    "gapminder_copy.plot.scatter('gdppercap', 'life_exp', logx=True)"
   ]
  },
  {
   "cell_type": "markdown",
   "metadata": {
    "slideshow": {
     "slide_type": "subslide"
    }
   },
   "source": [
    "### Coding information into new variables\n",
    "Another trick is to add another axis of information in the plot. For example, let's plot a histogram of life expectancy, with the year coded by color:"
   ]
  },
  {
   "cell_type": "code",
   "execution_count": 54,
   "metadata": {},
   "outputs": [
    {
     "data": {
      "image/png": "[encoded data removed]",
      "text/plain": [
       "<matplotlib.figure.Figure at 0x1187c9c50>"
      ]
     },
     "metadata": {},
     "output_type": "display_data"
    }
   ],
   "source": [
    "# This uses something called a \"for\" loop in python to loop through the groups\n",
    "fig, ax = plt.subplots()\n",
    "grp_year = gapminder_copy.groupby('year')\n",
    "\n",
    "# Set color cycles\n",
    "from matplotlib import cycler\n",
    "cyc = cycler(color=plt.cm.viridis(np.linspace(0, 1, len(grp_year))))\n",
    "\n",
    "# Iterate through years\n",
    "for (year, group), kws in zip(grp_year, cyc):\n",
    "    ax.hist(group['life_exp'], bins=np.arange(0, 100, 5), alpha=.8, **kws)"
   ]
  },
  {
   "cell_type": "markdown",
   "metadata": {
    "slideshow": {
     "slide_type": "subslide"
    }
   },
   "source": [
    "We can do the same thing for scatterplots..."
   ]
  },
  {
   "cell_type": "code",
   "execution_count": 55,
   "metadata": {
    "slideshow": {
     "slide_type": "fragment"
    }
   },
   "outputs": [
    {
     "data": {
      "text/plain": [
       "<matplotlib.axes._subplots.AxesSubplot at 0x1187fcb70>"
      ]
     },
     "execution_count": 55,
     "metadata": {},
     "output_type": "execute_result"
    },
    {
     "data": {
      "image/png": "[encoded data removed]",
      "text/plain": [
       "<matplotlib.figure.Figure at 0x1187da978>"
      ]
     },
     "metadata": {},
     "output_type": "display_data"
    }
   ],
   "source": [
    "gapminder_copy.plot.scatter('gdppercap', 'life_exp', c='year', logx=True, cmap='viridis')"
   ]
  },
  {
   "cell_type": "markdown",
   "metadata": {
    "slideshow": {
     "slide_type": "slide"
    }
   },
   "source": [
    "# Rule 7: Spin off scripts early and often\n",
    "\n",
    "A big challenge with programming interactively is that you tend to generate messy, complicated files with lots of half-baked ideas in them. For example, in this notebook we've:\n",
    "\n",
    "* Loaded the data\n",
    "* Inspected the data\n",
    "* Cleaned the data\n",
    "* Computed some summary statistics on it\n",
    "* Created some visualizations"
   ]
  },
  {
   "cell_type": "markdown",
   "metadata": {},
   "source": [
    "We should really split this off into multiple files, called scripts, that can be run independently. We'll create a new folder, called `script`, that lives inside of our cleaning folder. In this, we'll put our data munging code, which will generate a new set of data called \"cleaned\". We'll also generate a new folder called \"result\" and put our analysis code in this.\n",
    "\n",
    "Here's what it should look like:\n",
    "\n",
    "```\n",
    "projects/\n",
    "    gapminder/\n",
    "        data/\n",
    "            00_raw/\n",
    "                gapminderDataFiveYear_superDirty.xlsx\n",
    "            01_cleaning/\n",
    "                gapminderDataFiveYear_superDirty.xlsx\n",
    "                scripts/\n",
    "            02_cleaned/\n",
    "        result/\n",
    "            scripts/\n",
    "```"
   ]
  },
  {
   "cell_type": "markdown",
   "metadata": {
    "slideshow": {
     "slide_type": "subslide"
    }
   },
   "source": [
    "Put this code in a file called `clean_data.py`"
   ]
  },
  {
   "cell_type": "markdown",
   "metadata": {
    "slideshow": {
     "slide_type": "-"
    }
   },
   "source": [
    "```\n",
    "import pandas as pd\n",
    "import numpy as np\n",
    "import matplotlib.pyplot as plt\n",
    "\n",
    "path_data = \"../../../../02-organization-RR-jupyter/data/gapminderDataFiveYear_superDirty.txt\"\n",
    "gapminder = pd.read_table(path_data, sep = \"\\t\")\n",
    "gapminder_copy = gapminder.copy()\n",
    "\n",
    "# Drop missing values\n",
    "gapminder_copy = gapminder_copy.dropna()\n",
    "\n",
    "# Convert types to int\n",
    "gapminder_copy['year'] = gapminder_copy['year'].astype(int)\n",
    "gapminder_copy['pop'] = gapminder_copy['pop'].astype(int)\n",
    "\n",
    "# Drop duplicates\n",
    "gapminder_copy = gapminder_copy.drop_duplicates()\n",
    "\n",
    "# Now we'll reset the index of the dataframe since it's off by 1\n",
    "gapminder_copy = gapminder_copy.reset_index(drop=True)\n",
    "\n",
    "# Clean up the strings\n",
    "gapminder_copy['region'] = gapminder_copy['region'].str.lstrip().str.rstrip().str.lower()\n",
    "\n",
    "# Make our columns lowercase\n",
    "gapminder_copy.columns = gapminder_copy.columns.str.lower()\n",
    "\n",
    "# Rename columns so that spaces become underscores\n",
    "gapminder_copy.columns = gapminder_copy.columns.str.replace(' ', '_')\n",
    "\n",
    "# Fix string naming\n",
    "gapminder_copy['region'].replace(\".*congo, dem.*\", \"africa_dem rep congo\", regex=True, inplace=True)\n",
    "gapminder_copy['region'].replace(\".*_democratic republic of the congo\", \"africa_dem rep congo\", regex=True, inplace=True)\n",
    "\n",
    "gapminder_copy['region'].replace(\".*ivore.*\", \"africa_cote d'ivoire\", regex=True, inplace=True)\n",
    "gapminder_copy['region'].replace(\"^_canada\", \"americas_canada\", regex=True, inplace=True)\n",
    "\n",
    "# Tidy the data\n",
    "split_regions = gapminder_copy['region'].str.split('_', 1)\n",
    "\n",
    "# Create two new variables from the previous column\n",
    "gapminder_copy['country'] = split_regions.str[1]\n",
    "gapminder_copy['continent'] = split_regions.str[0]\n",
    "\n",
    "# Now we'll drop the old region column, and look at the data\n",
    "gapminder_copy = gapminder_copy.drop('region', 1) #1 stands for column\n",
    "\n",
    "# Save the data\n",
    "path_save = '../cleaned/gapminder_clean.csv'\n",
    "gapminder_copy.to_csv(path_save)\n",
    "```"
   ]
  },
  {
   "cell_type": "markdown",
   "metadata": {},
   "source": [
    "We can now run this script from the command line by doing the following:"
   ]
  },
  {
   "cell_type": "code",
   "execution_count": null,
   "metadata": {
    "collapsed": true
   },
   "outputs": [],
   "source": [
    "!python clean_data.py"
   ]
  },
  {
   "cell_type": "markdown",
   "metadata": {},
   "source": [
    "Now we can focus subsequent notebooks etc on visualizing and understanding the actual data."
   ]
  },
  {
   "cell_type": "markdown",
   "metadata": {
    "collapsed": true
   },
   "source": [
    "# Finishing Up\n",
    "\n",
    "At this point, we've taken a first look at the data, cleaned it up a bit, and have started asking some simple questions with it. However, in order to formally do anything with the data, we need to use actual statistical procedures and more complicated visualizations. We'll focus on this in the final lesson of this series."
   ]
  },
  {
   "cell_type": "code",
   "execution_count": null,
   "metadata": {
    "collapsed": true
   },
   "outputs": [],
   "source": []
  }
 ],
 "metadata": {
  "celltoolbar": "Slideshow",
  "kernelspec": {
   "display_name": "Python 3",
   "language": "python",
   "name": "python3"
  },
  "language_info": {
   "codemirror_mode": {
    "name": "ipython",
    "version": 3
   },
   "file_extension": ".py",
   "mimetype": "text/x-python",
   "name": "python",
   "nbconvert_exporter": "python",
   "pygments_lexer": "ipython3",
   "version": "3.6.0"
  },
  "livereveal": {
   "progress": true,
   "scroll": true,
   "start_slideshow_at": "selected"
  },
  "toc": {
   "toc_cell": false,
   "toc_number_sections": false,
   "toc_section_display": "block",
   "toc_threshold": "3",
   "toc_window_display": true
  }
 },
 "nbformat": 4,
 "nbformat_minor": 1
}
