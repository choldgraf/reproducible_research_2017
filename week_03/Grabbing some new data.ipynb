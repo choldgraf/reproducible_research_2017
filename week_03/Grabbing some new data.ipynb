{
 "cells": [
  {
   "cell_type": "markdown",
   "metadata": {
    "slideshow": {
     "slide_type": "slide"
    }
   },
   "source": [
    "# Adding new data to our dataset\n",
    "Last week we spoke about \"tidy data\", which is a means of organizing data such that samples are rows and features are columns."
   ]
  },
  {
   "cell_type": "markdown",
   "metadata": {
    "slideshow": {
     "slide_type": "subslide"
    }
   },
   "source": [
    "Why do we do this? We'll see in a bit how this lets us visualize complex data very quickly, as well as do things like data analysis very easily. Another benefit is that it lets us combine datasets much more easily.\n",
    "\n",
    "Below we'll scrape some country data from the web. It will be taken from the website [nationmaster.com](nationmaster.com), which collects all kinds of data about countries. Remember that we already have our gapminder dataset from before. Let's see if we can add a little more information there."
   ]
  },
  {
   "cell_type": "markdown",
   "metadata": {
    "slideshow": {
     "slide_type": "slide"
    }
   },
   "source": [
    "# Create code for downloading the data\n",
    "We'll use a python package called `requests` to download the data itself. This package lets us ask websites for information, and is really useful for scraping data from the web.\n",
    "\n",
    "We'll also use a package called `BeautifulSoup`. This gives us a way of quickly parsing HTML (which is the code behind a website) and will let us pull the values from tables on [nationmaster.com](nationmaster.com)."
   ]
  },
  {
   "cell_type": "code",
   "execution_count": 2,
   "metadata": {
    "collapsed": true
   },
   "outputs": [],
   "source": [
    "import pandas as pd\n",
    "import requests\n",
    "from bs4 import BeautifulSoup as bs"
   ]
  },
  {
   "cell_type": "code",
   "execution_count": 3,
   "metadata": {
    "collapsed": true,
    "slideshow": {
     "slide_type": "subslide"
    }
   },
   "outputs": [],
   "source": [
    "# Define a function that will pull the data\n",
    "def pull_page_data(url):\n",
    "    # Make the request\n",
    "    resp = requests.get(url)\n",
    "    html = bs(resp.text)\n",
    "\n",
    "    # Find the countries table on this page\n",
    "    tables = html.find_all('table')\n",
    "    countries = tables[0]\n",
    "    \n",
    "    # Define headers\n",
    "    rows = countries.find_all('tr')\n",
    "    headers = rows[0]\n",
    "    headers = [ii.text.lower() for ii in headers.find_all('th')]\n",
    "\n",
    "    # Pull the data\n",
    "    data = [[ii.text.strip().strip('=') for ii in row.find_all('td')] for row in rows[1:]]\n",
    "    data = pd.DataFrame(data, columns=headers)\n",
    "    data['country'] = data['country'].str.lower()\n",
    "    return data"
   ]
  },
  {
   "cell_type": "code",
   "execution_count": 4,
   "metadata": {
    "slideshow": {
     "slide_type": "subslide"
    }
   },
   "outputs": [
    {
     "name": "stderr",
     "output_type": "stream",
     "text": [
      "/Users/choldgraf/anaconda/lib/python3.6/site-packages/bs4/__init__.py:181: UserWarning: No parser was explicitly specified, so I'm using the best available HTML parser for this system (\"lxml\"). This usually isn't a problem, but if you run this code on another system, or in a different virtual environment, it may use a different parser and behave differently.\n",
      "\n",
      "The code that caused this warning is on line 193 of the file /Users/choldgraf/anaconda/lib/python3.6/runpy.py. To get rid of this warning, change code that looks like this:\n",
      "\n",
      " BeautifulSoup([your markup])\n",
      "\n",
      "to this:\n",
      "\n",
      " BeautifulSoup([your markup], \"lxml\")\n",
      "\n",
      "  markup_type=markup_type))\n"
     ]
    }
   ],
   "source": [
    "# Run this function on two datasets\n",
    "urls = [\"http://www.nationmaster.com/country-info/stats/Crime/Violent-crime/Murder-rate#-date\",\n",
    "        \"http://www.nationmaster.com/country-info/stats/Government/Government-type\"]\n",
    "\n",
    "# run the function on each dataset\n",
    "murder_rate = pull_page_data(urls[0])\n",
    "gov_type = pull_page_data(urls[1])"
   ]
  },
  {
   "cell_type": "code",
   "execution_count": 5,
   "metadata": {
    "slideshow": {
     "slide_type": "fragment"
    }
   },
   "outputs": [
    {
     "data": {
      "text/html": [
       "<div>\n",
       "<table border=\"1\" class=\"dataframe\">\n",
       "  <thead>\n",
       "    <tr style=\"text-align: right;\">\n",
       "      <th></th>\n",
       "      <th>#</th>\n",
       "      <th>country</th>\n",
       "      <th>amount</th>\n",
       "      <th>date</th>\n",
       "      <th>graph</th>\n",
       "      <th>history</th>\n",
       "    </tr>\n",
       "  </thead>\n",
       "  <tbody>\n",
       "    <tr>\n",
       "      <th>0</th>\n",
       "      <td>1</td>\n",
       "      <td>brazil</td>\n",
       "      <td>40,974</td>\n",
       "      <td>2010</td>\n",
       "      <td></td>\n",
       "      <td></td>\n",
       "    </tr>\n",
       "    <tr>\n",
       "      <th>1</th>\n",
       "      <td>2</td>\n",
       "      <td>india</td>\n",
       "      <td>40,752</td>\n",
       "      <td>2009</td>\n",
       "      <td></td>\n",
       "      <td></td>\n",
       "    </tr>\n",
       "    <tr>\n",
       "      <th>2</th>\n",
       "      <td>3</td>\n",
       "      <td>mexico</td>\n",
       "      <td>25,757</td>\n",
       "      <td>2010</td>\n",
       "      <td></td>\n",
       "      <td></td>\n",
       "    </tr>\n",
       "    <tr>\n",
       "      <th>3</th>\n",
       "      <td>4</td>\n",
       "      <td>ethiopia</td>\n",
       "      <td>20,239</td>\n",
       "      <td>2008</td>\n",
       "      <td></td>\n",
       "      <td></td>\n",
       "    </tr>\n",
       "    <tr>\n",
       "      <th>4</th>\n",
       "      <td>5</td>\n",
       "      <td>indonesia</td>\n",
       "      <td>18,963</td>\n",
       "      <td>2008</td>\n",
       "      <td></td>\n",
       "      <td></td>\n",
       "    </tr>\n",
       "  </tbody>\n",
       "</table>\n",
       "</div>"
      ],
      "text/plain": [
       "   #    country  amount  date graph history\n",
       "0  1     brazil  40,974  2010              \n",
       "1  2      india  40,752  2009              \n",
       "2  3     mexico  25,757  2010              \n",
       "3  4   ethiopia  20,239  2008              \n",
       "4  5  indonesia  18,963  2008              "
      ]
     },
     "execution_count": 5,
     "metadata": {},
     "output_type": "execute_result"
    }
   ],
   "source": [
    "murder_rate.head()"
   ]
  },
  {
   "cell_type": "code",
   "execution_count": 6,
   "metadata": {},
   "outputs": [
    {
     "data": {
      "text/html": [
       "<div>\n",
       "<table border=\"1\" class=\"dataframe\">\n",
       "  <thead>\n",
       "    <tr style=\"text-align: right;\">\n",
       "      <th></th>\n",
       "      <th>country</th>\n",
       "      <th>description</th>\n",
       "    </tr>\n",
       "  </thead>\n",
       "  <tbody>\n",
       "    <tr>\n",
       "      <th>0</th>\n",
       "      <td>afghanistan</td>\n",
       "      <td>Islamic republic</td>\n",
       "    </tr>\n",
       "    <tr>\n",
       "      <th>1</th>\n",
       "      <td>albania</td>\n",
       "      <td>parliamentary democracy</td>\n",
       "    </tr>\n",
       "    <tr>\n",
       "      <th>2</th>\n",
       "      <td>algeria</td>\n",
       "      <td>republic</td>\n",
       "    </tr>\n",
       "    <tr>\n",
       "      <th>3</th>\n",
       "      <td>american samoa</td>\n",
       "      <td>NA</td>\n",
       "    </tr>\n",
       "    <tr>\n",
       "      <th>4</th>\n",
       "      <td>andorra</td>\n",
       "      <td>parliamentary democracy (since March 1993) tha...</td>\n",
       "    </tr>\n",
       "  </tbody>\n",
       "</table>\n",
       "</div>"
      ],
      "text/plain": [
       "          country                                        description\n",
       "0     afghanistan                                   Islamic republic\n",
       "1         albania                            parliamentary democracy\n",
       "2         algeria                                           republic\n",
       "3  american samoa                                                 NA\n",
       "4         andorra  parliamentary democracy (since March 1993) tha..."
      ]
     },
     "execution_count": 6,
     "metadata": {},
     "output_type": "execute_result"
    }
   ],
   "source": [
    "gov_type.head()"
   ]
  },
  {
   "cell_type": "markdown",
   "metadata": {
    "slideshow": {
     "slide_type": "slide"
    }
   },
   "source": [
    "# Cleaning up our data\n",
    "Remember, we always want to clean up / standardize our data so that it's easy to make comparisons. Below we'll do some general steps to make our data easier to manage. Luckily for us, the data is already in \"tidy\" format so we don't need to change much."
   ]
  },
  {
   "cell_type": "markdown",
   "metadata": {
    "slideshow": {
     "slide_type": "subslide"
    }
   },
   "source": [
    "# Clean up murder rate\n",
    "For murder rate, we'll rename the `date` column to `update`, reflecting the fact that this date tells us the last time that murder rate was updated. We'll also rename the `amount` column so that it's more expressive of its true value."
   ]
  },
  {
   "cell_type": "code",
   "execution_count": 7,
   "metadata": {
    "collapsed": true
   },
   "outputs": [],
   "source": [
    "rename_dict = {'date': 'murder_rate_updated',\n",
    "               'amount': 'murder_rate'}\n",
    "murder_rate = murder_rate[['country', 'amount', 'date']].rename(columns=rename_dict)"
   ]
  },
  {
   "cell_type": "code",
   "execution_count": 8,
   "metadata": {},
   "outputs": [
    {
     "data": {
      "text/plain": [
       "0    40,974\n",
       "1    40,752\n",
       "2    25,757\n",
       "3    20,239\n",
       "4    18,963\n",
       "Name: murder_rate, dtype: object"
      ]
     },
     "execution_count": 8,
     "metadata": {},
     "output_type": "execute_result"
    }
   ],
   "source": [
    "# Notice the data type of this column\n",
    "murder_rate['murder_rate'][:5]"
   ]
  },
  {
   "cell_type": "code",
   "execution_count": 9,
   "metadata": {},
   "outputs": [
    {
     "data": {
      "text/plain": [
       "0    40974.0\n",
       "1    40752.0\n",
       "2    25757.0\n",
       "3    20239.0\n",
       "4    18963.0\n",
       "Name: murder_rate, dtype: float64"
      ]
     },
     "execution_count": 9,
     "metadata": {},
     "output_type": "execute_result"
    }
   ],
   "source": [
    "# Now convert murder rate to a floating point\n",
    "murder_rate['murder_rate'] = murder_rate['murder_rate'].\\\n",
    "    str.replace(',', '').apply(pd.to_numeric)\n",
    "murder_rate['murder_rate'][:5]"
   ]
  },
  {
   "cell_type": "markdown",
   "metadata": {
    "slideshow": {
     "slide_type": "subslide"
    }
   },
   "source": [
    "## Clean up govt type\n",
    "Let's take a look at the type of government for each country."
   ]
  },
  {
   "cell_type": "code",
   "execution_count": 10,
   "metadata": {},
   "outputs": [
    {
     "data": {
      "text/plain": [
       "array(['Islamic republic', 'parliamentary democracy', 'republic', 'NA',\n",
       "       \"parliamentary democracy (since March 1993) that retains as its chiefs of state a coprincipality; the two princes are the president of France and bishop of Seu d'Urgell, Spain, who are represented in Andorra by the coprinces' representatives\",\n",
       "       'republic; multiparty presidential regime', 'NA',\n",
       "       'Antarctic Treaty Summary - the Antarctic region is governed by a system known as the Antarctic Treaty System; the system includes: 1. the Antarctic Treaty, signed on 1 December 1959 and entered into force on 23 June 1961, which establishes the legal framework for the management of Antarctica, 2. Recommendations and Measures adopted at meetings of Antarctic Treaty countries, 3. The Convention for the Conservation of Antarctic Seals (1972), 4. The Convention for the Conservation of Antarctic Marine Living Resources (1980), and 5. The Protocol on Environmental Protection to the Antarctic Treaty (1991); the 33rd Antarctic Treaty Consultative Meeting was held in Punta del Este, Uruguay in May 2010; at these periodic meetings, decisions are made by consensus (not by vote) of all consultative member nations; by April 2010, there were 48 treaty member nations: 28 consultative and 20 non-consultative; consultative (decision-making) members include the seven nations that claim portions of Antarctica as national territory (some claims overlap) and 21 non-claimant nations; the US and Russia have reserved the right to make claims; the US does not recognize the claims of others; Antarctica is administered through meetings of the consultative member nations; decisions from these meetings are carried out by these member nations (with respect to their own nationals and operations) in accordance with their own national laws; the years in parentheses indicate when a consultative member-nation acceded to the Treaty and when it was accepted as a consultative member, while no date indicates the country was an original 1959 treaty signatory; claimant nations are - Argentina, Australia, Chile, France, NZ, Norway, and the UK; nonclaimant consultative nations are - Belgium, Brazil (1975/1983), Bulgaria (1978/1998), China (1983/1985), Ecuador (1987/1990), Finland (1984/1989), Germany (1979/1981), India (1983/1983), Italy (1981/1987), Japan, South Korea (1986/1989), Netherlands (1967/1990), Peru (1981/1989), Poland (196Article 1 - area to be used for peaceful purposes only; military activity, such as weapons testing, is prohibited, but military personnel and equipment may be used for scientific research or any other peaceful purpose; Article 2 - freedom of scientific investigation and cooperation shall continue; Article 3 - free exchange of information and personnel, cooperation with the UN and other international agencies; Article 4 - does not recognize, dispute, or establish territorial claims and no new claims shall be asserted while the treaty is in force; Article 5 - prohibits nuclear explosions or disposal of radioactive wastes; Article 6 - includes under the treaty all land and ice shelves south of 60 degrees 00 minutes south and reserves high seas rights; Article 7 - treaty-state observers have free access, including aerial observation, to any area and may inspect all stations, installations, and equipment; advance notice of all expeditions and of the introduction of military personnel must be given; Article 8 - allows for jurisdiction over observers and scientists by their own states; Article 9 - frequent consultative meetings take place among member nations; Article 10 - treaty states will discourage activities by any country in Antarctica that are contrary to the treaty; Article 11 - disputes to be settled peacefully by the parties concerned or, ultimately, by the ICJ; Articles 12, 13, 14 - deal with upholding, interpreting, and amending the treaty among involved nations; other agreements - some 200 recommendations adopted at treaty consultative meetings and ratified by governments; a mineral resources agreement was signed in 1988 but remains unratified; the Protocol on Environmental Protection to the Antarctic Treaty was signed 4 October 1991 and entered into force 14 January 1998; this agreement provides for the protection of the Antarctic environment through six specific annexes: 1) environmental impact assessment, 2) conservation of Antarctic fauna and flora, 3) waste disposal and waste management, 4) prevention of marine pollution, 5) area protection and management and 6) liability arising from environmental emergencies; it prohibits all activities relating to mineral resources except scientific research; a permanent Antarctic Treaty Secretariat was established in 2004 in Buenos Aires, Argentina',\n",
       "       'constitutional monarchy with a parliamentary system of government and a Commonwealth realm',\n",
       "       'republic', 'republic', 'parliamentary democracy',\n",
       "       'federal parliamentary democracy and a Commonwealth realm',\n",
       "       'federal republic', 'republic', 'constitutional monarchy',\n",
       "       'parliamentary democracy',\n",
       "       'parliamentary democracy and a Commonwealth realm',\n",
       "       'republic in name, although in fact a dictatorship',\n",
       "       'federal parliamentary democracy under a constitutional monarchy',\n",
       "       'parliamentary democracy and a Commonwealth realm', 'republic',\n",
       "       'parliamentary; self-governing territory',\n",
       "       'constitutional monarchy', 'republic',\n",
       "       'emerging federal democratic republic', 'parliamentary republic',\n",
       "       'federal republic', 'NA',\n",
       "       'constitutional sultanate (locally known as Malay Islamic Monarchy)'], dtype=object)"
      ]
     },
     "execution_count": 10,
     "metadata": {},
     "output_type": "execute_result"
    }
   ],
   "source": [
    "gov_type['description'].values[:30]"
   ]
  },
  {
   "cell_type": "markdown",
   "metadata": {
    "slideshow": {
     "slide_type": "subslide"
    }
   },
   "source": [
    "We can see that some of these are quite long. We could try to infer the \"actual\" description from what's here, but for the sake of speed, let's just cut off the long ones."
   ]
  },
  {
   "cell_type": "code",
   "execution_count": 12,
   "metadata": {
    "collapsed": true
   },
   "outputs": [],
   "source": [
    "def cut_long_desc(description):\n",
    "    return description[:20]\n",
    "gov_type['description'] = gov_type['description'].apply(cut_long_desc)"
   ]
  },
  {
   "cell_type": "markdown",
   "metadata": {
    "slideshow": {
     "slide_type": "slide"
    }
   },
   "source": [
    "## Merge them together\n",
    "Now that we've got the data from these two sources into a similar format, we can easily combined them using the pandas `merge` command."
   ]
  },
  {
   "cell_type": "code",
   "execution_count": 15,
   "metadata": {
    "collapsed": true
   },
   "outputs": [],
   "source": [
    "merged = pd.merge(murder_rate, gov_type, on='country')"
   ]
  },
  {
   "cell_type": "code",
   "execution_count": 16,
   "metadata": {},
   "outputs": [
    {
     "data": {
      "text/html": [
       "<div>\n",
       "<table border=\"1\" class=\"dataframe\">\n",
       "  <thead>\n",
       "    <tr style=\"text-align: right;\">\n",
       "      <th></th>\n",
       "      <th>country</th>\n",
       "      <th>murder_rate</th>\n",
       "      <th>murder_rate_updated</th>\n",
       "      <th>description</th>\n",
       "    </tr>\n",
       "  </thead>\n",
       "  <tbody>\n",
       "    <tr>\n",
       "      <th>0</th>\n",
       "      <td>brazil</td>\n",
       "      <td>40974.0</td>\n",
       "      <td>2010</td>\n",
       "      <td>federal republic</td>\n",
       "    </tr>\n",
       "    <tr>\n",
       "      <th>1</th>\n",
       "      <td>india</td>\n",
       "      <td>40752.0</td>\n",
       "      <td>2009</td>\n",
       "      <td>federal republic</td>\n",
       "    </tr>\n",
       "    <tr>\n",
       "      <th>2</th>\n",
       "      <td>mexico</td>\n",
       "      <td>25757.0</td>\n",
       "      <td>2010</td>\n",
       "      <td>federal republic</td>\n",
       "    </tr>\n",
       "    <tr>\n",
       "      <th>3</th>\n",
       "      <td>ethiopia</td>\n",
       "      <td>20239.0</td>\n",
       "      <td>2008</td>\n",
       "      <td>federal republic</td>\n",
       "    </tr>\n",
       "    <tr>\n",
       "      <th>4</th>\n",
       "      <td>indonesia</td>\n",
       "      <td>18963.0</td>\n",
       "      <td>2008</td>\n",
       "      <td>republic</td>\n",
       "    </tr>\n",
       "  </tbody>\n",
       "</table>\n",
       "</div>"
      ],
      "text/plain": [
       "     country  murder_rate murder_rate_updated       description\n",
       "0     brazil      40974.0                2010  federal republic\n",
       "1      india      40752.0                2009  federal republic\n",
       "2     mexico      25757.0                2010  federal republic\n",
       "3   ethiopia      20239.0                2008  federal republic\n",
       "4  indonesia      18963.0                2008          republic"
      ]
     },
     "execution_count": 16,
     "metadata": {},
     "output_type": "execute_result"
    }
   ],
   "source": [
    "merged.head()"
   ]
  },
  {
   "cell_type": "markdown",
   "metadata": {
    "slideshow": {
     "slide_type": "subslide"
    }
   },
   "source": [
    "And in these few steps we've gone from two datasets to one! Notice that there are different ways in which we can merge datasets. These are often described with the language of \"set theory\". Here are some ways to do this:\n",
    "\n",
    "* Inner - only keep rows where the \"join\" column exists in both datasets\n",
    "* Outer - keep all rows, regardless of whether a \"join\" column exists in both datasets\n",
    "* Left - only keep rows corresponding to the \"join\" column in the left dataset\n",
    "* Right - only keep rows corresponding to the \"join\" column in the right dataset\n",
    "\n",
    "For example:"
   ]
  },
  {
   "cell_type": "code",
   "execution_count": 17,
   "metadata": {
    "slideshow": {
     "slide_type": "fragment"
    }
   },
   "outputs": [
    {
     "data": {
      "text/html": [
       "<div>\n",
       "<table border=\"1\" class=\"dataframe\">\n",
       "  <thead>\n",
       "    <tr style=\"text-align: right;\">\n",
       "      <th></th>\n",
       "      <th>country</th>\n",
       "      <th>murder_rate</th>\n",
       "      <th>murder_rate_updated</th>\n",
       "      <th>description</th>\n",
       "    </tr>\n",
       "  </thead>\n",
       "  <tbody>\n",
       "    <tr>\n",
       "      <th>0</th>\n",
       "      <td>brazil</td>\n",
       "      <td>40974.0</td>\n",
       "      <td>2010</td>\n",
       "      <td>federal republic</td>\n",
       "    </tr>\n",
       "    <tr>\n",
       "      <th>1</th>\n",
       "      <td>india</td>\n",
       "      <td>40752.0</td>\n",
       "      <td>2009</td>\n",
       "      <td>federal republic</td>\n",
       "    </tr>\n",
       "    <tr>\n",
       "      <th>2</th>\n",
       "      <td>mexico</td>\n",
       "      <td>25757.0</td>\n",
       "      <td>2010</td>\n",
       "      <td>federal republic</td>\n",
       "    </tr>\n",
       "    <tr>\n",
       "      <th>3</th>\n",
       "      <td>ethiopia</td>\n",
       "      <td>20239.0</td>\n",
       "      <td>2008</td>\n",
       "      <td>federal republic</td>\n",
       "    </tr>\n",
       "    <tr>\n",
       "      <th>4</th>\n",
       "      <td>indonesia</td>\n",
       "      <td>18963.0</td>\n",
       "      <td>2008</td>\n",
       "      <td>republic</td>\n",
       "    </tr>\n",
       "    <tr>\n",
       "      <th>5</th>\n",
       "      <td>nigeria</td>\n",
       "      <td>18422.0</td>\n",
       "      <td>2008</td>\n",
       "      <td>federal republic</td>\n",
       "    </tr>\n",
       "    <tr>\n",
       "      <th>6</th>\n",
       "      <td>south africa</td>\n",
       "      <td>15940.0</td>\n",
       "      <td>2010</td>\n",
       "      <td>republic</td>\n",
       "    </tr>\n",
       "    <tr>\n",
       "      <th>7</th>\n",
       "      <td>colombia</td>\n",
       "      <td>15459.0</td>\n",
       "      <td>2010</td>\n",
       "      <td>republic; executive</td>\n",
       "    </tr>\n",
       "    <tr>\n",
       "      <th>8</th>\n",
       "      <td>russia</td>\n",
       "      <td>14574.0</td>\n",
       "      <td>2010</td>\n",
       "      <td>federation</td>\n",
       "    </tr>\n",
       "    <tr>\n",
       "      <th>9</th>\n",
       "      <td>pakistan</td>\n",
       "      <td>13860.0</td>\n",
       "      <td>2011</td>\n",
       "      <td>federal republic</td>\n",
       "    </tr>\n",
       "    <tr>\n",
       "      <th>10</th>\n",
       "      <td>democratic republic of the congo</td>\n",
       "      <td>13558.0</td>\n",
       "      <td>2008</td>\n",
       "      <td>republic</td>\n",
       "    </tr>\n",
       "    <tr>\n",
       "      <th>11</th>\n",
       "      <td>china</td>\n",
       "      <td>13410.0</td>\n",
       "      <td>2010</td>\n",
       "      <td>Communist state</td>\n",
       "    </tr>\n",
       "    <tr>\n",
       "      <th>12</th>\n",
       "      <td>venezuela</td>\n",
       "      <td>13080.0</td>\n",
       "      <td>2010</td>\n",
       "      <td>federal republic</td>\n",
       "    </tr>\n",
       "    <tr>\n",
       "      <th>13</th>\n",
       "      <td>united states</td>\n",
       "      <td>12996.0</td>\n",
       "      <td>2010</td>\n",
       "      <td>Constitution-based f</td>\n",
       "    </tr>\n",
       "    <tr>\n",
       "      <th>14</th>\n",
       "      <td>uganda</td>\n",
       "      <td>11373.0</td>\n",
       "      <td>2008</td>\n",
       "      <td>republic</td>\n",
       "    </tr>\n",
       "    <tr>\n",
       "      <th>15</th>\n",
       "      <td>cote d'ivoire</td>\n",
       "      <td>10801.0</td>\n",
       "      <td>2008</td>\n",
       "      <td>republic; multiparty</td>\n",
       "    </tr>\n",
       "    <tr>\n",
       "      <th>16</th>\n",
       "      <td>tanzania</td>\n",
       "      <td>10357.0</td>\n",
       "      <td>2008</td>\n",
       "      <td>republic</td>\n",
       "    </tr>\n",
       "    <tr>\n",
       "      <th>17</th>\n",
       "      <td>sudan</td>\n",
       "      <td>10028.0</td>\n",
       "      <td>2008</td>\n",
       "      <td>Federal republic rul</td>\n",
       "    </tr>\n",
       "    <tr>\n",
       "      <th>18</th>\n",
       "      <td>kenya</td>\n",
       "      <td>7733.0</td>\n",
       "      <td>2008</td>\n",
       "      <td>republic</td>\n",
       "    </tr>\n",
       "    <tr>\n",
       "      <th>19</th>\n",
       "      <td>honduras</td>\n",
       "      <td>7104.0</td>\n",
       "      <td>2011</td>\n",
       "      <td>democratic constitut</td>\n",
       "    </tr>\n",
       "    <tr>\n",
       "      <th>20</th>\n",
       "      <td>guatemala</td>\n",
       "      <td>5681.0</td>\n",
       "      <td>2011</td>\n",
       "      <td>constitutional democ</td>\n",
       "    </tr>\n",
       "    <tr>\n",
       "      <th>21</th>\n",
       "      <td>malawi</td>\n",
       "      <td>5039.0</td>\n",
       "      <td>2008</td>\n",
       "      <td>multiparty democracy</td>\n",
       "    </tr>\n",
       "    <tr>\n",
       "      <th>22</th>\n",
       "      <td>philippines</td>\n",
       "      <td>4947.0</td>\n",
       "      <td>2009</td>\n",
       "      <td>republic</td>\n",
       "    </tr>\n",
       "    <tr>\n",
       "      <th>23</th>\n",
       "      <td>burma</td>\n",
       "      <td>4800.0</td>\n",
       "      <td>2008</td>\n",
       "      <td>parliamentary govern</td>\n",
       "    </tr>\n",
       "    <tr>\n",
       "      <th>24</th>\n",
       "      <td>zambia</td>\n",
       "      <td>4710.0</td>\n",
       "      <td>2008</td>\n",
       "      <td>republic</td>\n",
       "    </tr>\n",
       "    <tr>\n",
       "      <th>25</th>\n",
       "      <td>el salvador</td>\n",
       "      <td>4308.0</td>\n",
       "      <td>2011</td>\n",
       "      <td>republic</td>\n",
       "    </tr>\n",
       "    <tr>\n",
       "      <th>26</th>\n",
       "      <td>bangladesh</td>\n",
       "      <td>3988.0</td>\n",
       "      <td>2010</td>\n",
       "      <td>parliamentary democr</td>\n",
       "    </tr>\n",
       "    <tr>\n",
       "      <th>27</th>\n",
       "      <td>cameroon</td>\n",
       "      <td>3700.0</td>\n",
       "      <td>2008</td>\n",
       "      <td>republic; multiparty</td>\n",
       "    </tr>\n",
       "    <tr>\n",
       "      <th>28</th>\n",
       "      <td>north korea</td>\n",
       "      <td>3658.0</td>\n",
       "      <td>2008</td>\n",
       "      <td>Communist state one-</td>\n",
       "    </tr>\n",
       "    <tr>\n",
       "      <th>29</th>\n",
       "      <td>ghana</td>\n",
       "      <td>3646.0</td>\n",
       "      <td>2008</td>\n",
       "      <td>constitutional democ</td>\n",
       "    </tr>\n",
       "    <tr>\n",
       "      <th>...</th>\n",
       "      <td>...</td>\n",
       "      <td>...</td>\n",
       "      <td>...</td>\n",
       "      <td>...</td>\n",
       "    </tr>\n",
       "    <tr>\n",
       "      <th>209</th>\n",
       "      <td>congo, republic of the</td>\n",
       "      <td>NaN</td>\n",
       "      <td>NaN</td>\n",
       "      <td>republic</td>\n",
       "    </tr>\n",
       "    <tr>\n",
       "      <th>210</th>\n",
       "      <td>cook islands</td>\n",
       "      <td>NaN</td>\n",
       "      <td>NaN</td>\n",
       "      <td>self-governing parli</td>\n",
       "    </tr>\n",
       "    <tr>\n",
       "      <th>211</th>\n",
       "      <td>falkland islands (islas malvinas)</td>\n",
       "      <td>NaN</td>\n",
       "      <td>NaN</td>\n",
       "      <td>NA</td>\n",
       "    </tr>\n",
       "    <tr>\n",
       "      <th>212</th>\n",
       "      <td>faroe islands</td>\n",
       "      <td>NaN</td>\n",
       "      <td>NaN</td>\n",
       "      <td>NA</td>\n",
       "    </tr>\n",
       "    <tr>\n",
       "      <th>213</th>\n",
       "      <td>federated states of micronesia</td>\n",
       "      <td>NaN</td>\n",
       "      <td>NaN</td>\n",
       "      <td>constitutional gover</td>\n",
       "    </tr>\n",
       "    <tr>\n",
       "      <th>214</th>\n",
       "      <td>gibraltar</td>\n",
       "      <td>NaN</td>\n",
       "      <td>NaN</td>\n",
       "      <td>NA</td>\n",
       "    </tr>\n",
       "    <tr>\n",
       "      <th>215</th>\n",
       "      <td>guernsey</td>\n",
       "      <td>NaN</td>\n",
       "      <td>NaN</td>\n",
       "      <td>parliamentary democr</td>\n",
       "    </tr>\n",
       "    <tr>\n",
       "      <th>216</th>\n",
       "      <td>holy see (vatican city)</td>\n",
       "      <td>NaN</td>\n",
       "      <td>NaN</td>\n",
       "      <td>ecclesiastical</td>\n",
       "    </tr>\n",
       "    <tr>\n",
       "      <th>217</th>\n",
       "      <td>isle of man</td>\n",
       "      <td>NaN</td>\n",
       "      <td>NaN</td>\n",
       "      <td>parliamentary democr</td>\n",
       "    </tr>\n",
       "    <tr>\n",
       "      <th>218</th>\n",
       "      <td>jersey</td>\n",
       "      <td>NaN</td>\n",
       "      <td>NaN</td>\n",
       "      <td>parliamentary democr</td>\n",
       "    </tr>\n",
       "    <tr>\n",
       "      <th>219</th>\n",
       "      <td>kosovo</td>\n",
       "      <td>NaN</td>\n",
       "      <td>NaN</td>\n",
       "      <td>republic</td>\n",
       "    </tr>\n",
       "    <tr>\n",
       "      <th>220</th>\n",
       "      <td>marshall islands</td>\n",
       "      <td>NaN</td>\n",
       "      <td>NaN</td>\n",
       "      <td>constitutional gover</td>\n",
       "    </tr>\n",
       "    <tr>\n",
       "      <th>221</th>\n",
       "      <td>mayotte</td>\n",
       "      <td>NaN</td>\n",
       "      <td>NaN</td>\n",
       "      <td>NA</td>\n",
       "    </tr>\n",
       "    <tr>\n",
       "      <th>222</th>\n",
       "      <td>netherlands antilles</td>\n",
       "      <td>NaN</td>\n",
       "      <td>NaN</td>\n",
       "      <td>parliamentary</td>\n",
       "    </tr>\n",
       "    <tr>\n",
       "      <th>223</th>\n",
       "      <td>new caledonia</td>\n",
       "      <td>NaN</td>\n",
       "      <td>NaN</td>\n",
       "      <td>parliamentary repres</td>\n",
       "    </tr>\n",
       "    <tr>\n",
       "      <th>224</th>\n",
       "      <td>niue</td>\n",
       "      <td>NaN</td>\n",
       "      <td>NaN</td>\n",
       "      <td>self-governing parli</td>\n",
       "    </tr>\n",
       "    <tr>\n",
       "      <th>225</th>\n",
       "      <td>norfolk island</td>\n",
       "      <td>NaN</td>\n",
       "      <td>NaN</td>\n",
       "      <td>NA</td>\n",
       "    </tr>\n",
       "    <tr>\n",
       "      <th>226</th>\n",
       "      <td>northern mariana islands</td>\n",
       "      <td>NaN</td>\n",
       "      <td>NaN</td>\n",
       "      <td>commonwealth; self-g</td>\n",
       "    </tr>\n",
       "    <tr>\n",
       "      <th>227</th>\n",
       "      <td>pitcairn islands</td>\n",
       "      <td>NaN</td>\n",
       "      <td>NaN</td>\n",
       "      <td>NA</td>\n",
       "    </tr>\n",
       "    <tr>\n",
       "      <th>228</th>\n",
       "      <td>saint pierre and miquelon</td>\n",
       "      <td>NaN</td>\n",
       "      <td>NaN</td>\n",
       "      <td>parliamentary repres</td>\n",
       "    </tr>\n",
       "    <tr>\n",
       "      <th>229</th>\n",
       "      <td>san marino</td>\n",
       "      <td>NaN</td>\n",
       "      <td>NaN</td>\n",
       "      <td>republic</td>\n",
       "    </tr>\n",
       "    <tr>\n",
       "      <th>230</th>\n",
       "      <td>serbia and montenegro</td>\n",
       "      <td>NaN</td>\n",
       "      <td>NaN</td>\n",
       "      <td>republic</td>\n",
       "    </tr>\n",
       "    <tr>\n",
       "      <th>231</th>\n",
       "      <td>south sudan</td>\n",
       "      <td>NaN</td>\n",
       "      <td>NaN</td>\n",
       "      <td>republic</td>\n",
       "    </tr>\n",
       "    <tr>\n",
       "      <th>232</th>\n",
       "      <td>svalbard</td>\n",
       "      <td>NaN</td>\n",
       "      <td>NaN</td>\n",
       "      <td>NA</td>\n",
       "    </tr>\n",
       "    <tr>\n",
       "      <th>233</th>\n",
       "      <td>taiwan</td>\n",
       "      <td>NaN</td>\n",
       "      <td>NaN</td>\n",
       "      <td>multiparty democracy</td>\n",
       "    </tr>\n",
       "    <tr>\n",
       "      <th>234</th>\n",
       "      <td>the gambia</td>\n",
       "      <td>NaN</td>\n",
       "      <td>NaN</td>\n",
       "      <td>republic</td>\n",
       "    </tr>\n",
       "    <tr>\n",
       "      <th>235</th>\n",
       "      <td>tokelau</td>\n",
       "      <td>NaN</td>\n",
       "      <td>NaN</td>\n",
       "      <td>NA</td>\n",
       "    </tr>\n",
       "    <tr>\n",
       "      <th>236</th>\n",
       "      <td>tuvalu</td>\n",
       "      <td>NaN</td>\n",
       "      <td>NaN</td>\n",
       "      <td>parliamentary democr</td>\n",
       "    </tr>\n",
       "    <tr>\n",
       "      <th>237</th>\n",
       "      <td>wallis and futuna</td>\n",
       "      <td>NaN</td>\n",
       "      <td>NaN</td>\n",
       "      <td>parliamentary repres</td>\n",
       "    </tr>\n",
       "    <tr>\n",
       "      <th>238</th>\n",
       "      <td>western sahara</td>\n",
       "      <td>NaN</td>\n",
       "      <td>NaN</td>\n",
       "      <td>legal status of terr</td>\n",
       "    </tr>\n",
       "  </tbody>\n",
       "</table>\n",
       "<p>239 rows × 4 columns</p>\n",
       "</div>"
      ],
      "text/plain": [
       "                               country  murder_rate murder_rate_updated  \\\n",
       "0                               brazil      40974.0                2010   \n",
       "1                                india      40752.0                2009   \n",
       "2                               mexico      25757.0                2010   \n",
       "3                             ethiopia      20239.0                2008   \n",
       "4                            indonesia      18963.0                2008   \n",
       "5                              nigeria      18422.0                2008   \n",
       "6                         south africa      15940.0                2010   \n",
       "7                             colombia      15459.0                2010   \n",
       "8                               russia      14574.0                2010   \n",
       "9                             pakistan      13860.0                2011   \n",
       "10    democratic republic of the congo      13558.0                2008   \n",
       "11                               china      13410.0                2010   \n",
       "12                           venezuela      13080.0                2010   \n",
       "13                       united states      12996.0                2010   \n",
       "14                              uganda      11373.0                2008   \n",
       "15                       cote d'ivoire      10801.0                2008   \n",
       "16                            tanzania      10357.0                2008   \n",
       "17                               sudan      10028.0                2008   \n",
       "18                               kenya       7733.0                2008   \n",
       "19                            honduras       7104.0                2011   \n",
       "20                           guatemala       5681.0                2011   \n",
       "21                              malawi       5039.0                2008   \n",
       "22                         philippines       4947.0                2009   \n",
       "23                               burma       4800.0                2008   \n",
       "24                              zambia       4710.0                2008   \n",
       "25                         el salvador       4308.0                2011   \n",
       "26                          bangladesh       3988.0                2010   \n",
       "27                            cameroon       3700.0                2008   \n",
       "28                         north korea       3658.0                2008   \n",
       "29                               ghana       3646.0                2008   \n",
       "..                                 ...          ...                 ...   \n",
       "209             congo, republic of the          NaN                 NaN   \n",
       "210                       cook islands          NaN                 NaN   \n",
       "211  falkland islands (islas malvinas)          NaN                 NaN   \n",
       "212                      faroe islands          NaN                 NaN   \n",
       "213     federated states of micronesia          NaN                 NaN   \n",
       "214                          gibraltar          NaN                 NaN   \n",
       "215                           guernsey          NaN                 NaN   \n",
       "216            holy see (vatican city)          NaN                 NaN   \n",
       "217                        isle of man          NaN                 NaN   \n",
       "218                             jersey          NaN                 NaN   \n",
       "219                             kosovo          NaN                 NaN   \n",
       "220                   marshall islands          NaN                 NaN   \n",
       "221                            mayotte          NaN                 NaN   \n",
       "222               netherlands antilles          NaN                 NaN   \n",
       "223                      new caledonia          NaN                 NaN   \n",
       "224                               niue          NaN                 NaN   \n",
       "225                     norfolk island          NaN                 NaN   \n",
       "226           northern mariana islands          NaN                 NaN   \n",
       "227                   pitcairn islands          NaN                 NaN   \n",
       "228          saint pierre and miquelon          NaN                 NaN   \n",
       "229                         san marino          NaN                 NaN   \n",
       "230              serbia and montenegro          NaN                 NaN   \n",
       "231                        south sudan          NaN                 NaN   \n",
       "232                           svalbard          NaN                 NaN   \n",
       "233                             taiwan          NaN                 NaN   \n",
       "234                         the gambia          NaN                 NaN   \n",
       "235                            tokelau          NaN                 NaN   \n",
       "236                             tuvalu          NaN                 NaN   \n",
       "237                  wallis and futuna          NaN                 NaN   \n",
       "238                     western sahara          NaN                 NaN   \n",
       "\n",
       "              description  \n",
       "0        federal republic  \n",
       "1        federal republic  \n",
       "2        federal republic  \n",
       "3        federal republic  \n",
       "4                republic  \n",
       "5        federal republic  \n",
       "6                republic  \n",
       "7    republic; executive   \n",
       "8              federation  \n",
       "9        federal republic  \n",
       "10               republic  \n",
       "11        Communist state  \n",
       "12       federal republic  \n",
       "13   Constitution-based f  \n",
       "14               republic  \n",
       "15   republic; multiparty  \n",
       "16               republic  \n",
       "17   Federal republic rul  \n",
       "18               republic  \n",
       "19   democratic constitut  \n",
       "20   constitutional democ  \n",
       "21   multiparty democracy  \n",
       "22               republic  \n",
       "23   parliamentary govern  \n",
       "24               republic  \n",
       "25               republic  \n",
       "26   parliamentary democr  \n",
       "27   republic; multiparty  \n",
       "28   Communist state one-  \n",
       "29   constitutional democ  \n",
       "..                    ...  \n",
       "209              republic  \n",
       "210  self-governing parli  \n",
       "211                    NA  \n",
       "212                    NA  \n",
       "213  constitutional gover  \n",
       "214                    NA  \n",
       "215  parliamentary democr  \n",
       "216        ecclesiastical  \n",
       "217  parliamentary democr  \n",
       "218  parliamentary democr  \n",
       "219              republic  \n",
       "220  constitutional gover  \n",
       "221                    NA  \n",
       "222         parliamentary  \n",
       "223  parliamentary repres  \n",
       "224  self-governing parli  \n",
       "225                    NA  \n",
       "226  commonwealth; self-g  \n",
       "227                    NA  \n",
       "228  parliamentary repres  \n",
       "229              republic  \n",
       "230              republic  \n",
       "231              republic  \n",
       "232                    NA  \n",
       "233  multiparty democracy  \n",
       "234              republic  \n",
       "235                    NA  \n",
       "236  parliamentary democr  \n",
       "237  parliamentary repres  \n",
       "238  legal status of terr  \n",
       "\n",
       "[239 rows x 4 columns]"
      ]
     },
     "execution_count": 17,
     "metadata": {},
     "output_type": "execute_result"
    }
   ],
   "source": [
    "# Note that doing an outer product creates a bunch of `NaN`s\n",
    "pd.merge(murder_rate, gov_type, on='country', how='outer')"
   ]
  },
  {
   "cell_type": "markdown",
   "metadata": {
    "slideshow": {
     "slide_type": "slide"
    }
   },
   "source": [
    "# Saving our data for later\n",
    "Now that we've got some new data, we'll save this into our cleaned data folder for later use."
   ]
  },
  {
   "cell_type": "code",
   "execution_count": 18,
   "metadata": {
    "collapsed": true
   },
   "outputs": [],
   "source": [
    "merged.to_csv(\n",
    "    '../projects/gapminder/data/02_cleaned/country_data_clean.csv',\n",
    "    index=False)"
   ]
  }
 ],
 "metadata": {
  "celltoolbar": "Slideshow",
  "kernelspec": {
   "display_name": "Python 3",
   "language": "python",
   "name": "python3"
  },
  "language_info": {
   "codemirror_mode": {
    "name": "ipython",
    "version": 3
   },
   "file_extension": ".py",
   "mimetype": "text/x-python",
   "name": "python",
   "nbconvert_exporter": "python",
   "pygments_lexer": "ipython3",
   "version": "3.6.0"
  },
  "livereveal": {
   "progress": true,
   "scroll": true,
   "start_slideshow_at": "selected"
  },
  "toc": {
   "toc_cell": false,
   "toc_number_sections": false,
   "toc_threshold": "2",
   "toc_window_display": false
  }
 },
 "nbformat": 4,
 "nbformat_minor": 2
}
