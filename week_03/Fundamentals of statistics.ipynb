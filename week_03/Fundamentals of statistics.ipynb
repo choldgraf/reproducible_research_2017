{
 "cells": [
  {
   "cell_type": "markdown",
   "metadata": {
    "slideshow": {
     "slide_type": "slide"
    }
   },
   "source": [
    "# Statistics fundamentals\n",
    "This section will cover a few of the basics in statistical analysis. It'll try to take a practical / intuitive approach over a complete approach."
   ]
  },
  {
   "cell_type": "markdown",
   "metadata": {
    "slideshow": {
     "slide_type": "subslide"
    }
   },
   "source": [
    "## Packages we'll use\n",
    "* Matplotlib - for visualizing data / distributions, which makes things easier to conceptualize.\n",
    "* statsmodels - for doing statistical modeling of the more rigorous kind.\n",
    "* Pandas / Numpy - for data munging etc\n",
    "* scikit-learn - for a little taste of machine learning"
   ]
  },
  {
   "cell_type": "code",
   "execution_count": 1,
   "metadata": {
    "collapsed": true
   },
   "outputs": [],
   "source": [
    "import numpy as np\n",
    "import pandas as pd\n",
    "import matplotlib.pyplot as plt\n",
    "from scipy import stats as stt\n",
    "import statsmodels.api as sm\n",
    "from ipywidgets import interact, IntSlider\n",
    "from tqdm import tqdm\n",
    "import seaborn as sns\n",
    "sns.set_style('white')\n",
    "%matplotlib inline"
   ]
  },
  {
   "cell_type": "markdown",
   "metadata": {
    "slideshow": {
     "slide_type": "slide"
    }
   },
   "source": [
    "# Samples vs. populations\n",
    "It may sound pedantic, but it's really important to remember that the foundation of statistics rests on differentiating a **sample** from a **population**.\n",
    "\n",
    "In science we almost **always** collect samples, via experiments or fieldwork. As such, the big question we must answer is:"
   ]
  },
  {
   "cell_type": "markdown",
   "metadata": {
    "slideshow": {
     "slide_type": "fragment"
    }
   },
   "source": [
    "**Are the properties of our sample reflective of the overall population, or simply due to noise?**"
   ]
  },
  {
   "cell_type": "markdown",
   "metadata": {
    "slideshow": {
     "slide_type": "subslide"
    }
   },
   "source": [
    "For example, let's consider the random distribution below. It will be a \"population\". Maybe it represents something like average difference in rainfall between Berkeley and San Francisco."
   ]
  },
  {
   "cell_type": "code",
   "execution_count": 2,
   "metadata": {},
   "outputs": [
    {
     "data": {
      "image/png": "[encoded data removed]",
      "text/plain": [
       "<matplotlib.figure.Figure at 0x1166d7630>"
      ]
     },
     "metadata": {},
     "output_type": "display_data"
    }
   ],
   "source": [
    "# Generate a random population of values\n",
    "mean_population = 1\n",
    "population = np.random.randn(1000) + mean_population\n",
    "\n",
    "fig, ax = plt.subplots()\n",
    "bins = np.arange(-5, 5, .1)\n",
    "ax.hist(population, bins=bins);  # The semicolon just prevents the output from this line from displaying"
   ]
  },
  {
   "cell_type": "markdown",
   "metadata": {
    "slideshow": {
     "slide_type": "subslide"
    }
   },
   "source": [
    "Via some experiment, we collect a random sample from this population:"
   ]
  },
  {
   "cell_type": "code",
   "execution_count": 3,
   "metadata": {},
   "outputs": [
    {
     "data": {
      "image/png": "[encoded data removed]",
      "text/plain": [
       "<matplotlib.figure.Figure at 0x1166d74e0>"
      ]
     },
     "metadata": {},
     "output_type": "display_data"
    }
   ],
   "source": [
    "# Simulate taking a random sample from this population\n",
    "sample_size = 100\n",
    "sample = np.random.choice(population, size=sample_size)\n",
    "\n",
    "fig, ax = plt.subplots()\n",
    "ax.hist(population, bins)\n",
    "ax.hist(sample, bins);"
   ]
  },
  {
   "cell_type": "markdown",
   "metadata": {
    "slideshow": {
     "slide_type": "subslide"
    }
   },
   "source": [
    "Remember that in reality, we don't actually have the population itself, so we really only see this:"
   ]
  },
  {
   "cell_type": "code",
   "execution_count": 4,
   "metadata": {},
   "outputs": [
    {
     "data": {
      "image/png": "[encoded data removed]",
      "text/plain": [
       "<matplotlib.figure.Figure at 0x10c1fd160>"
      ]
     },
     "metadata": {},
     "output_type": "display_data"
    }
   ],
   "source": [
    "fig, ax = plt.subplots()\n",
    "ax.hist(sample, bins=bins);"
   ]
  },
  {
   "cell_type": "markdown",
   "metadata": {
    "slideshow": {
     "slide_type": "fragment"
    }
   },
   "source": [
    "In this case, we have two measures of interest:\n",
    "\n",
    "1. What is the statistic that we care about (e.g., the mean)?\n",
    "1. What is the variability of that statistic?\n",
    "\n",
    "And then:\n",
    "\n",
    "1. Given these two things, can we conclude that the statistic we've calculated deviates from some null value?"
   ]
  },
  {
   "cell_type": "markdown",
   "metadata": {
    "slideshow": {
     "slide_type": "fragment"
    }
   },
   "source": [
    "**All of statistics is basically a process of answering these questions.**"
   ]
  },
  {
   "cell_type": "markdown",
   "metadata": {
    "slideshow": {
     "slide_type": "slide"
    }
   },
   "source": [
    "# Hypothesis testing - Parametric tests\n",
    "\n",
    "So we are faced with the problem that we don't know the population, we have a sample, and we want to generalize our sample to the full population.\n",
    "\n",
    "The easiest way to do this is to make assumptions about our sample. One way to do this is to describe it with some mathematical distribution that is defined by **parameters**."
   ]
  },
  {
   "cell_type": "markdown",
   "metadata": {
    "slideshow": {
     "slide_type": "subslide"
    }
   },
   "source": [
    "## The t-distribution\n",
    "The most common version of this is the t-distribution, which is kind of like a normal distribution, except its tails grow larger when you have a smaller sample size. It has 3 parameters:\n",
    "\n",
    "1. The mean\n",
    "2. The standard deviation\n",
    "3. The degrees of freedom (aka roughly the # datapoints)"
   ]
  },
  {
   "cell_type": "code",
   "execution_count": 5,
   "metadata": {},
   "outputs": [
    {
     "data": {
      "application/vnd.jupyter.widget-view+json": {
       "model_id": "ca768440a3894c75814c780db783577c",
       "version_major": "2",
       "version_minor": "0"
      },
      "text/plain": [
       "A Jupyter Widget"
      ]
     },
     "metadata": {},
     "output_type": "display_data"
    }
   ],
   "source": [
    "# Let's see how this changes with different degrees of freedom\n",
    "def plot_t(df=1):\n",
    "    fig, ax = plt.subplots()\n",
    "    # Plot the t-dist\n",
    "    ax.plot(bins, stt.t.pdf(bins, df, loc=mean_population, scale=1), label='t')\n",
    "    \n",
    "    # Plot a normal distribution\n",
    "    ax.plot(bins, stt.norm.pdf(bins, loc=mean_population, scale=1), label='normal')\n",
    "    \n",
    "    # Show the fig\n",
    "    ax.set(ylim=[0, .5])\n",
    "    plt.legend()\n",
    "    plt.show()\n",
    "interact(plot_t, df=IntSlider(1, 1, 20, 1));"
   ]
  },
  {
   "cell_type": "markdown",
   "metadata": {
    "slideshow": {
     "slide_type": "subslide"
    }
   },
   "source": [
    "We can use the t-distribution to model the dataset that we've got."
   ]
  },
  {
   "cell_type": "code",
   "execution_count": 6,
   "metadata": {
    "collapsed": true
   },
   "outputs": [],
   "source": [
    "# Calculate the statistics we can use to define a t-distribution\n",
    "data_mean = sample.mean()\n",
    "data_std = sample.std()\n",
    "data_df = sample.shape[0] - 1"
   ]
  },
  {
   "cell_type": "code",
   "execution_count": 7,
   "metadata": {},
   "outputs": [
    {
     "data": {
      "text/plain": [
       "[<matplotlib.lines.Line2D at 0x1169d1eb8>]"
      ]
     },
     "execution_count": 7,
     "metadata": {},
     "output_type": "execute_result"
    },
    {
     "data": {
      "image/png": "[encoded data removed]",
      "text/plain": [
       "<matplotlib.figure.Figure at 0x116b79a58>"
      ]
     },
     "metadata": {},
     "output_type": "display_data"
    }
   ],
   "source": [
    "# Fit a t-distribution to our data\n",
    "t_dist = stt.t.pdf(bins, data_df, data_mean, data_std)\n",
    "\n",
    "# Visualize it on our sample\n",
    "fig, ax = plt.subplots()\n",
    "ax.hist(sample, normed=True)\n",
    "ax.plot(bins, t_dist)"
   ]
  },
  {
   "cell_type": "markdown",
   "metadata": {
    "slideshow": {
     "slide_type": "subslide"
    }
   },
   "source": [
    "## t-tests\n",
    "\n",
    "A t-test is a bit different from the t-distribution we showed above. Instead of fitting a distribution to our sample, we try to *use* the sample in order to infer a **null distribution**.\n",
    "\n",
    "The point of this test is to ask \"is the data we collected different from this null distribution?\""
   ]
  },
  {
   "cell_type": "markdown",
   "metadata": {
    "slideshow": {
     "slide_type": "subslide"
    }
   },
   "source": [
    "Remember our point from before: **always think in terms of the statistical comparison you want to make.** In this case, we care about a difference in means between these two groups.\n",
    "\n",
    "This means that we'll actually estimate the **standard error** rather than the standard deviation, reflecting the fact that we care about the \"mean\" of the data, rather than the data itself.\n",
    "\n",
    "The difference is that rather than modeling the data, we'll assume a **null** distribution using the data as a guide."
   ]
  },
  {
   "cell_type": "code",
   "execution_count": 8,
   "metadata": {},
   "outputs": [
    {
     "data": {
      "text/plain": [
       "<matplotlib.lines.Line2D at 0x116a6bc18>"
      ]
     },
     "execution_count": 8,
     "metadata": {},
     "output_type": "execute_result"
    },
    {
     "data": {
      "image/png": "[encoded data removed]",
      "text/plain": [
       "<matplotlib.figure.Figure at 0x116b70198>"
      ]
     },
     "metadata": {},
     "output_type": "display_data"
    }
   ],
   "source": [
    "# Calculate the standard error\n",
    "data_ste = data_std / np.sqrt(len(sample))\n",
    "\n",
    "# Fit a t-distribution to our data\n",
    "t_dist = stt.t(data_df, 0, data_ste)\n",
    "t_pdf = t_dist.pdf(bins)\n",
    "\n",
    "# Visualize it on our sample\n",
    "fig, ax = plt.subplots()\n",
    "ax.hist(sample, normed=True)\n",
    "ax.plot(bins, t_pdf)\n",
    "ax.axvline(sample.mean(), c='r', ls='--')"
   ]
  },
  {
   "cell_type": "markdown",
   "metadata": {
    "slideshow": {
     "slide_type": "fragment"
    }
   },
   "source": [
    "The question we'd then ask is: \"is the blue distribution significantly different from the green distribution?\"\n",
    "\n",
    "To do this, we'd calculate the percentile of the mean of the blue distribution with respect to the orange distribution:"
   ]
  },
  {
   "cell_type": "code",
   "execution_count": 9,
   "metadata": {},
   "outputs": [
    {
     "name": "stdout",
     "output_type": "stream",
     "text": [
      "0.0\n"
     ]
    }
   ],
   "source": [
    "percentile_sample = t_dist.cdf(np.mean(sample))\n",
    "p_value = 1 - percentile_sample\n",
    "print(p_value)"
   ]
  },
  {
   "cell_type": "markdown",
   "metadata": {
    "slideshow": {
     "slide_type": "fragment"
    }
   },
   "source": [
    "We can also easily perform this test using a scipy function:"
   ]
  },
  {
   "cell_type": "code",
   "execution_count": 10,
   "metadata": {},
   "outputs": [
    {
     "data": {
      "text/plain": [
       "Ttest_1sampResult(statistic=10.452283311194734, pvalue=1.1304556921240095e-17)"
      ]
     },
     "execution_count": 10,
     "metadata": {},
     "output_type": "execute_result"
    }
   ],
   "source": [
    "stt.ttest_1samp(sample, 0)"
   ]
  },
  {
   "cell_type": "markdown",
   "metadata": {
    "slideshow": {
     "slide_type": "subslide"
    }
   },
   "source": [
    "## Why do we care about p < .05?\n",
    "\n",
    "Essentially, because we need a \"decision point\" to decide whether or not to believe a statistic. This is inherently arbitrary, but it's a reasonable enough number to use for the last hundred or so years.\n",
    "\n",
    "Essentially, the `p < .05` rule says that:\n",
    "\n",
    "    I will only accept these results as \"significant\" if their probability under the null hypothesis was < 5%\n"
   ]
  },
  {
   "cell_type": "markdown",
   "metadata": {
    "slideshow": {
     "slide_type": "subslide"
    }
   },
   "source": [
    "**The problem with this**: It means that rougly 5% of the time, you'll be totally wrong.\n",
    "\n",
    "For example, below we'll repeat the process of taking a random sample from the population.\n",
    "\n",
    "On each iteration, we'll calculate a ttest for the difference from the population mean."
   ]
  },
  {
   "cell_type": "code",
   "execution_count": 11,
   "metadata": {},
   "outputs": [
    {
     "name": "stderr",
     "output_type": "stream",
     "text": [
      "100%|██████████| 10000/10000 [00:04<00:00, 2070.30it/s]\n"
     ]
    }
   ],
   "source": [
    "# Define our iteration parameters\n",
    "n_iterations = 10000\n",
    "sample_size = 100\n",
    "\n",
    "# Now simulate a bunch of random samples from the population\n",
    "pvalues = []\n",
    "for ii in tqdm(range(n_iterations)):\n",
    "    sample = np.random.choice(population, size=sample_size)\n",
    "    pvalues.append(stt.ttest_1samp(sample, mean_population).pvalue)\n",
    "pvalues = np.array(pvalues)"
   ]
  },
  {
   "cell_type": "code",
   "execution_count": 12,
   "metadata": {},
   "outputs": [
    {
     "data": {
      "image/png": "[encoded data removed]",
      "text/plain": [
       "<matplotlib.figure.Figure at 0x1169c76a0>"
      ]
     },
     "metadata": {},
     "output_type": "display_data"
    }
   ],
   "source": [
    "# Plot the number of samples that are < .05\n",
    "fig, ax = plt.subplots()\n",
    "_, _, patches = ax.hist(pvalues, bins=np.arange(0, 1, .01))\n",
    "for p in patches:\n",
    "    if p.xy[0] < .05:\n",
    "        p.set_color('r')"
   ]
  },
  {
   "cell_type": "markdown",
   "metadata": {
    "slideshow": {
     "slide_type": "subslide"
    }
   },
   "source": [
    "## A side-note on multiple comparisons\n",
    "\n",
    "As we showed above - if you're using p < .05 as a marker of \"significance\", it means you'll get a False Positive roughly 5% of the time. This is an even bigger problem when you're running lots of tests for significance.\n",
    "\n",
    "In this case, we've done a bunch of statistical tests, and we've found a few that are significant!\n",
    "\n",
    "BUT - we've made a *ton* of comparisons. We need to correct for this. There are many ways to do this, but here are two quick ones:"
   ]
  },
  {
   "cell_type": "code",
   "execution_count": 13,
   "metadata": {},
   "outputs": [
    {
     "name": "stdout",
     "output_type": "stream",
     "text": [
      "648\n"
     ]
    }
   ],
   "source": [
    "# We had this many originally-accepted p-values\n",
    "print(sum(pvalues < .05))"
   ]
  },
  {
   "cell_type": "markdown",
   "metadata": {
    "slideshow": {
     "slide_type": "fragment"
    }
   },
   "source": [
    "Bonferroni correction simply divides the cutoff p-value amount by the number of comparisons\n"
   ]
  },
  {
   "cell_type": "code",
   "execution_count": 14,
   "metadata": {},
   "outputs": [
    {
     "data": {
      "text/plain": [
       "0"
      ]
     },
     "execution_count": 14,
     "metadata": {},
     "output_type": "execute_result"
    }
   ],
   "source": [
    "accepted, pvals_corrected, _, _ = sm.stats.multipletests(\n",
    "    pvalues, method='bonferroni')\n",
    "sum(accepted)"
   ]
  },
  {
   "cell_type": "markdown",
   "metadata": {
    "slideshow": {
     "slide_type": "fragment"
    }
   },
   "source": [
    "The False Discovery Rate is smarter about how it chooses a cutoff. \n",
    "It attempts to minimize the ratio of \"false positives\" to \"true positives\".\n",
    "\n",
    "It is **more powerful** in the sense that you're more likely to find a positive result with this."
   ]
  },
  {
   "cell_type": "code",
   "execution_count": 15,
   "metadata": {},
   "outputs": [
    {
     "data": {
      "text/plain": [
       "0"
      ]
     },
     "execution_count": 15,
     "metadata": {},
     "output_type": "execute_result"
    }
   ],
   "source": [
    "# The False Discovery Rate is smarter about how it chooses a cutoff. \n",
    "# It attempts to minimize the ratio of \"false positives\" to \"true positives\"\n",
    "# It is\n",
    "accepted, pvals_corrected, _, _ = sm.stats.multipletests(\n",
    "    pvalues, method='fdr_bh')\n",
    "sum(accepted)"
   ]
  },
  {
   "cell_type": "markdown",
   "metadata": {
    "slideshow": {
     "slide_type": "slide"
    }
   },
   "source": [
    "# Generalizing to two groups - now with our data\n",
    "\n",
    "We'll load in our data so that we can start to make some actual comparisons between variables.\n",
    "\n",
    "Let's ask whether the life expectancy was different between USA and Canada:"
   ]
  },
  {
   "cell_type": "code",
   "execution_count": 16,
   "metadata": {
    "collapsed": true
   },
   "outputs": [],
   "source": [
    "# Load the data\n",
    "country_data = pd.read_csv('../projects/gapminder/data/02_cleaned/country_data_clean.csv')\n",
    "gapminder_data = pd.read_csv('../projects/gapminder/data/02_cleaned/gapminder_clean.csv')\n",
    "data = pd.merge(country_data, gapminder_data, on='country')"
   ]
  },
  {
   "cell_type": "code",
   "execution_count": 17,
   "metadata": {
    "collapsed": true
   },
   "outputs": [],
   "source": [
    "# Pull only two continents, and one year's worth of data\n",
    "continent_1 = 'asia'\n",
    "continent_2 = 'americas'\n",
    "\n",
    "data_continent = data.query('continent in [@continent_1, @continent_2] and year == 1952')\n",
    "data_continent = data_continent.set_index('continent')['life_exp']"
   ]
  },
  {
   "cell_type": "markdown",
   "metadata": {
    "slideshow": {
     "slide_type": "subslide"
    }
   },
   "source": [
    "We can easily calculate a t-test for the *difference* between two groups:"
   ]
  },
  {
   "cell_type": "code",
   "execution_count": 18,
   "metadata": {},
   "outputs": [
    {
     "data": {
      "text/plain": [
       "<matplotlib.axes._subplots.AxesSubplot at 0x11680ccc0>"
      ]
     },
     "execution_count": 18,
     "metadata": {},
     "output_type": "execute_result"
    },
    {
     "data": {
      "image/png": "[encoded data removed]",
      "text/plain": [
       "<matplotlib.figure.Figure at 0x11680c8d0>"
      ]
     },
     "metadata": {},
     "output_type": "display_data"
    }
   ],
   "source": [
    "data_continent[continent_2].hist()\n",
    "data_continent[continent_1].hist(alpha=.8)"
   ]
  },
  {
   "cell_type": "code",
   "execution_count": 19,
   "metadata": {},
   "outputs": [
    {
     "data": {
      "text/plain": [
       "Ttest_indResult(statistic=-2.7663938871382028, pvalue=0.007972057037790475)"
      ]
     },
     "execution_count": 19,
     "metadata": {},
     "output_type": "execute_result"
    }
   ],
   "source": [
    "# Calculate a t-test between these two groups\n",
    "result = stt.ttest_ind(data_continent[continent_1], data_continent[continent_2])\n",
    "result"
   ]
  },
  {
   "cell_type": "markdown",
   "metadata": {
    "slideshow": {
     "slide_type": "subslide"
    }
   },
   "source": [
    "Essentially, this is doing the same thing as the 1-sample t-test we covered above.\n",
    "\n",
    "It is calculating the mean of each group, then the difference between them, then assuming they each follow a t-distribution."
   ]
  },
  {
   "cell_type": "markdown",
   "metadata": {
    "slideshow": {
     "slide_type": "fragment"
    }
   },
   "source": [
    "However, if you look at the distributions above, you'll see that the really don't follow a clean \"normal\" distribution. This is an assumption of t-tests, so what can we do to improve this"
   ]
  },
  {
   "cell_type": "markdown",
   "metadata": {
    "slideshow": {
     "slide_type": "subslide"
    }
   },
   "source": [
    "## Permutation tests\n",
    "\n",
    "Permutation tests are basically a way of brute-force generating our null distribution. It's a way to explicitly define your definition of \"no difference\", and it's also more sensitive to the particular distribution of your actual data. Here's how it works:"
   ]
  },
  {
   "cell_type": "markdown",
   "metadata": {
    "collapsed": true,
    "slideshow": {
     "slide_type": "fragment"
    }
   },
   "source": [
    "* Define the conditions that would constitute a \"null\" effect (e.g., no difference between groups)\n",
    "* Figure out how to create these conditions (e.g., randomly permute group labels)\n",
    "* Calculate the statistic of interest for this null set (e.g., difference in group means)\n",
    "* Repeat this many, many times\n",
    "* See where our experimental statistic falls on this distribution"
   ]
  },
  {
   "cell_type": "markdown",
   "metadata": {
    "slideshow": {
     "slide_type": "subslide"
    }
   },
   "source": [
    "We'll perform a permutation test below:"
   ]
  },
  {
   "cell_type": "code",
   "execution_count": 20,
   "metadata": {
    "collapsed": true
   },
   "outputs": [],
   "source": [
    "# First calculate the \"true\" difference between our groups\n",
    "data_difference = data_continent[continent_1].mean() - data_continent[continent_2].mean()"
   ]
  },
  {
   "cell_type": "code",
   "execution_count": 21,
   "metadata": {},
   "outputs": [
    {
     "name": "stderr",
     "output_type": "stream",
     "text": [
      "100%|██████████| 5000/5000 [00:04<00:00, 1012.09it/s]\n"
     ]
    }
   ],
   "source": [
    "# Now run the permutation test\n",
    "n_permutations = 5000\n",
    "perm_means = np.zeros(n_permutations)\n",
    "for ii in tqdm(range(n_permutations)):\n",
    "    # Define random indices for our data\n",
    "    random_indices = np.random.permutation(range(len(data_continent)))\n",
    "    \n",
    "    # Copy, then shuffle the labels of our data\n",
    "    permutation_data = data_continent.copy()\n",
    "    permutation_data.index = permutation_data.index[random_indices]\n",
    "    \n",
    "    # Now calculate our stat of interest\n",
    "    stat = permutation_data[continent_1].mean() - permutation_data[continent_2].mean()\n",
    "    perm_means[ii] = stat"
   ]
  },
  {
   "cell_type": "markdown",
   "metadata": {
    "slideshow": {
     "slide_type": "subslide"
    }
   },
   "source": [
    "Below, we'll plot the distribution of the randomly acquired differences, where we have forced there to be *no difference* between the two groups. We'll also show the \"true\" or \"empirical\" difference between the groups."
   ]
  },
  {
   "cell_type": "code",
   "execution_count": 22,
   "metadata": {},
   "outputs": [
    {
     "data": {
      "text/plain": [
       "<matplotlib.lines.Line2D at 0x116ff89b0>"
      ]
     },
     "execution_count": 22,
     "metadata": {},
     "output_type": "execute_result"
    },
    {
     "data": {
      "image/png": "[encoded data removed]",
      "text/plain": [
       "<matplotlib.figure.Figure at 0x116d90588>"
      ]
     },
     "metadata": {},
     "output_type": "display_data"
    }
   ],
   "source": [
    "fig, ax = plt.subplots()\n",
    "ax.hist(perm_means)\n",
    "ax.axvline(data_difference, c='r', ls='--')"
   ]
  },
  {
   "cell_type": "markdown",
   "metadata": {
    "slideshow": {
     "slide_type": "fragment"
    }
   },
   "source": [
    "The permutation test works by basically asking the same question as a t-test:\n",
    "\n",
    "    How likely is the empirical mean, given our permutation null distribution?\n",
    "\n",
    "To answer this, we can build what is called an \"empirical\" distribution:"
   ]
  },
  {
   "cell_type": "code",
   "execution_count": 23,
   "metadata": {},
   "outputs": [
    {
     "data": {
      "text/plain": [
       "0.0036000000000000003"
      ]
     },
     "execution_count": 23,
     "metadata": {},
     "output_type": "execute_result"
    }
   ],
   "source": [
    "perm_distribution = sm.distributions.ECDF(perm_means)\n",
    "perm_distribution(data_difference)"
   ]
  },
  {
   "cell_type": "markdown",
   "metadata": {
    "slideshow": {
     "slide_type": "subslide"
    }
   },
   "source": [
    "# Confidence intervals\n",
    "\n",
    "While significance testing is still extremely common, it's becoming more popular to estimate the variability of your statistic directly, rather than using something like a p-value. One of doing this is to build a confidence interval.\n",
    "\n",
    "These are quite similar to permutation tests, except that instead of generating a p-value, they directly measure the variability in the statistic of interest.\n",
    "\n",
    "They have the benefits of:\n",
    "\n",
    "1. Being in the same units as your data (or whatever test statistic you care about)\n",
    "1. Giving an idea for the variability of the data itself\n",
    "1. Are less-subject to \"hacking\" for the sake of significance."
   ]
  },
  {
   "cell_type": "markdown",
   "metadata": {
    "slideshow": {
     "slide_type": "subslide"
    }
   },
   "source": [
    "## The bootstrap\n",
    "A common way to generate confidence intervals is to use the **bootstrap method**. This means the following steps:\n",
    "\n",
    "1. Take a random sample of each group in your data **with replacement** (take a sample as large as the number of datapoints in each group)\n",
    "1. Calculate the statistic of interest\n",
    "1. Repeat this many times to generate a distribution of these statistics\n",
    "1. Calculate the percentiles of this distribution for your confidence interval"
   ]
  },
  {
   "cell_type": "code",
   "execution_count": 24,
   "metadata": {
    "collapsed": true
   },
   "outputs": [],
   "source": [
    "# Pull two groups out of our data\n",
    "group_a = data_continent[continent_1]\n",
    "group_b = data_continent[continent_2]"
   ]
  },
  {
   "cell_type": "code",
   "execution_count": 25,
   "metadata": {},
   "outputs": [
    {
     "name": "stderr",
     "output_type": "stream",
     "text": [
      "100%|██████████| 5000/5000 [00:06<00:00, 738.50it/s]\n"
     ]
    }
   ],
   "source": [
    "# Permorn the bootstrap resampling\n",
    "n_bootstraps = 5000\n",
    "boot_diffs = np.zeros(n_bootstraps)\n",
    "for ii in tqdm(range(n_bootstraps)):\n",
    "    # Define random indices for our data\n",
    "    ixs_a = np.random.randint(0, len(group_a), len(group_a))\n",
    "    ixs_b = np.random.randint(0, len(group_b), len(group_b))\n",
    "    \n",
    "    # Take a random sample from each group\n",
    "    boot_a = group_a[ixs_a]\n",
    "    boot_b = group_b[ixs_b]\n",
    "    \n",
    "    # Now calculate the difference in means of each group\n",
    "    diff = boot_a.mean() - boot_b.mean()\n",
    "    boot_diffs[ii] = diff\n"
   ]
  },
  {
   "cell_type": "markdown",
   "metadata": {},
   "source": [
    "Now, we can visualize the distribution of bootstrapped differences. Note that this distribution is **not** the same thing as a permutation distribution, which simulated the **null** distribution.\n",
    "\n",
    "In this case, this distribution represents the variability in the statistic we care about (in this case, the mean difference between groups)"
   ]
  },
  {
   "cell_type": "code",
   "execution_count": 26,
   "metadata": {},
   "outputs": [
    {
     "data": {
      "text/plain": [
       "(array([   45.,   212.,   669.,  1198.,  1385.,   946.,   405.,   119.,\n",
       "           18.,     3.]),\n",
       " array([-14.91908154, -13.10276446, -11.28644738,  -9.47013031,\n",
       "         -7.65381323,  -5.83749615,  -4.02117908,  -2.204862  ,\n",
       "         -0.38854492,   1.42777215,   3.24408923]),\n",
       " <a list of 10 Patch objects>)"
      ]
     },
     "execution_count": 26,
     "metadata": {},
     "output_type": "execute_result"
    },
    {
     "data": {
      "image/png": "[encoded data removed]",
      "text/plain": [
       "<matplotlib.figure.Figure at 0x11700e6d8>"
      ]
     },
     "metadata": {},
     "output_type": "display_data"
    }
   ],
   "source": [
    "fig, ax = plt.subplots()\n",
    "ax.hist(boot_diffs)"
   ]
  },
  {
   "cell_type": "markdown",
   "metadata": {
    "slideshow": {
     "slide_type": "subslide"
    }
   },
   "source": [
    "From this distribution, we can calculate the 95% confidence interval. This corresponds to the 2.5th and 97.5th percentile of this data."
   ]
  },
  {
   "cell_type": "code",
   "execution_count": 27,
   "metadata": {},
   "outputs": [
    {
     "name": "stdout",
     "output_type": "stream",
     "text": [
      "-12.0780003462 -2.07030930769\n"
     ]
    }
   ],
   "source": [
    "# Calculate the confidence interval\n",
    "lo, hi = np.percentile(boot_diffs, [2.5, 97.5])\n",
    "print(lo, hi)"
   ]
  },
  {
   "cell_type": "code",
   "execution_count": 28,
   "metadata": {},
   "outputs": [
    {
     "data": {
      "text/plain": [
       "<matplotlib.collections.LineCollection at 0x117083fd0>"
      ]
     },
     "execution_count": 28,
     "metadata": {},
     "output_type": "execute_result"
    },
    {
     "data": {
      "image/png": "[encoded data removed]",
      "text/plain": [
       "<matplotlib.figure.Figure at 0x116f61cc0>"
      ]
     },
     "metadata": {},
     "output_type": "display_data"
    }
   ],
   "source": [
    "# Now plot the confidence interval with the distribution\n",
    "fig, ax = plt.subplots()\n",
    "ax.hist(boot_diffs, normed=True)\n",
    "ax.hlines(.2, lo, hi, linewidth=5)"
   ]
  },
  {
   "cell_type": "markdown",
   "metadata": {},
   "source": [
    "A good rule of thumb is that if a 95% confidence interval does *not* overlap with zero, then p would also be <.05"
   ]
  },
  {
   "cell_type": "markdown",
   "metadata": {
    "slideshow": {
     "slide_type": "subslide"
    }
   },
   "source": [
    "## What does a confidence interval mean anyway?\n",
    "Many people interpret the 95% as meaning \"there is a 95% chance that the statistic is within this range\". **This is wrong**.\n",
    "\n",
    "* Most wrongly: it gives the impression that the statistic is \"more likely\" to be in the center of the confidence interval. This isn't true.\n",
    "\n",
    "A confidence interval means that when the process above is performed (including the experiment and sample collection), there is a 95% chance that the interval will contain the \"true\" mean."
   ]
  },
  {
   "cell_type": "markdown",
   "metadata": {
    "slideshow": {
     "slide_type": "subslide"
    }
   },
   "source": [
    "For example, below we'll repeat the entire process for a random distribution. The question we'll ask is simply \"is the random sample significantly different from 0?\".\n",
    "\n",
    "We'll take a random sample, then calculate a bootstrapped confidence interval around the mean difference between groups. We'll repeat this many times and see how often we get a \"hit\""
   ]
  },
  {
   "cell_type": "code",
   "execution_count": 29,
   "metadata": {},
   "outputs": [
    {
     "name": "stderr",
     "output_type": "stream",
     "text": [
      "100%|██████████| 200/200 [00:02<00:00, 76.55it/s]\n"
     ]
    }
   ],
   "source": [
    "n_experiments = 200\n",
    "n_bootstraps = 500\n",
    "\n",
    "means = np.zeros([n_experiments, n_bootstraps])\n",
    "for i_exp in tqdm(range(n_experiments)):\n",
    "    # Simulate taking a random sample from the population\n",
    "    sample = np.random.choice(population, 100)\n",
    "    for i_boot in range(n_bootstraps):\n",
    "        # Define the bootstrap indices\n",
    "        ixs = np.random.randint(0, len(sample), len(sample))\n",
    "        \n",
    "        # Take the random sample\n",
    "        boot_sample = sample[ixs]\n",
    "        \n",
    "        # Calculate the difference\n",
    "        means[i_exp, i_boot] = np.mean(boot_sample)\n",
    "        \n",
    "# Calculate the 95% confidence interval for each iteration\n",
    "percentiles = np.percentile(means, [2.5, 97.5], axis=1)"
   ]
  },
  {
   "cell_type": "markdown",
   "metadata": {
    "collapsed": true,
    "slideshow": {
     "slide_type": "subslide"
    }
   },
   "source": [
    "Remember, the \"true\" population has a mean of 1:"
   ]
  },
  {
   "cell_type": "code",
   "execution_count": 30,
   "metadata": {},
   "outputs": [
    {
     "data": {
      "image/png": "[encoded data removed]",
      "text/plain": [
       "<matplotlib.figure.Figure at 0x117124438>"
      ]
     },
     "metadata": {},
     "output_type": "display_data"
    }
   ],
   "source": [
    "fig, ax = plt.subplots()\n",
    "ax.hist(population);"
   ]
  },
  {
   "cell_type": "markdown",
   "metadata": {
    "slideshow": {
     "slide_type": "subslide"
    }
   },
   "source": [
    "Below we'll plot the confidence interval of each iteration. Note how many of them **don't** overlap with the \"true\" population mean:"
   ]
  },
  {
   "cell_type": "code",
   "execution_count": 31,
   "metadata": {},
   "outputs": [
    {
     "data": {
      "text/plain": [
       "[Text(0.5,1,'10% of intervals do not overlap w/ mean')]"
      ]
     },
     "execution_count": 31,
     "metadata": {},
     "output_type": "execute_result"
    },
    {
     "data": {
      "image/png": "[encoded data removed]",
      "text/plain": [
       "<matplotlib.figure.Figure at 0x116ab3080>"
      ]
     },
     "metadata": {},
     "output_type": "display_data"
    }
   ],
   "source": [
    "fig, ax = plt.subplots(figsize=(15, 5))\n",
    "n_outside = 0\n",
    "for ii, (lo, hi) in enumerate(percentiles.T):\n",
    "    if (mean_population < lo) or (mean_population > hi):\n",
    "        n_outside += 1\n",
    "        color = 'r'\n",
    "    else:\n",
    "        color = 'b'\n",
    "    ax.vlines(ii, lo, hi, color=color)\n",
    "ax.axhline(mean_population, ls='--', c='k')\n",
    "ax.set(title='{}% of intervals do not overlap w/ mean'.format(int(n_outside / n_experiments * 100)))"
   ]
  },
  {
   "cell_type": "markdown",
   "metadata": {
    "slideshow": {
     "slide_type": "subslide"
    }
   },
   "source": [
    "## Repeated measures comparisons\n",
    "\n",
    "The third most common kind of statistical comparison is just a generalization of the two-sample test. A repeated measures test simply means that some of the datapoints have known dependencies between one another.\n",
    "\n",
    "For example, if we collect data from the same subject multiple times.\n",
    "\n",
    "**This means you can increase the power of the test**. Essentially, it allows you to use the within-subject variability as the variability you put into your test, which is almost always smaller."
   ]
  },
  {
   "cell_type": "code",
   "execution_count": 32,
   "metadata": {},
   "outputs": [
    {
     "data": {
      "image/png": "[encoded data removed]",
      "text/plain": [
       "<matplotlib.figure.Figure at 0x116b1ca20>"
      ]
     },
     "metadata": {},
     "output_type": "display_data"
    }
   ],
   "source": [
    "group_means = [1, 5, 7, 9]\n",
    "groups = np.random.randn(100, 4) + group_means\n",
    "\n",
    "fig, axs = plt.subplots(1, 2, figsize=(10, 5), sharex=True)\n",
    "\n",
    "axs[0].hist(groups.ravel())\n",
    "axs[0].set(title='Full data std: {:.4f}'.format(groups.ravel().std()))\n",
    "\n",
    "for group in groups.T:\n",
    "    std_within = groups.std(0).mean()\n",
    "    axs[1].hist(group)\n",
    "    axs[1].set(title='Within group std: {:.4f}'.format(std_within))"
   ]
  },
  {
   "cell_type": "markdown",
   "metadata": {
    "slideshow": {
     "slide_type": "subslide"
    }
   },
   "source": [
    "Let's see how this looks on our data. We'll include the \"year\" variable in our inter-continental comparison. This means we'll have many values collected over time from the same group."
   ]
  },
  {
   "cell_type": "code",
   "execution_count": 33,
   "metadata": {
    "collapsed": true
   },
   "outputs": [],
   "source": [
    "# Get our data ready for the test\n",
    "data_continent_by_year = data.query('continent in [@continent_1, @continent_2]')\n",
    "data_continent_by_year = data_continent_by_year.groupby(['year', 'continent']).mean()['gdppercap']\n",
    "data_continent_by_year_tidy = data_continent_by_year.reset_index()\n",
    "data_continent_by_year = data_continent_by_year.unstack('continent')"
   ]
  },
  {
   "cell_type": "code",
   "execution_count": 34,
   "metadata": {
    "slideshow": {
     "slide_type": "subslide"
    }
   },
   "outputs": [
    {
     "data": {
      "text/plain": [
       "<matplotlib.axes._subplots.AxesSubplot at 0x11762dba8>"
      ]
     },
     "execution_count": 34,
     "metadata": {},
     "output_type": "execute_result"
    },
    {
     "data": {
      "image/png": "[encoded data removed]",
      "text/plain": [
       "<matplotlib.figure.Figure at 0x116705b38>"
      ]
     },
     "metadata": {},
     "output_type": "display_data"
    }
   ],
   "source": [
    "# Here's what the two groups look like\n",
    "data_cont_1 = data_continent_by_year[continent_1]\n",
    "data_cont_2 = data_continent_by_year[continent_2]\n",
    "\n",
    "fig, ax = plt.subplots()\n",
    "data_cont_1.hist()\n",
    "data_cont_2.hist(alpha=.8)"
   ]
  },
  {
   "cell_type": "markdown",
   "metadata": {},
   "source": [
    "When we make a comparison, it looks like there isn't a difference between them:"
   ]
  },
  {
   "cell_type": "code",
   "execution_count": 35,
   "metadata": {
    "scrolled": true
   },
   "outputs": [
    {
     "data": {
      "text/plain": [
       "Ttest_indResult(statistic=1.620113554644925, pvalue=0.11945479907854753)"
      ]
     },
     "execution_count": 35,
     "metadata": {},
     "output_type": "execute_result"
    }
   ],
   "source": [
    "stt.ttest_ind(data_cont_1, data_cont_2)"
   ]
  },
  {
   "cell_type": "markdown",
   "metadata": {
    "slideshow": {
     "slide_type": "subslide"
    }
   },
   "source": [
    "However, a factorplot can be a useful way to visualize these kinds of trends. If we add color, we can see that there's a consistent difference between the two each year."
   ]
  },
  {
   "cell_type": "code",
   "execution_count": 36,
   "metadata": {},
   "outputs": [
    {
     "data": {
      "text/plain": [
       "<seaborn.axisgrid.FacetGrid at 0x117140898>"
      ]
     },
     "execution_count": 36,
     "metadata": {},
     "output_type": "execute_result"
    },
    {
     "data": {
      "image/png": "[encoded data removed]",
      "text/plain": [
       "<matplotlib.figure.Figure at 0x116a2ca58>"
      ]
     },
     "metadata": {},
     "output_type": "display_data"
    }
   ],
   "source": [
    "sns.factorplot('continent', 'gdppercap', data=data_continent_by_year_tidy, hue='year')"
   ]
  },
  {
   "cell_type": "markdown",
   "metadata": {},
   "source": [
    "So, we'll subtract these two groups **first**. The result will be one distribution for the difference between the groups within each year."
   ]
  },
  {
   "cell_type": "code",
   "execution_count": 37,
   "metadata": {},
   "outputs": [
    {
     "data": {
      "text/plain": [
       "year\n",
       "1952    2168.722952\n",
       "1957    2300.018685\n",
       "1962    1867.037084\n",
       "1967    1261.476270\n",
       "1972    2982.514345\n",
       "dtype: float64"
      ]
     },
     "execution_count": 37,
     "metadata": {},
     "output_type": "execute_result"
    }
   ],
   "source": [
    "diffs = data_cont_1 - data_cont_2\n",
    "diffs.head()"
   ]
  },
  {
   "cell_type": "markdown",
   "metadata": {},
   "source": [
    "Now, we can run a simple 1-sample t-test for a difference:"
   ]
  },
  {
   "cell_type": "code",
   "execution_count": 38,
   "metadata": {},
   "outputs": [
    {
     "data": {
      "text/plain": [
       "Ttest_1sampResult(statistic=4.6348597378050043, pvalue=0.00072266590472619993)"
      ]
     },
     "execution_count": 38,
     "metadata": {},
     "output_type": "execute_result"
    }
   ],
   "source": [
    "stt.ttest_1samp(diffs, 0)"
   ]
  },
  {
   "cell_type": "markdown",
   "metadata": {
    "slideshow": {
     "slide_type": "slide"
    }
   },
   "source": [
    "# Linear models\n",
    "\n",
    "Finally, we'd be remiss not to cover a statistical concept that has been underlying everything we've done so far: the linear model.\n",
    "\n",
    "Linear models are perhaps most often used to correlate two continuous variables.\n",
    "\n",
    "Below, we'll look at how the type of government, murder rate, and life expectancy are all related."
   ]
  },
  {
   "cell_type": "code",
   "execution_count": 39,
   "metadata": {
    "collapsed": true
   },
   "outputs": [],
   "source": [
    "# Add the log murder rate to our data for use later\n",
    "data['log_murder_rate'] = np.log(data['murder_rate'])\n",
    "\n",
    "# We'll average across years to keep this more manageable\n",
    "keep_descriptions = ['republic', 'parliamentary democr', 'constitutional monar']\n",
    "data_avg = data.groupby(['country', 'continent', 'description']).mean().reset_index()\n",
    "data_avg = data_avg.query('description in @keep_descriptions')"
   ]
  },
  {
   "cell_type": "markdown",
   "metadata": {},
   "source": [
    "Linear modeling essentially just means fitting a line to some data. This is also known as *regression*. Remember this is easy to visualize in seaborn:"
   ]
  },
  {
   "cell_type": "code",
   "execution_count": 40,
   "metadata": {},
   "outputs": [
    {
     "data": {
      "text/plain": [
       "<matplotlib.axes._subplots.AxesSubplot at 0x117a47908>"
      ]
     },
     "execution_count": 40,
     "metadata": {},
     "output_type": "execute_result"
    },
    {
     "data": {
      "image/png": "[encoded data removed]",
      "text/plain": [
       "<matplotlib.figure.Figure at 0x117a691d0>"
      ]
     },
     "metadata": {},
     "output_type": "display_data"
    }
   ],
   "source": [
    "sns.regplot('murder_rate', 'life_exp', data=data_avg)"
   ]
  },
  {
   "cell_type": "markdown",
   "metadata": {
    "slideshow": {
     "slide_type": "subslide"
    }
   },
   "source": [
    "How do we know whether this linear relationship is significant?\n",
    "\n",
    "statsmodels has an excellent collection of linear modeling features. It has a syntax similar to that of `R`. This follows this form:\n",
    "\n",
    "```\n",
    "y ~ x1 + x2\n",
    "```\n",
    "\n",
    "The above form means \"model the variable 'y' with the variables 'x1' and 'x2'\""
   ]
  },
  {
   "cell_type": "code",
   "execution_count": 41,
   "metadata": {},
   "outputs": [
    {
     "data": {
      "text/html": [
       "<table class=\"simpletable\">\n",
       "<tr>\n",
       "        <td>Model:</td>               <td>OLS</td>         <td>Adj. R-squared:</td>     <td>0.065</td> \n",
       "</tr>\n",
       "<tr>\n",
       "  <td>Dependent Variable:</td>     <td>life_exp</td>            <td>AIC:</td>         <td>493.8990</td>\n",
       "</tr>\n",
       "<tr>\n",
       "         <td>Date:</td>        <td>2017-05-07 10:42</td>        <td>BIC:</td>         <td>498.2478</td>\n",
       "</tr>\n",
       "<tr>\n",
       "   <td>No. Observations:</td>         <td>65</td>          <td>Log-Likelihood:</td>    <td>-244.95</td>\n",
       "</tr>\n",
       "<tr>\n",
       "       <td>Df Model:</td>              <td>1</td>           <td>F-statistic:</td>       <td>5.441</td> \n",
       "</tr>\n",
       "<tr>\n",
       "     <td>Df Residuals:</td>           <td>63</td>        <td>Prob (F-statistic):</td>  <td>0.0229</td> \n",
       "</tr>\n",
       "<tr>\n",
       "      <td>R-squared:</td>            <td>0.080</td>            <td>Scale:</td>         <td>113.33</td> \n",
       "</tr>\n",
       "</table>\n",
       "<table class=\"simpletable\">\n",
       "<tr>\n",
       "       <td></td>        <th>Coef.</th>  <th>Std.Err.</th>    <th>t</th>     <th>P>|t|</th> <th>[0.025</th>  <th>0.975]</th> \n",
       "</tr>\n",
       "<tr>\n",
       "  <th>Intercept</th>   <td>60.8506</td>  <td>1.4839</td>  <td>41.0069</td> <td>0.0000</td> <td>57.8852</td> <td>63.8159</td>\n",
       "</tr>\n",
       "<tr>\n",
       "  <th>murder_rate</th> <td>-0.0009</td>  <td>0.0004</td>  <td>-2.3327</td> <td>0.0229</td> <td>-0.0016</td> <td>-0.0001</td>\n",
       "</tr>\n",
       "</table>\n",
       "<table class=\"simpletable\">\n",
       "<tr>\n",
       "     <td>Omnibus:</td>    <td>14.374</td>  <td>Durbin-Watson:</td>   <td>1.827</td>\n",
       "</tr>\n",
       "<tr>\n",
       "  <td>Prob(Omnibus):</td>  <td>0.001</td> <td>Jarque-Bera (JB):</td> <td>4.526</td>\n",
       "</tr>\n",
       "<tr>\n",
       "       <td>Skew:</td>     <td>-0.314</td>     <td>Prob(JB):</td>     <td>0.104</td>\n",
       "</tr>\n",
       "<tr>\n",
       "     <td>Kurtosis:</td>    <td>1.870</td>  <td>Condition No.:</td>   <td>4504</td> \n",
       "</tr>\n",
       "</table>"
      ],
      "text/plain": [
       "<class 'statsmodels.iolib.summary2.Summary'>\n",
       "\"\"\"\n",
       "                 Results: Ordinary least squares\n",
       "=================================================================\n",
       "Model:              OLS              Adj. R-squared:     0.065   \n",
       "Dependent Variable: life_exp         AIC:                493.8990\n",
       "Date:               2017-05-07 10:42 BIC:                498.2478\n",
       "No. Observations:   65               Log-Likelihood:     -244.95 \n",
       "Df Model:           1                F-statistic:        5.441   \n",
       "Df Residuals:       63               Prob (F-statistic): 0.0229  \n",
       "R-squared:          0.080            Scale:              113.33  \n",
       "------------------------------------------------------------------\n",
       "               Coef.   Std.Err.     t     P>|t|    [0.025   0.975]\n",
       "------------------------------------------------------------------\n",
       "Intercept     60.8506    1.4839  41.0069  0.0000  57.8852  63.8159\n",
       "murder_rate   -0.0009    0.0004  -2.3327  0.0229  -0.0016  -0.0001\n",
       "-----------------------------------------------------------------\n",
       "Omnibus:               14.374       Durbin-Watson:          1.827\n",
       "Prob(Omnibus):         0.001        Jarque-Bera (JB):       4.526\n",
       "Skew:                  -0.314       Prob(JB):               0.104\n",
       "Kurtosis:              1.870        Condition No.:          4504 \n",
       "=================================================================\n",
       "* The condition number is large (5e+03). This might indicate\n",
       "strong multicollinearity or other numerical problems.\n",
       "\"\"\""
      ]
     },
     "execution_count": 41,
     "metadata": {},
     "output_type": "execute_result"
    }
   ],
   "source": [
    "# We call this linear model with the following lines:\n",
    "lm = sm.formula.ols('life_exp ~ murder_rate', data=data_avg).fit()\n",
    "lm.summary2()"
   ]
  },
  {
   "cell_type": "markdown",
   "metadata": {
    "slideshow": {
     "slide_type": "subslide"
    }
   },
   "source": [
    "However, remember that linear modeling is best-done with roughly symmetric and non-skewed data"
   ]
  },
  {
   "cell_type": "code",
   "execution_count": 42,
   "metadata": {},
   "outputs": [
    {
     "data": {
      "text/plain": [
       "<matplotlib.axes._subplots.AxesSubplot at 0x117bc36a0>"
      ]
     },
     "execution_count": 42,
     "metadata": {},
     "output_type": "execute_result"
    },
    {
     "data": {
      "image/png": "[encoded data removed]",
      "text/plain": [
       "<matplotlib.figure.Figure at 0x117aa3c50>"
      ]
     },
     "metadata": {},
     "output_type": "display_data"
    }
   ],
   "source": [
    "sns.regplot('log_murder_rate', 'life_exp', data=data_avg)"
   ]
  },
  {
   "cell_type": "code",
   "execution_count": 43,
   "metadata": {},
   "outputs": [
    {
     "data": {
      "text/html": [
       "<table class=\"simpletable\">\n",
       "<tr>\n",
       "        <td>Model:</td>               <td>OLS</td>         <td>Adj. R-squared:</td>     <td>0.189</td> \n",
       "</tr>\n",
       "<tr>\n",
       "  <td>Dependent Variable:</td>     <td>life_exp</td>            <td>AIC:</td>         <td>484.6806</td>\n",
       "</tr>\n",
       "<tr>\n",
       "         <td>Date:</td>        <td>2017-05-07 10:42</td>        <td>BIC:</td>         <td>489.0294</td>\n",
       "</tr>\n",
       "<tr>\n",
       "   <td>No. Observations:</td>         <td>65</td>          <td>Log-Likelihood:</td>    <td>-240.34</td>\n",
       "</tr>\n",
       "<tr>\n",
       "       <td>Df Model:</td>              <td>1</td>           <td>F-statistic:</td>       <td>15.87</td> \n",
       "</tr>\n",
       "<tr>\n",
       "     <td>Df Residuals:</td>           <td>63</td>        <td>Prob (F-statistic):</td> <td>0.000179</td>\n",
       "</tr>\n",
       "<tr>\n",
       "      <td>R-squared:</td>            <td>0.201</td>            <td>Scale:</td>         <td>98.343</td> \n",
       "</tr>\n",
       "</table>\n",
       "<table class=\"simpletable\">\n",
       "<tr>\n",
       "         <td></td>          <th>Coef.</th>  <th>Std.Err.</th>    <th>t</th>     <th>P>|t|</th> <th>[0.025</th>  <th>0.975]</th> \n",
       "</tr>\n",
       "<tr>\n",
       "  <th>Intercept</th>       <td>75.7642</td>  <td>4.3190</td>  <td>17.5421</td> <td>0.0000</td> <td>67.1333</td> <td>84.3950</td>\n",
       "</tr>\n",
       "<tr>\n",
       "  <th>log_murder_rate</th> <td>-2.6875</td>  <td>0.6746</td>  <td>-3.9837</td> <td>0.0002</td> <td>-4.0356</td> <td>-1.3394</td>\n",
       "</tr>\n",
       "</table>\n",
       "<table class=\"simpletable\">\n",
       "<tr>\n",
       "     <td>Omnibus:</td>     <td>5.537</td>  <td>Durbin-Watson:</td>   <td>1.981</td>\n",
       "</tr>\n",
       "<tr>\n",
       "  <td>Prob(Omnibus):</td>  <td>0.063</td> <td>Jarque-Bera (JB):</td> <td>3.360</td>\n",
       "</tr>\n",
       "<tr>\n",
       "       <td>Skew:</td>     <td>-0.366</td>     <td>Prob(JB):</td>     <td>0.186</td>\n",
       "</tr>\n",
       "<tr>\n",
       "     <td>Kurtosis:</td>    <td>2.161</td>  <td>Condition No.:</td>    <td>23</td>  \n",
       "</tr>\n",
       "</table>"
      ],
      "text/plain": [
       "<class 'statsmodels.iolib.summary2.Summary'>\n",
       "\"\"\"\n",
       "                 Results: Ordinary least squares\n",
       "=================================================================\n",
       "Model:              OLS              Adj. R-squared:     0.189   \n",
       "Dependent Variable: life_exp         AIC:                484.6806\n",
       "Date:               2017-05-07 10:42 BIC:                489.0294\n",
       "No. Observations:   65               Log-Likelihood:     -240.34 \n",
       "Df Model:           1                F-statistic:        15.87   \n",
       "Df Residuals:       63               Prob (F-statistic): 0.000179\n",
       "R-squared:          0.201            Scale:              98.343  \n",
       "-----------------------------------------------------------------\n",
       "                   Coef.  Std.Err.    t    P>|t|   [0.025  0.975]\n",
       "-----------------------------------------------------------------\n",
       "Intercept         75.7642   4.3190 17.5421 0.0000 67.1333 84.3950\n",
       "log_murder_rate   -2.6875   0.6746 -3.9837 0.0002 -4.0356 -1.3394\n",
       "-----------------------------------------------------------------\n",
       "Omnibus:               5.537        Durbin-Watson:          1.981\n",
       "Prob(Omnibus):         0.063        Jarque-Bera (JB):       3.360\n",
       "Skew:                  -0.366       Prob(JB):               0.186\n",
       "Kurtosis:              2.161        Condition No.:          23   \n",
       "=================================================================\n",
       "\n",
       "\"\"\""
      ]
     },
     "execution_count": 43,
     "metadata": {},
     "output_type": "execute_result"
    }
   ],
   "source": [
    "lm = sm.formula.ols('life_exp ~ log_murder_rate', data=data_avg).fit()\n",
    "lm.summary2()"
   ]
  },
  {
   "cell_type": "markdown",
   "metadata": {
    "slideshow": {
     "slide_type": "subslide"
    }
   },
   "source": [
    "We can also fit a linear model with a *categorical* input variable. In this case, the continent:"
   ]
  },
  {
   "cell_type": "code",
   "execution_count": 44,
   "metadata": {},
   "outputs": [
    {
     "data": {
      "text/html": [
       "<table class=\"simpletable\">\n",
       "<tr>\n",
       "        <td>Model:</td>               <td>OLS</td>         <td>Adj. R-squared:</td>     <td>0.715</td> \n",
       "</tr>\n",
       "<tr>\n",
       "  <td>Dependent Variable:</td>     <td>life_exp</td>            <td>AIC:</td>         <td>419.6086</td>\n",
       "</tr>\n",
       "<tr>\n",
       "         <td>Date:</td>        <td>2017-05-07 10:42</td>        <td>BIC:</td>         <td>430.4805</td>\n",
       "</tr>\n",
       "<tr>\n",
       "   <td>No. Observations:</td>         <td>65</td>          <td>Log-Likelihood:</td>    <td>-204.80</td>\n",
       "</tr>\n",
       "<tr>\n",
       "       <td>Df Model:</td>              <td>4</td>           <td>F-statistic:</td>       <td>41.04</td> \n",
       "</tr>\n",
       "<tr>\n",
       "     <td>Df Residuals:</td>           <td>60</td>        <td>Prob (F-statistic):</td> <td>1.54e-16</td>\n",
       "</tr>\n",
       "<tr>\n",
       "      <td>R-squared:</td>            <td>0.732</td>            <td>Scale:</td>         <td>34.599</td> \n",
       "</tr>\n",
       "</table>\n",
       "<table class=\"simpletable\">\n",
       "<tr>\n",
       "            <td></td>             <th>Coef.</th>  <th>Std.Err.</th>    <th>t</th>     <th>P>|t|</th> <th>[0.025</th>  <th>0.975]</th> \n",
       "</tr>\n",
       "<tr>\n",
       "  <th>Intercept</th>             <td>49.5873</td>  <td>1.1116</td>  <td>44.6082</td> <td>0.0000</td> <td>47.3637</td> <td>51.8108</td>\n",
       "</tr>\n",
       "<tr>\n",
       "  <th>continent[T.americas]</th> <td>11.2613</td>  <td>2.3581</td>  <td>4.7756</td>  <td>0.0000</td> <td>6.5444</td>  <td>15.9782</td>\n",
       "</tr>\n",
       "<tr>\n",
       "  <th>continent[T.asia]</th>     <td>12.1971</td>  <td>2.0931</td>  <td>5.8273</td>  <td>0.0000</td> <td>8.0103</td>  <td>16.3840</td>\n",
       "</tr>\n",
       "<tr>\n",
       "  <th>continent[T.europe]</th>   <td>22.3992</td>  <td>1.8086</td>  <td>12.3850</td> <td>0.0000</td> <td>18.7815</td> <td>26.0169</td>\n",
       "</tr>\n",
       "<tr>\n",
       "  <th>continent[T.oceania]</th>  <td>24.4022</td>  <td>5.9862</td>  <td>4.0764</td>  <td>0.0001</td> <td>12.4280</td> <td>36.3765</td>\n",
       "</tr>\n",
       "</table>\n",
       "<table class=\"simpletable\">\n",
       "<tr>\n",
       "     <td>Omnibus:</td>    <td>0.757</td>  <td>Durbin-Watson:</td>   <td>1.922</td>\n",
       "</tr>\n",
       "<tr>\n",
       "  <td>Prob(Omnibus):</td> <td>0.685</td> <td>Jarque-Bera (JB):</td> <td>0.651</td>\n",
       "</tr>\n",
       "<tr>\n",
       "       <td>Skew:</td>     <td>0.239</td>     <td>Prob(JB):</td>     <td>0.722</td>\n",
       "</tr>\n",
       "<tr>\n",
       "     <td>Kurtosis:</td>   <td>2.893</td>  <td>Condition No.:</td>     <td>9</td>  \n",
       "</tr>\n",
       "</table>"
      ],
      "text/plain": [
       "<class 'statsmodels.iolib.summary2.Summary'>\n",
       "\"\"\"\n",
       "                   Results: Ordinary least squares\n",
       "=====================================================================\n",
       "Model:                OLS               Adj. R-squared:      0.715   \n",
       "Dependent Variable:   life_exp          AIC:                 419.6086\n",
       "Date:                 2017-05-07 10:42  BIC:                 430.4805\n",
       "No. Observations:     65                Log-Likelihood:      -204.80 \n",
       "Df Model:             4                 F-statistic:         41.04   \n",
       "Df Residuals:         60                Prob (F-statistic):  1.54e-16\n",
       "R-squared:            0.732             Scale:               34.599  \n",
       "---------------------------------------------------------------------\n",
       "                       Coef.  Std.Err.    t    P>|t|   [0.025  0.975]\n",
       "---------------------------------------------------------------------\n",
       "Intercept             49.5873   1.1116 44.6082 0.0000 47.3637 51.8108\n",
       "continent[T.americas] 11.2613   2.3581  4.7756 0.0000  6.5444 15.9782\n",
       "continent[T.asia]     12.1971   2.0931  5.8273 0.0000  8.0103 16.3840\n",
       "continent[T.europe]   22.3992   1.8086 12.3850 0.0000 18.7815 26.0169\n",
       "continent[T.oceania]  24.4022   5.9862  4.0764 0.0001 12.4280 36.3765\n",
       "---------------------------------------------------------------------\n",
       "Omnibus:                0.757         Durbin-Watson:            1.922\n",
       "Prob(Omnibus):          0.685         Jarque-Bera (JB):         0.651\n",
       "Skew:                   0.239         Prob(JB):                 0.722\n",
       "Kurtosis:               2.893         Condition No.:            9    \n",
       "=====================================================================\n",
       "\n",
       "\"\"\""
      ]
     },
     "execution_count": 44,
     "metadata": {},
     "output_type": "execute_result"
    }
   ],
   "source": [
    "lm = sm.formula.ols('life_exp ~ continent', data=data_avg).fit()\n",
    "lm.summary2()"
   ]
  },
  {
   "cell_type": "markdown",
   "metadata": {
    "slideshow": {
     "slide_type": "subslide"
    }
   },
   "source": [
    "If we have multiple variables, we only need to add them with a `+` symbol:"
   ]
  },
  {
   "cell_type": "code",
   "execution_count": 45,
   "metadata": {},
   "outputs": [
    {
     "data": {
      "text/html": [
       "<table class=\"simpletable\">\n",
       "<tr>\n",
       "        <td>Model:</td>               <td>OLS</td>         <td>Adj. R-squared:</td>     <td>0.728</td> \n",
       "</tr>\n",
       "<tr>\n",
       "  <td>Dependent Variable:</td>     <td>life_exp</td>            <td>AIC:</td>         <td>418.1702</td>\n",
       "</tr>\n",
       "<tr>\n",
       "         <td>Date:</td>        <td>2017-05-07 10:42</td>        <td>BIC:</td>         <td>433.3909</td>\n",
       "</tr>\n",
       "<tr>\n",
       "   <td>No. Observations:</td>         <td>65</td>          <td>Log-Likelihood:</td>    <td>-202.09</td>\n",
       "</tr>\n",
       "<tr>\n",
       "       <td>Df Model:</td>              <td>6</td>           <td>F-statistic:</td>       <td>29.60</td> \n",
       "</tr>\n",
       "<tr>\n",
       "     <td>Df Residuals:</td>           <td>58</td>        <td>Prob (F-statistic):</td> <td>5.99e-16</td>\n",
       "</tr>\n",
       "<tr>\n",
       "      <td>R-squared:</td>            <td>0.754</td>            <td>Scale:</td>         <td>32.920</td> \n",
       "</tr>\n",
       "</table>\n",
       "<table class=\"simpletable\">\n",
       "<tr>\n",
       "                   <td></td>                    <th>Coef.</th>  <th>Std.Err.</th>    <th>t</th>     <th>P>|t|</th> <th>[0.025</th>  <th>0.975]</th> \n",
       "</tr>\n",
       "<tr>\n",
       "  <th>Intercept</th>                           <td>54.2712</td>  <td>2.4277</td>  <td>22.3553</td> <td>0.0000</td> <td>49.4117</td> <td>59.1307</td>\n",
       "</tr>\n",
       "<tr>\n",
       "  <th>continent[T.americas]</th>               <td>11.3044</td>  <td>2.3030</td>  <td>4.9086</td>  <td>0.0000</td> <td>6.6945</td>  <td>15.9143</td>\n",
       "</tr>\n",
       "<tr>\n",
       "  <th>continent[T.asia]</th>                   <td>10.0266</td>  <td>2.2659</td>  <td>4.4249</td>  <td>0.0000</td> <td>5.4908</td>  <td>14.5623</td>\n",
       "</tr>\n",
       "<tr>\n",
       "  <th>continent[T.europe]</th>                 <td>20.5247</td>  <td>1.9684</td>  <td>10.4272</td> <td>0.0000</td> <td>16.5846</td> <td>24.4649</td>\n",
       "</tr>\n",
       "<tr>\n",
       "  <th>continent[T.oceania]</th>                <td>22.2045</td>  <td>6.1480</td>  <td>3.6116</td>  <td>0.0006</td> <td>9.8979</td>  <td>34.5112</td>\n",
       "</tr>\n",
       "<tr>\n",
       "  <th>description[T.parliamentary democr]</th> <td>-2.4862</td>  <td>2.5310</td>  <td>-0.9823</td> <td>0.3300</td> <td>-7.5526</td> <td>2.5801</td> \n",
       "</tr>\n",
       "<tr>\n",
       "  <th>description[T.republic]</th>             <td>-5.0471</td>  <td>2.3009</td>  <td>-2.1935</td> <td>0.0323</td> <td>-9.6529</td> <td>-0.4414</td>\n",
       "</tr>\n",
       "</table>\n",
       "<table class=\"simpletable\">\n",
       "<tr>\n",
       "     <td>Omnibus:</td>    <td>0.877</td>  <td>Durbin-Watson:</td>   <td>1.778</td>\n",
       "</tr>\n",
       "<tr>\n",
       "  <td>Prob(Omnibus):</td> <td>0.645</td> <td>Jarque-Bera (JB):</td> <td>0.770</td>\n",
       "</tr>\n",
       "<tr>\n",
       "       <td>Skew:</td>     <td>0.260</td>     <td>Prob(JB):</td>     <td>0.681</td>\n",
       "</tr>\n",
       "<tr>\n",
       "     <td>Kurtosis:</td>   <td>2.882</td>  <td>Condition No.:</td>    <td>11</td>  \n",
       "</tr>\n",
       "</table>"
      ],
      "text/plain": [
       "<class 'statsmodels.iolib.summary2.Summary'>\n",
       "\"\"\"\n",
       "                          Results: Ordinary least squares\n",
       "===================================================================================\n",
       "Model:                    OLS                    Adj. R-squared:           0.728   \n",
       "Dependent Variable:       life_exp               AIC:                      418.1702\n",
       "Date:                     2017-05-07 10:42       BIC:                      433.3909\n",
       "No. Observations:         65                     Log-Likelihood:           -202.09 \n",
       "Df Model:                 6                      F-statistic:              29.60   \n",
       "Df Residuals:             58                     Prob (F-statistic):       5.99e-16\n",
       "R-squared:                0.754                  Scale:                    32.920  \n",
       "-----------------------------------------------------------------------------------\n",
       "                                     Coef.  Std.Err.    t    P>|t|   [0.025  0.975]\n",
       "-----------------------------------------------------------------------------------\n",
       "Intercept                           54.2712   2.4277 22.3553 0.0000 49.4117 59.1307\n",
       "continent[T.americas]               11.3044   2.3030  4.9086 0.0000  6.6945 15.9143\n",
       "continent[T.asia]                   10.0266   2.2659  4.4249 0.0000  5.4908 14.5623\n",
       "continent[T.europe]                 20.5247   1.9684 10.4272 0.0000 16.5846 24.4649\n",
       "continent[T.oceania]                22.2045   6.1480  3.6116 0.0006  9.8979 34.5112\n",
       "description[T.parliamentary democr] -2.4862   2.5310 -0.9823 0.3300 -7.5526  2.5801\n",
       "description[T.republic]             -5.0471   2.3009 -2.1935 0.0323 -9.6529 -0.4414\n",
       "-----------------------------------------------------------------------------------\n",
       "Omnibus:                    0.877              Durbin-Watson:                 1.778\n",
       "Prob(Omnibus):              0.645              Jarque-Bera (JB):              0.770\n",
       "Skew:                       0.260              Prob(JB):                      0.681\n",
       "Kurtosis:                   2.882              Condition No.:                 11   \n",
       "===================================================================================\n",
       "\n",
       "\"\"\""
      ]
     },
     "execution_count": 45,
     "metadata": {},
     "output_type": "execute_result"
    }
   ],
   "source": [
    "lm = sm.formula.ols('life_exp ~ continent + description', data=data_avg).fit()\n",
    "lm.summary2()"
   ]
  },
  {
   "cell_type": "markdown",
   "metadata": {
    "slideshow": {
     "slide_type": "subslide"
    }
   },
   "source": [
    "Finally, we can include **interaction terms** by using a `*`. This attempts to find the relationship between variables, as well as their independent effects on the output."
   ]
  },
  {
   "cell_type": "code",
   "execution_count": 46,
   "metadata": {},
   "outputs": [
    {
     "name": "stderr",
     "output_type": "stream",
     "text": [
      "/Users/choldgraf/anaconda/lib/python3.6/site-packages/statsmodels/regression/linear_model.py:1263: RuntimeWarning: divide by zero encountered in double_scalars\n",
      "  return np.sqrt(eigvals[0]/eigvals[-1])\n",
      "/Users/choldgraf/anaconda/lib/python3.6/site-packages/statsmodels/base/model.py:978: RuntimeWarning: invalid value encountered in true_divide\n",
      "  return self.params / self.bse\n",
      "/Users/choldgraf/anaconda/lib/python3.6/site-packages/scipy/stats/_distn_infrastructure.py:875: RuntimeWarning: invalid value encountered in greater\n",
      "  return (self.a < x) & (x < self.b)\n",
      "/Users/choldgraf/anaconda/lib/python3.6/site-packages/scipy/stats/_distn_infrastructure.py:875: RuntimeWarning: invalid value encountered in less\n",
      "  return (self.a < x) & (x < self.b)\n",
      "/Users/choldgraf/anaconda/lib/python3.6/site-packages/scipy/stats/_distn_infrastructure.py:1814: RuntimeWarning: invalid value encountered in less_equal\n",
      "  cond2 = cond0 & (x <= self.a)\n"
     ]
    },
    {
     "data": {
      "text/html": [
       "<table class=\"simpletable\">\n",
       "<tr>\n",
       "        <td>Model:</td>               <td>OLS</td>         <td>Adj. R-squared:</td>     <td>0.739</td> \n",
       "</tr>\n",
       "<tr>\n",
       "  <td>Dependent Variable:</td>     <td>life_exp</td>            <td>AIC:</td>         <td>419.8166</td>\n",
       "</tr>\n",
       "<tr>\n",
       "         <td>Date:</td>        <td>2017-05-07 10:42</td>        <td>BIC:</td>         <td>445.9092</td>\n",
       "</tr>\n",
       "<tr>\n",
       "   <td>No. Observations:</td>         <td>65</td>          <td>Log-Likelihood:</td>    <td>-197.91</td>\n",
       "</tr>\n",
       "<tr>\n",
       "       <td>Df Model:</td>             <td>11</td>           <td>F-statistic:</td>       <td>17.44</td> \n",
       "</tr>\n",
       "<tr>\n",
       "     <td>Df Residuals:</td>           <td>53</td>        <td>Prob (F-statistic):</td> <td>6.43e-14</td>\n",
       "</tr>\n",
       "<tr>\n",
       "      <td>R-squared:</td>            <td>0.784</td>            <td>Scale:</td>         <td>31.681</td> \n",
       "</tr>\n",
       "</table>\n",
       "<table class=\"simpletable\">\n",
       "<tr>\n",
       "                              <td></td>                               <th>Coef.</th>  <th>Std.Err.</th>    <th>t</th>     <th>P>|t|</th>  <th>[0.025</th>  <th>0.975]</th> \n",
       "</tr>\n",
       "<tr>\n",
       "  <th>Intercept</th>                                                 <td>57.6088</td>  <td>5.6286</td>  <td>10.2351</td> <td>0.0000</td>  <td>46.3194</td> <td>68.8983</td>\n",
       "</tr>\n",
       "<tr>\n",
       "  <th>continent[T.americas]</th>                                     <td>6.4952</td>   <td>2.4339</td>  <td>2.6686</td>  <td>0.0101</td>  <td>1.6134</td>  <td>11.3769</td>\n",
       "</tr>\n",
       "<tr>\n",
       "  <th>continent[T.asia]</th>                                         <td>5.3591</td>   <td>6.2929</td>  <td>0.8516</td>  <td>0.3983</td>  <td>-7.2628</td> <td>17.9811</td>\n",
       "</tr>\n",
       "<tr>\n",
       "  <th>continent[T.europe]</th>                                       <td>17.5834</td>  <td>6.1658</td>  <td>2.8518</td>  <td>0.0062</td>  <td>5.2165</td>  <td>29.9504</td>\n",
       "</tr>\n",
       "<tr>\n",
       "  <th>continent[T.oceania]</th>                                      <td>7.5906</td>   <td>3.4468</td>  <td>2.2022</td>  <td>0.0320</td>  <td>0.6773</td>  <td>14.5040</td>\n",
       "</tr>\n",
       "<tr>\n",
       "  <th>description[T.parliamentary democr]</th>                       <td>1.1994</td>   <td>6.8935</td>  <td>0.1740</td>  <td>0.8625</td> <td>-12.6273</td> <td>15.0261</td>\n",
       "</tr>\n",
       "<tr>\n",
       "  <th>description[T.republic]</th>                                   <td>-9.0801</td>  <td>5.7400</td>  <td>-1.5819</td> <td>0.1196</td> <td>-20.5931</td> <td>2.4329</td> \n",
       "</tr>\n",
       "<tr>\n",
       "  <th>continent[T.americas]:description[T.parliamentary democr]</th> <td>1.5246</td>   <td>4.6652</td>  <td>0.3268</td>  <td>0.7451</td>  <td>-7.8326</td> <td>10.8818</td>\n",
       "</tr>\n",
       "<tr>\n",
       "  <th>continent[T.asia]:description[T.parliamentary democr]</th>     <td>-4.1468</td>  <td>8.1241</td>  <td>-0.5104</td> <td>0.6119</td> <td>-20.4417</td> <td>12.1481</td>\n",
       "</tr>\n",
       "<tr>\n",
       "  <th>continent[T.europe]:description[T.parliamentary democr]</th>   <td>-6.5644</td>  <td>7.7584</td>  <td>-0.8461</td> <td>0.4013</td> <td>-22.1258</td> <td>8.9970</td> \n",
       "</tr>\n",
       "<tr>\n",
       "  <th>continent[T.oceania]:description[T.parliamentary democr]</th>  <td>7.5906</td>   <td>3.4468</td>  <td>2.2022</td>  <td>0.0320</td>  <td>0.6773</td>  <td>14.5040</td>\n",
       "</tr>\n",
       "<tr>\n",
       "  <th>continent[T.americas]:description[T.republic]</th>             <td>4.9705</td>   <td>2.8026</td>  <td>1.7735</td>  <td>0.0819</td>  <td>-0.6509</td> <td>10.5919</td>\n",
       "</tr>\n",
       "<tr>\n",
       "  <th>continent[T.asia]:description[T.republic]</th>                 <td>8.0358</td>   <td>6.9848</td>  <td>1.1505</td>  <td>0.2551</td>  <td>-5.9740</td> <td>22.0456</td>\n",
       "</tr>\n",
       "<tr>\n",
       "  <th>continent[T.europe]:description[T.republic]</th>               <td>5.1268</td>   <td>6.6189</td>  <td>0.7746</td>  <td>0.4420</td>  <td>-8.1490</td> <td>18.4026</td>\n",
       "</tr>\n",
       "<tr>\n",
       "  <th>continent[T.oceania]:description[T.republic]</th>              <td>0.0000</td>   <td>0.0000</td>    <td>nan</td>     <td>nan</td>   <td>0.0000</td>  <td>0.0000</td> \n",
       "</tr>\n",
       "</table>\n",
       "<table class=\"simpletable\">\n",
       "<tr>\n",
       "     <td>Omnibus:</td>    <td>2.446</td>  <td>Durbin-Watson:</td>   <td>1.755</td>\n",
       "</tr>\n",
       "<tr>\n",
       "  <td>Prob(Omnibus):</td> <td>0.294</td> <td>Jarque-Bera (JB):</td> <td>1.797</td>\n",
       "</tr>\n",
       "<tr>\n",
       "       <td>Skew:</td>     <td>0.393</td>     <td>Prob(JB):</td>     <td>0.407</td>\n",
       "</tr>\n",
       "<tr>\n",
       "     <td>Kurtosis:</td>   <td>3.212</td>  <td>Condition No.:</td>    <td>inf</td> \n",
       "</tr>\n",
       "</table>"
      ],
      "text/plain": [
       "<class 'statsmodels.iolib.summary2.Summary'>\n",
       "\"\"\"\n",
       "                                     Results: Ordinary least squares\n",
       "==========================================================================================================\n",
       "Model:                             OLS                           Adj. R-squared:                  0.739   \n",
       "Dependent Variable:                life_exp                      AIC:                             419.8166\n",
       "Date:                              2017-05-07 10:42              BIC:                             445.9092\n",
       "No. Observations:                  65                            Log-Likelihood:                  -197.91 \n",
       "Df Model:                          11                            F-statistic:                     17.44   \n",
       "Df Residuals:                      53                            Prob (F-statistic):              6.43e-14\n",
       "R-squared:                         0.784                         Scale:                           31.681  \n",
       "----------------------------------------------------------------------------------------------------------\n",
       "                                                           Coef.  Std.Err.    t    P>|t|   [0.025   0.975]\n",
       "----------------------------------------------------------------------------------------------------------\n",
       "Intercept                                                 57.6088   5.6286 10.2351 0.0000  46.3194 68.8983\n",
       "continent[T.americas]                                      6.4952   2.4339  2.6686 0.0101   1.6134 11.3769\n",
       "continent[T.asia]                                          5.3591   6.2929  0.8516 0.3983  -7.2628 17.9811\n",
       "continent[T.europe]                                       17.5834   6.1658  2.8518 0.0062   5.2165 29.9504\n",
       "continent[T.oceania]                                       7.5906   3.4468  2.2022 0.0320   0.6773 14.5040\n",
       "description[T.parliamentary democr]                        1.1994   6.8935  0.1740 0.8625 -12.6273 15.0261\n",
       "description[T.republic]                                   -9.0801   5.7400 -1.5819 0.1196 -20.5931  2.4329\n",
       "continent[T.americas]:description[T.parliamentary democr]  1.5246   4.6652  0.3268 0.7451  -7.8326 10.8818\n",
       "continent[T.asia]:description[T.parliamentary democr]     -4.1468   8.1241 -0.5104 0.6119 -20.4417 12.1481\n",
       "continent[T.europe]:description[T.parliamentary democr]   -6.5644   7.7584 -0.8461 0.4013 -22.1258  8.9970\n",
       "continent[T.oceania]:description[T.parliamentary democr]   7.5906   3.4468  2.2022 0.0320   0.6773 14.5040\n",
       "continent[T.americas]:description[T.republic]              4.9705   2.8026  1.7735 0.0819  -0.6509 10.5919\n",
       "continent[T.asia]:description[T.republic]                  8.0358   6.9848  1.1505 0.2551  -5.9740 22.0456\n",
       "continent[T.europe]:description[T.republic]                5.1268   6.6189  0.7746 0.4420  -8.1490 18.4026\n",
       "continent[T.oceania]:description[T.republic]               0.0000   0.0000     nan    nan   0.0000  0.0000\n",
       "----------------------------------------------------------------------------------------------------------\n",
       "Omnibus:                             2.446                     Durbin-Watson:                        1.755\n",
       "Prob(Omnibus):                       0.294                     Jarque-Bera (JB):                     1.797\n",
       "Skew:                                0.393                     Prob(JB):                             0.407\n",
       "Kurtosis:                            3.212                     Condition No.:                        inf  \n",
       "==========================================================================================================\n",
       "* The condition number is large (inf). This might indicate             strong multicollinearity or other\n",
       "numerical problems.\n",
       "\"\"\""
      ]
     },
     "execution_count": 46,
     "metadata": {},
     "output_type": "execute_result"
    }
   ],
   "source": [
    "lm = sm.formula.ols('life_exp ~ continent * description', data=data_avg).fit()\n",
    "lm.summary2()"
   ]
  },
  {
   "cell_type": "markdown",
   "metadata": {
    "slideshow": {
     "slide_type": "fragment"
    }
   },
   "source": [
    "Again it is useful to visualize these kinds of comparisons with a factor plot. You can break down each of the coefficients as a statement made about the lines below:"
   ]
  },
  {
   "cell_type": "code",
   "execution_count": 47,
   "metadata": {},
   "outputs": [
    {
     "data": {
      "image/png": "[encoded data removed]",
      "text/plain": [
       "<matplotlib.figure.Figure at 0x1184789e8>"
      ]
     },
     "metadata": {},
     "output_type": "display_data"
    }
   ],
   "source": [
    "grid = sns.factorplot('continent', 'life_exp', data=data_avg, hue='description')\n",
    "grid.fig.set_size_inches(10, 5)"
   ]
  },
  {
   "cell_type": "markdown",
   "metadata": {
    "slideshow": {
     "slide_type": "subslide"
    }
   },
   "source": [
    "## Link to t-tests\n",
    "\n",
    "Finally - as we mentioned, most of \"tradional\" statistics are some version of the linear model. For example, below we'll show how fitting a linear model with one categorical variable is the same thing as running a t-test:"
   ]
  },
  {
   "cell_type": "code",
   "execution_count": 48,
   "metadata": {},
   "outputs": [
    {
     "data": {
      "text/html": [
       "<div>\n",
       "<table border=\"1\" class=\"dataframe\">\n",
       "  <thead>\n",
       "    <tr style=\"text-align: right;\">\n",
       "      <th></th>\n",
       "      <th>continent</th>\n",
       "      <th>life_exp</th>\n",
       "    </tr>\n",
       "  </thead>\n",
       "  <tbody>\n",
       "    <tr>\n",
       "      <th>0</th>\n",
       "      <td>americas</td>\n",
       "      <td>50.917</td>\n",
       "    </tr>\n",
       "    <tr>\n",
       "      <th>1</th>\n",
       "      <td>asia</td>\n",
       "      <td>37.373</td>\n",
       "    </tr>\n",
       "    <tr>\n",
       "      <th>2</th>\n",
       "      <td>americas</td>\n",
       "      <td>50.789</td>\n",
       "    </tr>\n",
       "    <tr>\n",
       "      <th>3</th>\n",
       "      <td>asia</td>\n",
       "      <td>37.468</td>\n",
       "    </tr>\n",
       "    <tr>\n",
       "      <th>4</th>\n",
       "      <td>americas</td>\n",
       "      <td>50.643</td>\n",
       "    </tr>\n",
       "  </tbody>\n",
       "</table>\n",
       "</div>"
      ],
      "text/plain": [
       "  continent  life_exp\n",
       "0  americas    50.917\n",
       "1      asia    37.373\n",
       "2  americas    50.789\n",
       "3      asia    37.468\n",
       "4  americas    50.643"
      ]
     },
     "execution_count": 48,
     "metadata": {},
     "output_type": "execute_result"
    }
   ],
   "source": [
    "data_continent_ols = data_continent.reset_index()\n",
    "data_continent_ols.head()"
   ]
  },
  {
   "cell_type": "code",
   "execution_count": 49,
   "metadata": {},
   "outputs": [
    {
     "data": {
      "text/plain": [
       "Ttest_indResult(statistic=-2.7663938871382028, pvalue=0.007972057037790475)"
      ]
     },
     "execution_count": 49,
     "metadata": {},
     "output_type": "execute_result"
    }
   ],
   "source": [
    "stt.ttest_ind(data_continent[continent_1], data_continent[continent_2])"
   ]
  },
  {
   "cell_type": "code",
   "execution_count": 50,
   "metadata": {},
   "outputs": [
    {
     "data": {
      "text/html": [
       "<table class=\"simpletable\">\n",
       "<tr>\n",
       "        <td>Model:</td>               <td>OLS</td>         <td>Adj. R-squared:</td>     <td>0.117</td> \n",
       "</tr>\n",
       "<tr>\n",
       "  <td>Dependent Variable:</td>     <td>life_exp</td>            <td>AIC:</td>         <td>373.3481</td>\n",
       "</tr>\n",
       "<tr>\n",
       "         <td>Date:</td>        <td>2017-05-07 10:42</td>        <td>BIC:</td>         <td>377.2118</td>\n",
       "</tr>\n",
       "<tr>\n",
       "   <td>No. Observations:</td>         <td>51</td>          <td>Log-Likelihood:</td>    <td>-184.67</td>\n",
       "</tr>\n",
       "<tr>\n",
       "       <td>Df Model:</td>              <td>1</td>           <td>F-statistic:</td>       <td>7.653</td> \n",
       "</tr>\n",
       "<tr>\n",
       "     <td>Df Residuals:</td>           <td>49</td>        <td>Prob (F-statistic):</td>  <td>0.00797</td>\n",
       "</tr>\n",
       "<tr>\n",
       "      <td>R-squared:</td>            <td>0.135</td>            <td>Scale:</td>         <td>85.136</td> \n",
       "</tr>\n",
       "</table>\n",
       "<table class=\"simpletable\">\n",
       "<tr>\n",
       "          <td></td>           <th>Coef.</th>  <th>Std.Err.</th>    <th>t</th>     <th>P>|t|</th>  <th>[0.025</th>  <th>0.975]</th> \n",
       "</tr>\n",
       "<tr>\n",
       "  <th>Intercept</th>         <td>53.2798</td>  <td>1.8454</td>  <td>28.8720</td> <td>0.0000</td>  <td>49.5714</td> <td>56.9883</td>\n",
       "</tr>\n",
       "<tr>\n",
       "  <th>continent[T.asia]</th> <td>-7.1499</td>  <td>2.5845</td>  <td>-2.7664</td> <td>0.0080</td> <td>-12.3437</td> <td>-1.9560</td>\n",
       "</tr>\n",
       "</table>\n",
       "<table class=\"simpletable\">\n",
       "<tr>\n",
       "     <td>Omnibus:</td>    <td>3.140</td>  <td>Durbin-Watson:</td>   <td>1.604</td>\n",
       "</tr>\n",
       "<tr>\n",
       "  <td>Prob(Omnibus):</td> <td>0.208</td> <td>Jarque-Bera (JB):</td> <td>1.962</td>\n",
       "</tr>\n",
       "<tr>\n",
       "       <td>Skew:</td>     <td>0.252</td>     <td>Prob(JB):</td>     <td>0.375</td>\n",
       "</tr>\n",
       "<tr>\n",
       "     <td>Kurtosis:</td>   <td>2.182</td>  <td>Condition No.:</td>     <td>3</td>  \n",
       "</tr>\n",
       "</table>"
      ],
      "text/plain": [
       "<class 'statsmodels.iolib.summary2.Summary'>\n",
       "\"\"\"\n",
       "                 Results: Ordinary least squares\n",
       "==================================================================\n",
       "Model:               OLS              Adj. R-squared:     0.117   \n",
       "Dependent Variable:  life_exp         AIC:                373.3481\n",
       "Date:                2017-05-07 10:42 BIC:                377.2118\n",
       "No. Observations:    51               Log-Likelihood:     -184.67 \n",
       "Df Model:            1                F-statistic:        7.653   \n",
       "Df Residuals:        49               Prob (F-statistic): 0.00797 \n",
       "R-squared:           0.135            Scale:              85.136  \n",
       "------------------------------------------------------------------\n",
       "                   Coef.  Std.Err.    t    P>|t|   [0.025   0.975]\n",
       "------------------------------------------------------------------\n",
       "Intercept         53.2798   1.8454 28.8720 0.0000  49.5714 56.9883\n",
       "continent[T.asia] -7.1499   2.5845 -2.7664 0.0080 -12.3437 -1.9560\n",
       "------------------------------------------------------------------\n",
       "Omnibus:               3.140        Durbin-Watson:           1.604\n",
       "Prob(Omnibus):         0.208        Jarque-Bera (JB):        1.962\n",
       "Skew:                  0.252        Prob(JB):                0.375\n",
       "Kurtosis:              2.182        Condition No.:           3    \n",
       "==================================================================\n",
       "\n",
       "\"\"\""
      ]
     },
     "execution_count": 50,
     "metadata": {},
     "output_type": "execute_result"
    }
   ],
   "source": [
    "lm = sm.formula.ols('life_exp ~ continent', data=data_continent_ols).fit()\n",
    "lm.summary2()"
   ]
  },
  {
   "cell_type": "markdown",
   "metadata": {
    "collapsed": true
   },
   "source": [
    "Note that the t-value found in the t-test is the same thing as the one found in the `continent[T.asia]` coefficient."
   ]
  },
  {
   "cell_type": "code",
   "execution_count": null,
   "metadata": {
    "collapsed": true
   },
   "outputs": [],
   "source": []
  }
 ],
 "metadata": {
  "celltoolbar": "Slideshow",
  "kernelspec": {
   "display_name": "Python 3",
   "language": "python",
   "name": "python3"
  },
  "language_info": {
   "codemirror_mode": {
    "name": "ipython",
    "version": 3
   },
   "file_extension": ".py",
   "mimetype": "text/x-python",
   "name": "python",
   "nbconvert_exporter": "python",
   "pygments_lexer": "ipython3",
   "version": "3.6.0"
  },
  "livereveal": {
   "progress": true,
   "scroll": true,
   "start_slideshow_at": "selected"
  },
  "toc": {
   "toc_cell": false,
   "toc_number_sections": false,
   "toc_threshold": "2",
   "toc_window_display": false
  }
 },
 "nbformat": 4,
 "nbformat_minor": 2
}
